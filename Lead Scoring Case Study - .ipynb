{
 "cells": [
  {
   "cell_type": "markdown",
   "id": "edfbc3a2",
   "metadata": {},
   "source": [
    "# LEAD SCORING CASE STUDY\n",
    "<br>"
   ]
  },
  {
   "cell_type": "code",
   "execution_count": 1,
   "id": "56396749",
   "metadata": {},
   "outputs": [],
   "source": [
    "#importing necessary libraries\n",
    "\n",
    "import numpy as np\n",
    "import pandas as pd\n",
    "\n",
    "import seaborn as sns\n",
    "import matplotlib.pyplot as plt\n",
    "\n",
    "from sklearn.model_selection import train_test_split\n",
    "from sklearn.preprocessing import StandardScaler\n",
    "from sklearn.linear_model import LogisticRegression\n",
    "from sklearn.feature_selection import RFE\n",
    "from sklearn.metrics import f1_score\n",
    "\n",
    "from sklearn import metrics\n",
    "from sklearn.metrics import precision_score, recall_score\n",
    "from sklearn.metrics import precision_recall_curve\n",
    "\n",
    "import statsmodels.api as sm\n",
    "from statsmodels.stats.outliers_influence import variance_inflation_factor\n",
    "\n",
    "#supressing warnings\n",
    "\n",
    "import warnings\n",
    "warnings.filterwarnings('ignore')"
   ]
  },
  {
   "cell_type": "markdown",
   "id": "f5fc5980",
   "metadata": {},
   "source": [
    "## 1. Importing and Understanding the Data\n",
    "<br>"
   ]
  },
  {
   "cell_type": "code",
   "execution_count": 2,
   "id": "c16404c9",
   "metadata": {},
   "outputs": [
    {
     "data": {
      "text/html": [
       "<div>\n",
       "<style scoped>\n",
       "    .dataframe tbody tr th:only-of-type {\n",
       "        vertical-align: middle;\n",
       "    }\n",
       "\n",
       "    .dataframe tbody tr th {\n",
       "        vertical-align: top;\n",
       "    }\n",
       "\n",
       "    .dataframe thead th {\n",
       "        text-align: right;\n",
       "    }\n",
       "</style>\n",
       "<table border=\"1\" class=\"dataframe\">\n",
       "  <thead>\n",
       "    <tr style=\"text-align: right;\">\n",
       "      <th></th>\n",
       "      <th>Prospect ID</th>\n",
       "      <th>Lead Number</th>\n",
       "      <th>Lead Origin</th>\n",
       "      <th>Lead Source</th>\n",
       "      <th>Do Not Email</th>\n",
       "      <th>Do Not Call</th>\n",
       "      <th>Converted</th>\n",
       "      <th>TotalVisits</th>\n",
       "      <th>Total Time Spent on Website</th>\n",
       "      <th>Page Views Per Visit</th>\n",
       "      <th>...</th>\n",
       "      <th>Get updates on DM Content</th>\n",
       "      <th>Lead Profile</th>\n",
       "      <th>City</th>\n",
       "      <th>Asymmetrique Activity Index</th>\n",
       "      <th>Asymmetrique Profile Index</th>\n",
       "      <th>Asymmetrique Activity Score</th>\n",
       "      <th>Asymmetrique Profile Score</th>\n",
       "      <th>I agree to pay the amount through cheque</th>\n",
       "      <th>A free copy of Mastering The Interview</th>\n",
       "      <th>Last Notable Activity</th>\n",
       "    </tr>\n",
       "  </thead>\n",
       "  <tbody>\n",
       "    <tr>\n",
       "      <th>0</th>\n",
       "      <td>7927b2df-8bba-4d29-b9a2-b6e0beafe620</td>\n",
       "      <td>660737</td>\n",
       "      <td>API</td>\n",
       "      <td>Olark Chat</td>\n",
       "      <td>No</td>\n",
       "      <td>No</td>\n",
       "      <td>0</td>\n",
       "      <td>0.0</td>\n",
       "      <td>0</td>\n",
       "      <td>0.0</td>\n",
       "      <td>...</td>\n",
       "      <td>No</td>\n",
       "      <td>Select</td>\n",
       "      <td>Select</td>\n",
       "      <td>02.Medium</td>\n",
       "      <td>02.Medium</td>\n",
       "      <td>15.0</td>\n",
       "      <td>15.0</td>\n",
       "      <td>No</td>\n",
       "      <td>No</td>\n",
       "      <td>Modified</td>\n",
       "    </tr>\n",
       "    <tr>\n",
       "      <th>1</th>\n",
       "      <td>2a272436-5132-4136-86fa-dcc88c88f482</td>\n",
       "      <td>660728</td>\n",
       "      <td>API</td>\n",
       "      <td>Organic Search</td>\n",
       "      <td>No</td>\n",
       "      <td>No</td>\n",
       "      <td>0</td>\n",
       "      <td>5.0</td>\n",
       "      <td>674</td>\n",
       "      <td>2.5</td>\n",
       "      <td>...</td>\n",
       "      <td>No</td>\n",
       "      <td>Select</td>\n",
       "      <td>Select</td>\n",
       "      <td>02.Medium</td>\n",
       "      <td>02.Medium</td>\n",
       "      <td>15.0</td>\n",
       "      <td>15.0</td>\n",
       "      <td>No</td>\n",
       "      <td>No</td>\n",
       "      <td>Email Opened</td>\n",
       "    </tr>\n",
       "    <tr>\n",
       "      <th>2</th>\n",
       "      <td>8cc8c611-a219-4f35-ad23-fdfd2656bd8a</td>\n",
       "      <td>660727</td>\n",
       "      <td>Landing Page Submission</td>\n",
       "      <td>Direct Traffic</td>\n",
       "      <td>No</td>\n",
       "      <td>No</td>\n",
       "      <td>1</td>\n",
       "      <td>2.0</td>\n",
       "      <td>1532</td>\n",
       "      <td>2.0</td>\n",
       "      <td>...</td>\n",
       "      <td>No</td>\n",
       "      <td>Potential Lead</td>\n",
       "      <td>Mumbai</td>\n",
       "      <td>02.Medium</td>\n",
       "      <td>01.High</td>\n",
       "      <td>14.0</td>\n",
       "      <td>20.0</td>\n",
       "      <td>No</td>\n",
       "      <td>Yes</td>\n",
       "      <td>Email Opened</td>\n",
       "    </tr>\n",
       "    <tr>\n",
       "      <th>3</th>\n",
       "      <td>0cc2df48-7cf4-4e39-9de9-19797f9b38cc</td>\n",
       "      <td>660719</td>\n",
       "      <td>Landing Page Submission</td>\n",
       "      <td>Direct Traffic</td>\n",
       "      <td>No</td>\n",
       "      <td>No</td>\n",
       "      <td>0</td>\n",
       "      <td>1.0</td>\n",
       "      <td>305</td>\n",
       "      <td>1.0</td>\n",
       "      <td>...</td>\n",
       "      <td>No</td>\n",
       "      <td>Select</td>\n",
       "      <td>Mumbai</td>\n",
       "      <td>02.Medium</td>\n",
       "      <td>01.High</td>\n",
       "      <td>13.0</td>\n",
       "      <td>17.0</td>\n",
       "      <td>No</td>\n",
       "      <td>No</td>\n",
       "      <td>Modified</td>\n",
       "    </tr>\n",
       "    <tr>\n",
       "      <th>4</th>\n",
       "      <td>3256f628-e534-4826-9d63-4a8b88782852</td>\n",
       "      <td>660681</td>\n",
       "      <td>Landing Page Submission</td>\n",
       "      <td>Google</td>\n",
       "      <td>No</td>\n",
       "      <td>No</td>\n",
       "      <td>1</td>\n",
       "      <td>2.0</td>\n",
       "      <td>1428</td>\n",
       "      <td>1.0</td>\n",
       "      <td>...</td>\n",
       "      <td>No</td>\n",
       "      <td>Select</td>\n",
       "      <td>Mumbai</td>\n",
       "      <td>02.Medium</td>\n",
       "      <td>01.High</td>\n",
       "      <td>15.0</td>\n",
       "      <td>18.0</td>\n",
       "      <td>No</td>\n",
       "      <td>No</td>\n",
       "      <td>Modified</td>\n",
       "    </tr>\n",
       "  </tbody>\n",
       "</table>\n",
       "<p>5 rows × 37 columns</p>\n",
       "</div>"
      ],
      "text/plain": [
       "                            Prospect ID  Lead Number              Lead Origin  \\\n",
       "0  7927b2df-8bba-4d29-b9a2-b6e0beafe620       660737                      API   \n",
       "1  2a272436-5132-4136-86fa-dcc88c88f482       660728                      API   \n",
       "2  8cc8c611-a219-4f35-ad23-fdfd2656bd8a       660727  Landing Page Submission   \n",
       "3  0cc2df48-7cf4-4e39-9de9-19797f9b38cc       660719  Landing Page Submission   \n",
       "4  3256f628-e534-4826-9d63-4a8b88782852       660681  Landing Page Submission   \n",
       "\n",
       "      Lead Source Do Not Email Do Not Call  Converted  TotalVisits  \\\n",
       "0      Olark Chat           No          No          0          0.0   \n",
       "1  Organic Search           No          No          0          5.0   \n",
       "2  Direct Traffic           No          No          1          2.0   \n",
       "3  Direct Traffic           No          No          0          1.0   \n",
       "4          Google           No          No          1          2.0   \n",
       "\n",
       "   Total Time Spent on Website  Page Views Per Visit  ...  \\\n",
       "0                            0                   0.0  ...   \n",
       "1                          674                   2.5  ...   \n",
       "2                         1532                   2.0  ...   \n",
       "3                          305                   1.0  ...   \n",
       "4                         1428                   1.0  ...   \n",
       "\n",
       "  Get updates on DM Content    Lead Profile    City  \\\n",
       "0                        No          Select  Select   \n",
       "1                        No          Select  Select   \n",
       "2                        No  Potential Lead  Mumbai   \n",
       "3                        No          Select  Mumbai   \n",
       "4                        No          Select  Mumbai   \n",
       "\n",
       "  Asymmetrique Activity Index Asymmetrique Profile Index  \\\n",
       "0                   02.Medium                  02.Medium   \n",
       "1                   02.Medium                  02.Medium   \n",
       "2                   02.Medium                    01.High   \n",
       "3                   02.Medium                    01.High   \n",
       "4                   02.Medium                    01.High   \n",
       "\n",
       "  Asymmetrique Activity Score Asymmetrique Profile Score  \\\n",
       "0                        15.0                       15.0   \n",
       "1                        15.0                       15.0   \n",
       "2                        14.0                       20.0   \n",
       "3                        13.0                       17.0   \n",
       "4                        15.0                       18.0   \n",
       "\n",
       "  I agree to pay the amount through cheque  \\\n",
       "0                                       No   \n",
       "1                                       No   \n",
       "2                                       No   \n",
       "3                                       No   \n",
       "4                                       No   \n",
       "\n",
       "  A free copy of Mastering The Interview Last Notable Activity  \n",
       "0                                     No              Modified  \n",
       "1                                     No          Email Opened  \n",
       "2                                    Yes          Email Opened  \n",
       "3                                     No              Modified  \n",
       "4                                     No              Modified  \n",
       "\n",
       "[5 rows x 37 columns]"
      ]
     },
     "execution_count": 2,
     "metadata": {},
     "output_type": "execute_result"
    }
   ],
   "source": [
    "#importing and reading the some sample records of the given CSV file\n",
    "\n",
    "leads_data = pd.read_csv('Leads.csv')\n",
    "leads_data.head()"
   ]
  },
  {
   "cell_type": "code",
   "execution_count": 3,
   "id": "c9ef9b75",
   "metadata": {},
   "outputs": [
    {
     "name": "stdout",
     "output_type": "stream",
     "text": [
      "<class 'pandas.core.frame.DataFrame'>\n",
      "RangeIndex: 9240 entries, 0 to 9239\n",
      "Data columns (total 37 columns):\n",
      " #   Column                                         Non-Null Count  Dtype  \n",
      "---  ------                                         --------------  -----  \n",
      " 0   Prospect ID                                    9240 non-null   object \n",
      " 1   Lead Number                                    9240 non-null   int64  \n",
      " 2   Lead Origin                                    9240 non-null   object \n",
      " 3   Lead Source                                    9204 non-null   object \n",
      " 4   Do Not Email                                   9240 non-null   object \n",
      " 5   Do Not Call                                    9240 non-null   object \n",
      " 6   Converted                                      9240 non-null   int64  \n",
      " 7   TotalVisits                                    9103 non-null   float64\n",
      " 8   Total Time Spent on Website                    9240 non-null   int64  \n",
      " 9   Page Views Per Visit                           9103 non-null   float64\n",
      " 10  Last Activity                                  9137 non-null   object \n",
      " 11  Country                                        6779 non-null   object \n",
      " 12  Specialization                                 7802 non-null   object \n",
      " 13  How did you hear about X Education             7033 non-null   object \n",
      " 14  What is your current occupation                6550 non-null   object \n",
      " 15  What matters most to you in choosing a course  6531 non-null   object \n",
      " 16  Search                                         9240 non-null   object \n",
      " 17  Magazine                                       9240 non-null   object \n",
      " 18  Newspaper Article                              9240 non-null   object \n",
      " 19  X Education Forums                             9240 non-null   object \n",
      " 20  Newspaper                                      9240 non-null   object \n",
      " 21  Digital Advertisement                          9240 non-null   object \n",
      " 22  Through Recommendations                        9240 non-null   object \n",
      " 23  Receive More Updates About Our Courses         9240 non-null   object \n",
      " 24  Tags                                           5887 non-null   object \n",
      " 25  Lead Quality                                   4473 non-null   object \n",
      " 26  Update me on Supply Chain Content              9240 non-null   object \n",
      " 27  Get updates on DM Content                      9240 non-null   object \n",
      " 28  Lead Profile                                   6531 non-null   object \n",
      " 29  City                                           7820 non-null   object \n",
      " 30  Asymmetrique Activity Index                    5022 non-null   object \n",
      " 31  Asymmetrique Profile Index                     5022 non-null   object \n",
      " 32  Asymmetrique Activity Score                    5022 non-null   float64\n",
      " 33  Asymmetrique Profile Score                     5022 non-null   float64\n",
      " 34  I agree to pay the amount through cheque       9240 non-null   object \n",
      " 35  A free copy of Mastering The Interview         9240 non-null   object \n",
      " 36  Last Notable Activity                          9240 non-null   object \n",
      "dtypes: float64(4), int64(3), object(30)\n",
      "memory usage: 2.6+ MB\n"
     ]
    }
   ],
   "source": [
    "#inspecting the information about the dataset \n",
    "\n",
    "leads_data.info()"
   ]
  },
  {
   "cell_type": "code",
   "execution_count": 4,
   "id": "2cb5f442",
   "metadata": {},
   "outputs": [
    {
     "data": {
      "text/plain": [
       "(9240, 37)"
      ]
     },
     "execution_count": 4,
     "metadata": {},
     "output_type": "execute_result"
    }
   ],
   "source": [
    "#checking the number of rows and columns in the dataset\n",
    "\n",
    "leads_data.shape"
   ]
  },
  {
   "cell_type": "markdown",
   "id": "fc159849",
   "metadata": {},
   "source": [
    "We can see that have 9240 rows and 37 columns."
   ]
  },
  {
   "cell_type": "code",
   "execution_count": 5,
   "id": "078b1f5d",
   "metadata": {},
   "outputs": [
    {
     "data": {
      "text/html": [
       "<div>\n",
       "<style scoped>\n",
       "    .dataframe tbody tr th:only-of-type {\n",
       "        vertical-align: middle;\n",
       "    }\n",
       "\n",
       "    .dataframe tbody tr th {\n",
       "        vertical-align: top;\n",
       "    }\n",
       "\n",
       "    .dataframe thead th {\n",
       "        text-align: right;\n",
       "    }\n",
       "</style>\n",
       "<table border=\"1\" class=\"dataframe\">\n",
       "  <thead>\n",
       "    <tr style=\"text-align: right;\">\n",
       "      <th></th>\n",
       "      <th>Lead Number</th>\n",
       "      <th>Converted</th>\n",
       "      <th>TotalVisits</th>\n",
       "      <th>Total Time Spent on Website</th>\n",
       "      <th>Page Views Per Visit</th>\n",
       "      <th>Asymmetrique Activity Score</th>\n",
       "      <th>Asymmetrique Profile Score</th>\n",
       "    </tr>\n",
       "  </thead>\n",
       "  <tbody>\n",
       "    <tr>\n",
       "      <th>count</th>\n",
       "      <td>9240.000000</td>\n",
       "      <td>9240.000000</td>\n",
       "      <td>9103.000000</td>\n",
       "      <td>9240.000000</td>\n",
       "      <td>9103.000000</td>\n",
       "      <td>5022.000000</td>\n",
       "      <td>5022.000000</td>\n",
       "    </tr>\n",
       "    <tr>\n",
       "      <th>mean</th>\n",
       "      <td>617188.435606</td>\n",
       "      <td>0.385390</td>\n",
       "      <td>3.445238</td>\n",
       "      <td>487.698268</td>\n",
       "      <td>2.362820</td>\n",
       "      <td>14.306252</td>\n",
       "      <td>16.344883</td>\n",
       "    </tr>\n",
       "    <tr>\n",
       "      <th>std</th>\n",
       "      <td>23405.995698</td>\n",
       "      <td>0.486714</td>\n",
       "      <td>4.854853</td>\n",
       "      <td>548.021466</td>\n",
       "      <td>2.161418</td>\n",
       "      <td>1.386694</td>\n",
       "      <td>1.811395</td>\n",
       "    </tr>\n",
       "    <tr>\n",
       "      <th>min</th>\n",
       "      <td>579533.000000</td>\n",
       "      <td>0.000000</td>\n",
       "      <td>0.000000</td>\n",
       "      <td>0.000000</td>\n",
       "      <td>0.000000</td>\n",
       "      <td>7.000000</td>\n",
       "      <td>11.000000</td>\n",
       "    </tr>\n",
       "    <tr>\n",
       "      <th>25%</th>\n",
       "      <td>596484.500000</td>\n",
       "      <td>0.000000</td>\n",
       "      <td>1.000000</td>\n",
       "      <td>12.000000</td>\n",
       "      <td>1.000000</td>\n",
       "      <td>14.000000</td>\n",
       "      <td>15.000000</td>\n",
       "    </tr>\n",
       "    <tr>\n",
       "      <th>50%</th>\n",
       "      <td>615479.000000</td>\n",
       "      <td>0.000000</td>\n",
       "      <td>3.000000</td>\n",
       "      <td>248.000000</td>\n",
       "      <td>2.000000</td>\n",
       "      <td>14.000000</td>\n",
       "      <td>16.000000</td>\n",
       "    </tr>\n",
       "    <tr>\n",
       "      <th>75%</th>\n",
       "      <td>637387.250000</td>\n",
       "      <td>1.000000</td>\n",
       "      <td>5.000000</td>\n",
       "      <td>936.000000</td>\n",
       "      <td>3.000000</td>\n",
       "      <td>15.000000</td>\n",
       "      <td>18.000000</td>\n",
       "    </tr>\n",
       "    <tr>\n",
       "      <th>max</th>\n",
       "      <td>660737.000000</td>\n",
       "      <td>1.000000</td>\n",
       "      <td>251.000000</td>\n",
       "      <td>2272.000000</td>\n",
       "      <td>55.000000</td>\n",
       "      <td>18.000000</td>\n",
       "      <td>20.000000</td>\n",
       "    </tr>\n",
       "  </tbody>\n",
       "</table>\n",
       "</div>"
      ],
      "text/plain": [
       "         Lead Number    Converted  TotalVisits  Total Time Spent on Website  \\\n",
       "count    9240.000000  9240.000000  9103.000000                  9240.000000   \n",
       "mean   617188.435606     0.385390     3.445238                   487.698268   \n",
       "std     23405.995698     0.486714     4.854853                   548.021466   \n",
       "min    579533.000000     0.000000     0.000000                     0.000000   \n",
       "25%    596484.500000     0.000000     1.000000                    12.000000   \n",
       "50%    615479.000000     0.000000     3.000000                   248.000000   \n",
       "75%    637387.250000     1.000000     5.000000                   936.000000   \n",
       "max    660737.000000     1.000000   251.000000                  2272.000000   \n",
       "\n",
       "       Page Views Per Visit  Asymmetrique Activity Score  \\\n",
       "count           9103.000000                  5022.000000   \n",
       "mean               2.362820                    14.306252   \n",
       "std                2.161418                     1.386694   \n",
       "min                0.000000                     7.000000   \n",
       "25%                1.000000                    14.000000   \n",
       "50%                2.000000                    14.000000   \n",
       "75%                3.000000                    15.000000   \n",
       "max               55.000000                    18.000000   \n",
       "\n",
       "       Asymmetrique Profile Score  \n",
       "count                 5022.000000  \n",
       "mean                    16.344883  \n",
       "std                      1.811395  \n",
       "min                     11.000000  \n",
       "25%                     15.000000  \n",
       "50%                     16.000000  \n",
       "75%                     18.000000  \n",
       "max                     20.000000  "
      ]
     },
     "execution_count": 5,
     "metadata": {},
     "output_type": "execute_result"
    }
   ],
   "source": [
    "#checking the summary of all the numeric columns in the dataset\n",
    "\n",
    "leads_data.describe()"
   ]
  },
  {
   "cell_type": "code",
   "execution_count": 6,
   "id": "94e4da30",
   "metadata": {},
   "outputs": [
    {
     "data": {
      "text/plain": [
       "Prospect ID                                      9240\n",
       "Lead Number                                      9240\n",
       "Total Time Spent on Website                      1731\n",
       "Page Views Per Visit                              114\n",
       "TotalVisits                                        41\n",
       "Country                                            38\n",
       "Tags                                               26\n",
       "Lead Source                                        21\n",
       "Specialization                                     19\n",
       "Last Activity                                      17\n",
       "Last Notable Activity                              16\n",
       "Asymmetrique Activity Score                        12\n",
       "How did you hear about X Education                 10\n",
       "Asymmetrique Profile Score                         10\n",
       "City                                                7\n",
       "What is your current occupation                     6\n",
       "Lead Profile                                        6\n",
       "Lead Origin                                         5\n",
       "Lead Quality                                        5\n",
       "What matters most to you in choosing a course       3\n",
       "Asymmetrique Profile Index                          3\n",
       "Asymmetrique Activity Index                         3\n",
       "Do Not Call                                         2\n",
       "A free copy of Mastering The Interview              2\n",
       "Converted                                           2\n",
       "Through Recommendations                             2\n",
       "Digital Advertisement                               2\n",
       "Newspaper                                           2\n",
       "X Education Forums                                  2\n",
       "Do Not Email                                        2\n",
       "Search                                              2\n",
       "Newspaper Article                                   2\n",
       "Receive More Updates About Our Courses              1\n",
       "Update me on Supply Chain Content                   1\n",
       "Get updates on DM Content                           1\n",
       "Magazine                                            1\n",
       "I agree to pay the amount through cheque            1\n",
       "dtype: int64"
      ]
     },
     "execution_count": 6,
     "metadata": {},
     "output_type": "execute_result"
    }
   ],
   "source": [
    "#checking for unique values\n",
    "\n",
    "leads_data.nunique().sort_values(ascending= False)"
   ]
  },
  {
   "cell_type": "markdown",
   "id": "63912634",
   "metadata": {},
   "source": [
    "From above we can say that Prospect ID and Lead Number are two numbers that indiactes the unique number of the person contacted hence these two columns can be dropped."
   ]
  },
  {
   "cell_type": "markdown",
   "id": "a1e4d1e9",
   "metadata": {},
   "source": [
    "## 2. EXPLORATORY DATA ANALYSIS\n",
    "\n",
    "### 2.1 Data Cleaning and Missing Value Treatment\n",
    "<br>"
   ]
  },
  {
   "cell_type": "code",
   "execution_count": 7,
   "id": "a9c3f131",
   "metadata": {},
   "outputs": [],
   "source": [
    "#dropping the Prospect ID and Lead Number columns as both are all unique\n",
    "\n",
    "leads_data.drop(['Prospect ID', 'Lead Number'], axis = 1, inplace = True)"
   ]
  },
  {
   "cell_type": "code",
   "execution_count": 8,
   "id": "471b0b4c",
   "metadata": {},
   "outputs": [],
   "source": [
    "#converting 'Select' to NaN (Since 'Select' simply means that no option is selected)\n",
    "\n",
    "leads_data = leads_data.replace('Select', np.nan)"
   ]
  },
  {
   "cell_type": "code",
   "execution_count": 9,
   "id": "31cfc338",
   "metadata": {},
   "outputs": [
    {
     "data": {
      "text/plain": [
       "How did you hear about X Education               7250\n",
       "Lead Profile                                     6855\n",
       "Lead Quality                                     4767\n",
       "Asymmetrique Activity Score                      4218\n",
       "Asymmetrique Profile Score                       4218\n",
       "Asymmetrique Profile Index                       4218\n",
       "Asymmetrique Activity Index                      4218\n",
       "City                                             3669\n",
       "Specialization                                   3380\n",
       "Tags                                             3353\n",
       "What matters most to you in choosing a course    2709\n",
       "What is your current occupation                  2690\n",
       "Country                                          2461\n",
       "TotalVisits                                       137\n",
       "Page Views Per Visit                              137\n",
       "Last Activity                                     103\n",
       "Lead Source                                        36\n",
       "Get updates on DM Content                           0\n",
       "Update me on Supply Chain Content                   0\n",
       "I agree to pay the amount through cheque            0\n",
       "A free copy of Mastering The Interview              0\n",
       "Lead Origin                                         0\n",
       "X Education Forums                                  0\n",
       "Receive More Updates About Our Courses              0\n",
       "Through Recommendations                             0\n",
       "Digital Advertisement                               0\n",
       "Newspaper                                           0\n",
       "Newspaper Article                                   0\n",
       "Magazine                                            0\n",
       "Search                                              0\n",
       "Total Time Spent on Website                         0\n",
       "Converted                                           0\n",
       "Do Not Call                                         0\n",
       "Do Not Email                                        0\n",
       "Last Notable Activity                               0\n",
       "dtype: int64"
      ]
     },
     "execution_count": 9,
     "metadata": {},
     "output_type": "execute_result"
    }
   ],
   "source": [
    "#checking the null values present in the dataset\n",
    "\n",
    "leads_data.isnull().sum().sort_values(ascending= False)"
   ]
  },
  {
   "cell_type": "code",
   "execution_count": 10,
   "id": "e6ee8860",
   "metadata": {},
   "outputs": [
    {
     "data": {
      "text/plain": [
       "How did you hear about X Education               78.46\n",
       "Lead Profile                                     74.19\n",
       "Lead Quality                                     51.59\n",
       "Asymmetrique Activity Score                      45.65\n",
       "Asymmetrique Profile Score                       45.65\n",
       "Asymmetrique Profile Index                       45.65\n",
       "Asymmetrique Activity Index                      45.65\n",
       "City                                             39.71\n",
       "Specialization                                   36.58\n",
       "Tags                                             36.29\n",
       "What matters most to you in choosing a course    29.32\n",
       "What is your current occupation                  29.11\n",
       "Country                                          26.63\n",
       "TotalVisits                                       1.48\n",
       "Page Views Per Visit                              1.48\n",
       "Last Activity                                     1.11\n",
       "Lead Source                                       0.39\n",
       "Get updates on DM Content                         0.00\n",
       "Update me on Supply Chain Content                 0.00\n",
       "I agree to pay the amount through cheque          0.00\n",
       "A free copy of Mastering The Interview            0.00\n",
       "Lead Origin                                       0.00\n",
       "X Education Forums                                0.00\n",
       "Receive More Updates About Our Courses            0.00\n",
       "Through Recommendations                           0.00\n",
       "Digital Advertisement                             0.00\n",
       "Newspaper                                         0.00\n",
       "Newspaper Article                                 0.00\n",
       "Magazine                                          0.00\n",
       "Search                                            0.00\n",
       "Total Time Spent on Website                       0.00\n",
       "Converted                                         0.00\n",
       "Do Not Call                                       0.00\n",
       "Do Not Email                                      0.00\n",
       "Last Notable Activity                             0.00\n",
       "dtype: float64"
      ]
     },
     "execution_count": 10,
     "metadata": {},
     "output_type": "execute_result"
    }
   ],
   "source": [
    "#checking the percentage of missing values in the dataset\n",
    "\n",
    "round(((leads_data.isnull().sum()/len(leads_data.index))*100),2).sort_values(ascending= False)"
   ]
  },
  {
   "cell_type": "code",
   "execution_count": 11,
   "id": "f2683e15",
   "metadata": {},
   "outputs": [],
   "source": [
    "#dropping columns that have more than 45% missing values\n",
    "\n",
    "cols = leads_data.columns\n",
    "\n",
    "for col in cols:\n",
    "    if (((leads_data[col].isnull().sum()/len(leads_data.index))*100) >=45):\n",
    "        leads_data.drop(col, axis = 1, inplace = True)"
   ]
  },
  {
   "cell_type": "code",
   "execution_count": 12,
   "id": "7ba58006",
   "metadata": {},
   "outputs": [
    {
     "data": {
      "text/plain": [
       "City                                             39.71\n",
       "Specialization                                   36.58\n",
       "Tags                                             36.29\n",
       "What matters most to you in choosing a course    29.32\n",
       "What is your current occupation                  29.11\n",
       "Country                                          26.63\n",
       "TotalVisits                                       1.48\n",
       "Page Views Per Visit                              1.48\n",
       "Last Activity                                     1.11\n",
       "Lead Source                                       0.39\n",
       "Receive More Updates About Our Courses            0.00\n",
       "Update me on Supply Chain Content                 0.00\n",
       "Lead Origin                                       0.00\n",
       "Digital Advertisement                             0.00\n",
       "Get updates on DM Content                         0.00\n",
       "I agree to pay the amount through cheque          0.00\n",
       "A free copy of Mastering The Interview            0.00\n",
       "Through Recommendations                           0.00\n",
       "Magazine                                          0.00\n",
       "Newspaper                                         0.00\n",
       "X Education Forums                                0.00\n",
       "Newspaper Article                                 0.00\n",
       "Search                                            0.00\n",
       "Total Time Spent on Website                       0.00\n",
       "Converted                                         0.00\n",
       "Do Not Call                                       0.00\n",
       "Do Not Email                                      0.00\n",
       "Last Notable Activity                             0.00\n",
       "dtype: float64"
      ]
     },
     "execution_count": 12,
     "metadata": {},
     "output_type": "execute_result"
    }
   ],
   "source": [
    "#checking the missing value percentage\n",
    "\n",
    "round(((leads_data.isnull().sum()/len(leads_data.index))*100),2).sort_values(ascending= False)"
   ]
  },
  {
   "cell_type": "markdown",
   "id": "ffc5be41",
   "metadata": {},
   "source": [
    "###### Missing Value Treatment - \"City\" column\n",
    "<br>"
   ]
  },
  {
   "cell_type": "code",
   "execution_count": 13,
   "id": "39ad8b60",
   "metadata": {},
   "outputs": [
    {
     "data": {
      "text/plain": [
       "NaN                            3669\n",
       "Mumbai                         3222\n",
       "Thane & Outskirts               752\n",
       "Other Cities                    686\n",
       "Other Cities of Maharashtra     457\n",
       "Other Metro Cities              380\n",
       "Tier II Cities                   74\n",
       "Name: City, dtype: int64"
      ]
     },
     "execution_count": 13,
     "metadata": {},
     "output_type": "execute_result"
    }
   ],
   "source": [
    "#checking value counts of 'City' column\n",
    "\n",
    "leads_data['City'].value_counts(dropna= False)"
   ]
  },
  {
   "cell_type": "markdown",
   "id": "c1808447",
   "metadata": {},
   "source": [
    "We can impute the missing values for the 'City' column with the Mode Value i.e., 'Mumbai'."
   ]
  },
  {
   "cell_type": "code",
   "execution_count": 14,
   "id": "e47e9521",
   "metadata": {},
   "outputs": [],
   "source": [
    "#imputing the missing values with Mode in 'City' column \n",
    "\n",
    "leads_data['City'].fillna(leads_data['City'].mode()[0], inplace= True)"
   ]
  },
  {
   "cell_type": "markdown",
   "id": "de638d7a",
   "metadata": {},
   "source": [
    "###### Missing Value Treatment - \"Specialization\" column\n",
    "<br>"
   ]
  },
  {
   "cell_type": "code",
   "execution_count": 15,
   "id": "c1faecc9",
   "metadata": {},
   "outputs": [
    {
     "data": {
      "text/plain": [
       "NaN                                  3380\n",
       "Finance Management                    976\n",
       "Human Resource Management             848\n",
       "Marketing Management                  838\n",
       "Operations Management                 503\n",
       "Business Administration               403\n",
       "IT Projects Management                366\n",
       "Supply Chain Management               349\n",
       "Banking, Investment And Insurance     338\n",
       "Travel and Tourism                    203\n",
       "Media and Advertising                 203\n",
       "International Business                178\n",
       "Healthcare Management                 159\n",
       "Hospitality Management                114\n",
       "E-COMMERCE                            112\n",
       "Retail Management                     100\n",
       "Rural and Agribusiness                 73\n",
       "E-Business                             57\n",
       "Services Excellence                    40\n",
       "Name: Specialization, dtype: int64"
      ]
     },
     "execution_count": 15,
     "metadata": {},
     "output_type": "execute_result"
    }
   ],
   "source": [
    "#checking value counts of 'Specialization' column\n",
    "\n",
    "leads_data['Specialization'].value_counts(dropna= False)"
   ]
  },
  {
   "cell_type": "markdown",
   "id": "514c3e59",
   "metadata": {},
   "source": [
    "Leads may not have mentioned their Specialization because either their Specialization was not in the list or they are students and have not yet decicded any Specialization. Here we will impute the missing value by 'Not Specified'."
   ]
  },
  {
   "cell_type": "code",
   "execution_count": 16,
   "id": "2a192826",
   "metadata": {},
   "outputs": [],
   "source": [
    "#imputing the missing value by 'Not Specified'\n",
    "\n",
    "leads_data['Specialization'].fillna('Not Specified', inplace= True)"
   ]
  },
  {
   "cell_type": "markdown",
   "id": "bcf91a78",
   "metadata": {},
   "source": [
    "###### Missing Value Treatment - \"Tags\" column\n",
    "<br>"
   ]
  },
  {
   "cell_type": "code",
   "execution_count": 17,
   "id": "3d7d7fef",
   "metadata": {},
   "outputs": [
    {
     "data": {
      "text/plain": [
       "NaN                                                  3353\n",
       "Will revert after reading the email                  2072\n",
       "Ringing                                              1203\n",
       "Interested in other courses                           513\n",
       "Already a student                                     465\n",
       "Closed by Horizzon                                    358\n",
       "switched off                                          240\n",
       "Busy                                                  186\n",
       "Lost to EINS                                          175\n",
       "Not doing further education                           145\n",
       "Interested  in full time MBA                          117\n",
       "Graduation in progress                                111\n",
       "invalid number                                         83\n",
       "Diploma holder (Not Eligible)                          63\n",
       "wrong number given                                     47\n",
       "opp hangup                                             33\n",
       "number not provided                                    27\n",
       "in touch with EINS                                     12\n",
       "Lost to Others                                          7\n",
       "Still Thinking                                          6\n",
       "Want to take admission but has financial problems       6\n",
       "In confusion whether part time or DLP                   5\n",
       "Interested in Next batch                                5\n",
       "Lateral student                                         3\n",
       "Shall take in the next coming month                     2\n",
       "University not recognized                               2\n",
       "Recognition issue (DEC approval)                        1\n",
       "Name: Tags, dtype: int64"
      ]
     },
     "execution_count": 17,
     "metadata": {},
     "output_type": "execute_result"
    }
   ],
   "source": [
    "#checking value counts of 'Specialization' column\n",
    "\n",
    "leads_data['Tags'].value_counts(dropna= False)"
   ]
  },
  {
   "cell_type": "markdown",
   "id": "13acea91",
   "metadata": {},
   "source": [
    "Here also we shall replace the missing values by 'Not Specified'."
   ]
  },
  {
   "cell_type": "code",
   "execution_count": 18,
   "id": "5af73565",
   "metadata": {},
   "outputs": [],
   "source": [
    "#imputing the missing value by 'Not Specified'\n",
    "\n",
    "leads_data['Tags'].fillna('Not Specified', inplace= True)"
   ]
  },
  {
   "cell_type": "code",
   "execution_count": 19,
   "id": "493730a1",
   "metadata": {},
   "outputs": [],
   "source": [
    "#replacing tags with low frequency to \"Other Tags\"\n",
    "\n",
    "leads_data['Tags'] = leads_data['Tags'].replace(['In confusion whether part time or DLP', \n",
    "                                                 'in touch with EINS','Diploma holder (Not Eligible)','Approached upfront',\n",
    "                                                 'Graduation in progress','number not provided', 'opp hangup','Still Thinking',\n",
    "                                                 'Lost to Others','Shall take in the next coming month','Lateral student',\n",
    "                                                 'Interested in Next batch','Recognition issue (DEC approval)',\n",
    "                                                 'Want to take admission but has financial problems',\n",
    "                                                 'University not recognized'], 'Other_Tags')\n",
    "\n",
    "leads_data['Tags'] = leads_data['Tags'].replace(['switched off','Already a student','Not doing further education',\n",
    "                                                 'invalid number','wrong number given',\n",
    "                                                 'Interested  in full time MBA'] , 'Other_Tags')"
   ]
  },
  {
   "cell_type": "markdown",
   "id": "61f4f9d1",
   "metadata": {},
   "source": [
    "###### Missing Value Treatment - \"What matters most to you in choosing a course\" column\n",
    "<br>"
   ]
  },
  {
   "cell_type": "code",
   "execution_count": 20,
   "id": "5686f586",
   "metadata": {},
   "outputs": [
    {
     "data": {
      "text/plain": [
       "Better Career Prospects      6528\n",
       "NaN                          2709\n",
       "Flexibility & Convenience       2\n",
       "Other                           1\n",
       "Name: What matters most to you in choosing a course, dtype: int64"
      ]
     },
     "execution_count": 20,
     "metadata": {},
     "output_type": "execute_result"
    }
   ],
   "source": [
    "#checking value counts of 'What matters most to you in choosing a course' column\n",
    "\n",
    "leads_data['What matters most to you in choosing a course'].value_counts(dropna= False)"
   ]
  },
  {
   "cell_type": "markdown",
   "id": "580371be",
   "metadata": {},
   "source": [
    "We can impute the missing values in the above column with mode value i.e., 'Better Career Prospects'."
   ]
  },
  {
   "cell_type": "code",
   "execution_count": 21,
   "id": "9d644ba4",
   "metadata": {},
   "outputs": [],
   "source": [
    "#imputing the missing values with Mode in 'What matters most to you in choosing a course' column \n",
    "\n",
    "leads_data['What matters most to you in choosing a course'].fillna(leads_data['What matters most to you in choosing a course']\n",
    "                                                                   .mode()[0], inplace= True)"
   ]
  },
  {
   "cell_type": "markdown",
   "id": "c847ba8a",
   "metadata": {},
   "source": [
    "After imputing the missing value in above column we can see that 99.9% leads are looking for Better Carrer Prospects after choosing the course. Hence this column is not going to help us and can be dropped."
   ]
  },
  {
   "cell_type": "code",
   "execution_count": 22,
   "id": "14c5ba85",
   "metadata": {},
   "outputs": [],
   "source": [
    "cols_to_drop = ['What matters most to you in choosing a course']"
   ]
  },
  {
   "cell_type": "markdown",
   "id": "0e01fdc2",
   "metadata": {},
   "source": [
    "###### Missing Value Treatment - \"What is your current occupation\" column\n",
    "<br>"
   ]
  },
  {
   "cell_type": "code",
   "execution_count": 23,
   "id": "f58850f6",
   "metadata": {},
   "outputs": [
    {
     "data": {
      "text/plain": [
       "Unemployed              5600\n",
       "NaN                     2690\n",
       "Working Professional     706\n",
       "Student                  210\n",
       "Other                     16\n",
       "Housewife                 10\n",
       "Businessman                8\n",
       "Name: What is your current occupation, dtype: int64"
      ]
     },
     "execution_count": 23,
     "metadata": {},
     "output_type": "execute_result"
    }
   ],
   "source": [
    "#checking value counts of 'What is your current occupation' column\n",
    "\n",
    "leads_data['What is your current occupation'].value_counts(dropna= False)"
   ]
  },
  {
   "cell_type": "markdown",
   "id": "a08a907f",
   "metadata": {},
   "source": [
    "Imputing the missing value in the above column with Mode value i.e., 'Unemployed'."
   ]
  },
  {
   "cell_type": "code",
   "execution_count": 24,
   "id": "f2809fa2",
   "metadata": {},
   "outputs": [],
   "source": [
    "#imputing the missing values with Mode in 'What is your current occupation' column \n",
    "\n",
    "leads_data['What is your current occupation'].fillna(leads_data['What is your current occupation'].mode()[0], inplace= True)"
   ]
  },
  {
   "cell_type": "markdown",
   "id": "9492eba8",
   "metadata": {},
   "source": [
    "###### Missing Value Treatment - \"Country\" column\n",
    "<br>"
   ]
  },
  {
   "cell_type": "code",
   "execution_count": 25,
   "id": "a03255d4",
   "metadata": {},
   "outputs": [
    {
     "data": {
      "text/plain": [
       "India                   6492\n",
       "NaN                     2461\n",
       "United States             69\n",
       "United Arab Emirates      53\n",
       "Singapore                 24\n",
       "Saudi Arabia              21\n",
       "United Kingdom            15\n",
       "Australia                 13\n",
       "Qatar                     10\n",
       "Bahrain                    7\n",
       "Hong Kong                  7\n",
       "Oman                       6\n",
       "France                     6\n",
       "unknown                    5\n",
       "Kuwait                     4\n",
       "South Africa               4\n",
       "Canada                     4\n",
       "Nigeria                    4\n",
       "Germany                    4\n",
       "Sweden                     3\n",
       "Philippines                2\n",
       "Uganda                     2\n",
       "Italy                      2\n",
       "Bangladesh                 2\n",
       "Netherlands                2\n",
       "Asia/Pacific Region        2\n",
       "China                      2\n",
       "Belgium                    2\n",
       "Ghana                      2\n",
       "Kenya                      1\n",
       "Sri Lanka                  1\n",
       "Tanzania                   1\n",
       "Malaysia                   1\n",
       "Liberia                    1\n",
       "Switzerland                1\n",
       "Denmark                    1\n",
       "Russia                     1\n",
       "Vietnam                    1\n",
       "Indonesia                  1\n",
       "Name: Country, dtype: int64"
      ]
     },
     "execution_count": 25,
     "metadata": {},
     "output_type": "execute_result"
    }
   ],
   "source": [
    "#checking value counts of 'Country' column\n",
    "\n",
    "leads_data['Country'].value_counts(dropna= False)"
   ]
  },
  {
   "cell_type": "markdown",
   "id": "a9e3c4ee",
   "metadata": {},
   "source": [
    "Imputing the missing values in the above column with Mode Value i.e., 'India'."
   ]
  },
  {
   "cell_type": "code",
   "execution_count": 26,
   "id": "1e493ae8",
   "metadata": {},
   "outputs": [],
   "source": [
    "#imputing the missing values with Mode in 'Country' column \n",
    "\n",
    "leads_data['Country'].fillna(leads_data['Country'].mode()[0], inplace= True)"
   ]
  },
  {
   "cell_type": "markdown",
   "id": "7a1d4f2a",
   "metadata": {},
   "source": [
    "After imputing the missing value in above column we can see that 97% leads are from India. Hence this column is not going to help us and can be dropped."
   ]
  },
  {
   "cell_type": "code",
   "execution_count": 27,
   "id": "9e563d58",
   "metadata": {},
   "outputs": [
    {
     "data": {
      "text/plain": [
       "['What matters most to you in choosing a course', 'Country']"
      ]
     },
     "execution_count": 27,
     "metadata": {},
     "output_type": "execute_result"
    }
   ],
   "source": [
    "#adding the 'Country' column to cols_to_drop list\n",
    "\n",
    "cols_to_drop.append('Country')\n",
    "\n",
    "cols_to_drop"
   ]
  },
  {
   "cell_type": "markdown",
   "id": "dfc12dd6",
   "metadata": {},
   "source": [
    "###### Missing Value Treatment - \"Lead Source\" column\n",
    "<br>"
   ]
  },
  {
   "cell_type": "code",
   "execution_count": 28,
   "id": "c0511a5e",
   "metadata": {},
   "outputs": [
    {
     "data": {
      "text/plain": [
       "Google               2868\n",
       "Direct Traffic       2543\n",
       "Olark Chat           1755\n",
       "Organic Search       1154\n",
       "Reference             534\n",
       "Welingak Website      142\n",
       "Referral Sites        125\n",
       "Facebook               55\n",
       "NaN                    36\n",
       "bing                    6\n",
       "google                  5\n",
       "Click2call              4\n",
       "Press_Release           2\n",
       "Social Media            2\n",
       "Live Chat               2\n",
       "youtubechannel          1\n",
       "testone                 1\n",
       "Pay per Click Ads       1\n",
       "welearnblog_Home        1\n",
       "WeLearn                 1\n",
       "blog                    1\n",
       "NC_EDM                  1\n",
       "Name: Lead Source, dtype: int64"
      ]
     },
     "execution_count": 28,
     "metadata": {},
     "output_type": "execute_result"
    }
   ],
   "source": [
    "#checking value counts of 'Lead Source' column\n",
    "\n",
    "leads_data['Lead Source'].value_counts(dropna= False)"
   ]
  },
  {
   "cell_type": "markdown",
   "id": "1382428c",
   "metadata": {},
   "source": [
    "Imputing the missing values in the 'Lead Source' column with 'Others'."
   ]
  },
  {
   "cell_type": "code",
   "execution_count": 29,
   "id": "505a9157",
   "metadata": {},
   "outputs": [],
   "source": [
    "#imputing the missing value in 'Lead Source' with 'Others'\n",
    "\n",
    "leads_data['Lead Source'].fillna('Others', inplace = True)\n",
    "\n",
    "#changing names and combining low frquency data \n",
    "\n",
    "leads_data['Lead Source'] = leads_data['Lead Source'].replace('google', 'Google')\n",
    "leads_data['Lead Source'] = leads_data['Lead Source'].replace('Facebook', 'Social Media')\n",
    "leads_data['Lead Source'] = leads_data['Lead Source'].replace(['bing','Click2call','Press_Release','youtubechannel',\n",
    "                                                               'welearnblog_Home','WeLearn','blog','Pay per Click Ads',\n",
    "                                                               'testone','NC_EDM'] ,'Others')"
   ]
  },
  {
   "cell_type": "markdown",
   "id": "b516980f",
   "metadata": {},
   "source": [
    "###### Missing Value Treatment - \"Last Activity\" column\n",
    "<br>"
   ]
  },
  {
   "cell_type": "code",
   "execution_count": 30,
   "id": "b95b5bff",
   "metadata": {},
   "outputs": [
    {
     "data": {
      "text/plain": [
       "Email Opened                    3437\n",
       "SMS Sent                        2745\n",
       "Olark Chat Conversation          973\n",
       "Page Visited on Website          640\n",
       "Converted to Lead                428\n",
       "Email Bounced                    326\n",
       "Email Link Clicked               267\n",
       "Form Submitted on Website        116\n",
       "NaN                              103\n",
       "Unreachable                       93\n",
       "Unsubscribed                      61\n",
       "Had a Phone Conversation          30\n",
       "Approached upfront                 9\n",
       "View in browser link Clicked       6\n",
       "Email Received                     2\n",
       "Email Marked Spam                  2\n",
       "Visited Booth in Tradeshow         1\n",
       "Resubscribed to emails             1\n",
       "Name: Last Activity, dtype: int64"
      ]
     },
     "execution_count": 30,
     "metadata": {},
     "output_type": "execute_result"
    }
   ],
   "source": [
    "#checking value counts of 'Last Activity' column\n",
    "\n",
    "leads_data['Last Activity'].value_counts(dropna= False)"
   ]
  },
  {
   "cell_type": "markdown",
   "id": "3e3c1ae6",
   "metadata": {},
   "source": [
    "Imputing the missing values in the 'Last Activity' column with 'Others'."
   ]
  },
  {
   "cell_type": "code",
   "execution_count": 31,
   "id": "4110e407",
   "metadata": {},
   "outputs": [],
   "source": [
    "#imputing the missing value in 'Last Activity' with 'Others'\n",
    "\n",
    "leads_data['Last Activity'].fillna('Others', inplace = True)\n",
    "\n",
    "#changing names and combining low frquency data \n",
    "\n",
    "leads_data['Last Activity'] = leads_data['Last Activity'].replace(['Unreachable','Unsubscribed','Had a Phone Conversation', \n",
    "                                                                   'Approached upfront','View in browser link Clicked',\n",
    "                                                                   'Email Marked Spam','Email Received',\n",
    "                                                                   'Resubscribed to emails',\n",
    "                                                                   'Visited Booth in Tradeshow'], 'Others')"
   ]
  },
  {
   "cell_type": "code",
   "execution_count": 32,
   "id": "462e1914",
   "metadata": {},
   "outputs": [
    {
     "data": {
      "text/plain": [
       "TotalVisits                                      1.48\n",
       "Page Views Per Visit                             1.48\n",
       "Lead Origin                                      0.00\n",
       "Newspaper Article                                0.00\n",
       "A free copy of Mastering The Interview           0.00\n",
       "I agree to pay the amount through cheque         0.00\n",
       "City                                             0.00\n",
       "Get updates on DM Content                        0.00\n",
       "Update me on Supply Chain Content                0.00\n",
       "Tags                                             0.00\n",
       "Receive More Updates About Our Courses           0.00\n",
       "Through Recommendations                          0.00\n",
       "Digital Advertisement                            0.00\n",
       "Newspaper                                        0.00\n",
       "X Education Forums                               0.00\n",
       "Magazine                                         0.00\n",
       "Lead Source                                      0.00\n",
       "Search                                           0.00\n",
       "What matters most to you in choosing a course    0.00\n",
       "What is your current occupation                  0.00\n",
       "Specialization                                   0.00\n",
       "Country                                          0.00\n",
       "Last Activity                                    0.00\n",
       "Total Time Spent on Website                      0.00\n",
       "Converted                                        0.00\n",
       "Do Not Call                                      0.00\n",
       "Do Not Email                                     0.00\n",
       "Last Notable Activity                            0.00\n",
       "dtype: float64"
      ]
     },
     "execution_count": 32,
     "metadata": {},
     "output_type": "execute_result"
    }
   ],
   "source": [
    "#checking the percentage of missing values in the dataset\n",
    "\n",
    "round(((leads_data.isnull().sum()/len(leads_data.index))*100),2).sort_values(ascending= False)"
   ]
  },
  {
   "cell_type": "markdown",
   "id": "62e18cbb",
   "metadata": {},
   "source": [
    "Since the percentage of Missing Value is very little (below 2%), we can drop the rows that have missing values, it will not affect the model. "
   ]
  },
  {
   "cell_type": "code",
   "execution_count": 33,
   "id": "a6d7b91a",
   "metadata": {},
   "outputs": [],
   "source": [
    "#dropping the missing values\n",
    "\n",
    "leads_data.dropna(inplace= True)"
   ]
  },
  {
   "cell_type": "code",
   "execution_count": 34,
   "id": "4204b56f",
   "metadata": {},
   "outputs": [
    {
     "data": {
      "text/plain": [
       "Lead Origin                                      0.0\n",
       "Lead Source                                      0.0\n",
       "A free copy of Mastering The Interview           0.0\n",
       "I agree to pay the amount through cheque         0.0\n",
       "City                                             0.0\n",
       "Get updates on DM Content                        0.0\n",
       "Update me on Supply Chain Content                0.0\n",
       "Tags                                             0.0\n",
       "Receive More Updates About Our Courses           0.0\n",
       "Through Recommendations                          0.0\n",
       "Digital Advertisement                            0.0\n",
       "Newspaper                                        0.0\n",
       "X Education Forums                               0.0\n",
       "Newspaper Article                                0.0\n",
       "Magazine                                         0.0\n",
       "Search                                           0.0\n",
       "What matters most to you in choosing a course    0.0\n",
       "What is your current occupation                  0.0\n",
       "Specialization                                   0.0\n",
       "Country                                          0.0\n",
       "Last Activity                                    0.0\n",
       "Page Views Per Visit                             0.0\n",
       "Total Time Spent on Website                      0.0\n",
       "TotalVisits                                      0.0\n",
       "Converted                                        0.0\n",
       "Do Not Call                                      0.0\n",
       "Do Not Email                                     0.0\n",
       "Last Notable Activity                            0.0\n",
       "dtype: float64"
      ]
     },
     "execution_count": 34,
     "metadata": {},
     "output_type": "execute_result"
    }
   ],
   "source": [
    "#checking the percentage of missing values in the dataset\n",
    "\n",
    "round(((leads_data.isnull().sum()/len(leads_data.index))*100),2).sort_values(ascending= False)"
   ]
  },
  {
   "cell_type": "markdown",
   "id": "47cf5ad8",
   "metadata": {},
   "source": [
    "We don't have any missing value in the dataset. "
   ]
  },
  {
   "cell_type": "markdown",
   "id": "48776ada",
   "metadata": {},
   "source": [
    "### 2.2 Outliers Treatment\n",
    "<br>"
   ]
  },
  {
   "cell_type": "code",
   "execution_count": 35,
   "id": "7e252f91",
   "metadata": {},
   "outputs": [
    {
     "data": {
      "text/html": [
       "<div>\n",
       "<style scoped>\n",
       "    .dataframe tbody tr th:only-of-type {\n",
       "        vertical-align: middle;\n",
       "    }\n",
       "\n",
       "    .dataframe tbody tr th {\n",
       "        vertical-align: top;\n",
       "    }\n",
       "\n",
       "    .dataframe thead th {\n",
       "        text-align: right;\n",
       "    }\n",
       "</style>\n",
       "<table border=\"1\" class=\"dataframe\">\n",
       "  <thead>\n",
       "    <tr style=\"text-align: right;\">\n",
       "      <th></th>\n",
       "      <th>Converted</th>\n",
       "      <th>TotalVisits</th>\n",
       "      <th>Total Time Spent on Website</th>\n",
       "      <th>Page Views Per Visit</th>\n",
       "    </tr>\n",
       "  </thead>\n",
       "  <tbody>\n",
       "    <tr>\n",
       "      <th>count</th>\n",
       "      <td>9103.000000</td>\n",
       "      <td>9103.000000</td>\n",
       "      <td>9103.000000</td>\n",
       "      <td>9103.000000</td>\n",
       "    </tr>\n",
       "    <tr>\n",
       "      <th>mean</th>\n",
       "      <td>0.380204</td>\n",
       "      <td>3.445238</td>\n",
       "      <td>481.350104</td>\n",
       "      <td>2.362820</td>\n",
       "    </tr>\n",
       "    <tr>\n",
       "      <th>std</th>\n",
       "      <td>0.485464</td>\n",
       "      <td>4.854853</td>\n",
       "      <td>545.066142</td>\n",
       "      <td>2.161418</td>\n",
       "    </tr>\n",
       "    <tr>\n",
       "      <th>min</th>\n",
       "      <td>0.000000</td>\n",
       "      <td>0.000000</td>\n",
       "      <td>0.000000</td>\n",
       "      <td>0.000000</td>\n",
       "    </tr>\n",
       "    <tr>\n",
       "      <th>25%</th>\n",
       "      <td>0.000000</td>\n",
       "      <td>1.000000</td>\n",
       "      <td>9.000000</td>\n",
       "      <td>1.000000</td>\n",
       "    </tr>\n",
       "    <tr>\n",
       "      <th>50%</th>\n",
       "      <td>0.000000</td>\n",
       "      <td>3.000000</td>\n",
       "      <td>244.000000</td>\n",
       "      <td>2.000000</td>\n",
       "    </tr>\n",
       "    <tr>\n",
       "      <th>75%</th>\n",
       "      <td>1.000000</td>\n",
       "      <td>5.000000</td>\n",
       "      <td>919.500000</td>\n",
       "      <td>3.000000</td>\n",
       "    </tr>\n",
       "    <tr>\n",
       "      <th>max</th>\n",
       "      <td>1.000000</td>\n",
       "      <td>251.000000</td>\n",
       "      <td>2272.000000</td>\n",
       "      <td>55.000000</td>\n",
       "    </tr>\n",
       "  </tbody>\n",
       "</table>\n",
       "</div>"
      ],
      "text/plain": [
       "         Converted  TotalVisits  Total Time Spent on Website  \\\n",
       "count  9103.000000  9103.000000                  9103.000000   \n",
       "mean      0.380204     3.445238                   481.350104   \n",
       "std       0.485464     4.854853                   545.066142   \n",
       "min       0.000000     0.000000                     0.000000   \n",
       "25%       0.000000     1.000000                     9.000000   \n",
       "50%       0.000000     3.000000                   244.000000   \n",
       "75%       1.000000     5.000000                   919.500000   \n",
       "max       1.000000   251.000000                  2272.000000   \n",
       "\n",
       "       Page Views Per Visit  \n",
       "count           9103.000000  \n",
       "mean               2.362820  \n",
       "std                2.161418  \n",
       "min                0.000000  \n",
       "25%                1.000000  \n",
       "50%                2.000000  \n",
       "75%                3.000000  \n",
       "max               55.000000  "
      ]
     },
     "execution_count": 35,
     "metadata": {},
     "output_type": "execute_result"
    }
   ],
   "source": [
    "leads_data.describe()"
   ]
  },
  {
   "cell_type": "markdown",
   "id": "fda88410",
   "metadata": {},
   "source": [
    "We can see that outliers are definately present in 'TotalVisits', 'Total Time Spent on Website' and 'Page Views Per Visit' columns. \n",
    "\n",
    "Let's check it."
   ]
  },
  {
   "cell_type": "markdown",
   "id": "d4126248",
   "metadata": {},
   "source": [
    "###### Outlier Treatment - \"TotalVisits\" column\n",
    "<br>"
   ]
  },
  {
   "cell_type": "code",
   "execution_count": 36,
   "id": "099b7d58",
   "metadata": {},
   "outputs": [
    {
     "data": {
      "image/png": "[encoded data removed]",
      "text/plain": [
       "<Figure size 432x288 with 1 Axes>"
      ]
     },
     "metadata": {
      "needs_background": "light"
     },
     "output_type": "display_data"
    }
   ],
   "source": [
    "#visualizing spread of variable\n",
    "\n",
    "plt.figure(figsize=(6,4))\n",
    "sns.boxplot(y=leads_data['TotalVisits'])\n",
    "plt.show()"
   ]
  },
  {
   "cell_type": "markdown",
   "id": "730aaf3c",
   "metadata": {},
   "source": [
    "We can see outliers are present here. "
   ]
  },
  {
   "cell_type": "code",
   "execution_count": 37,
   "id": "e7f8c99f",
   "metadata": {},
   "outputs": [
    {
     "data": {
      "text/plain": [
       "count    9103.000000\n",
       "mean        3.445238\n",
       "std         4.854853\n",
       "min         0.000000\n",
       "5%          0.000000\n",
       "25%         1.000000\n",
       "50%         3.000000\n",
       "75%         5.000000\n",
       "90%         7.000000\n",
       "95%        10.000000\n",
       "99%        17.000000\n",
       "max       251.000000\n",
       "Name: TotalVisits, dtype: float64"
      ]
     },
     "execution_count": 37,
     "metadata": {},
     "output_type": "execute_result"
    }
   ],
   "source": [
    "#checking percentile values for \"TotalVisits\" column\n",
    "\n",
    "leads_data['TotalVisits'].describe(percentiles=[0.05,.25, .5, .75, .90, .95, .99])"
   ]
  },
  {
   "cell_type": "code",
   "execution_count": 38,
   "id": "45651fd6",
   "metadata": {},
   "outputs": [
    {
     "data": {
      "image/png": "[encoded data removed]",
      "text/plain": [
       "<Figure size 432x288 with 1 Axes>"
      ]
     },
     "metadata": {
      "needs_background": "light"
     },
     "output_type": "display_data"
    }
   ],
   "source": [
    "#Outlier Treatment: Remove top & bottom 1% of the Column Outlier values\n",
    "\n",
    "Q3 = leads_data.TotalVisits.quantile(0.99)\n",
    "leads_data = leads_data[(leads_data.TotalVisits <= Q3)]\n",
    "Q1 = leads_data.TotalVisits.quantile(0.01)\n",
    "leads_data = leads_data[(leads_data.TotalVisits >= Q1)]\n",
    "sns.boxplot(y=leads_data['TotalVisits'])\n",
    "plt.show()"
   ]
  },
  {
   "cell_type": "markdown",
   "id": "8c7d3b04",
   "metadata": {},
   "source": [
    "###### Outlier Treatment - \"Total Time Spent on Website\" column\n",
    "<br>"
   ]
  },
  {
   "cell_type": "code",
   "execution_count": 39,
   "id": "cda65650",
   "metadata": {},
   "outputs": [
    {
     "data": {
      "image/png": "[encoded data removed]",
      "text/plain": [
       "<Figure size 432x288 with 1 Axes>"
      ]
     },
     "metadata": {
      "needs_background": "light"
     },
     "output_type": "display_data"
    }
   ],
   "source": [
    "#visualizing spread of variable\n",
    "\n",
    "plt.figure(figsize=(6,4))\n",
    "sns.boxplot(y=leads_data['Total Time Spent on Website'])\n",
    "plt.show()"
   ]
  },
  {
   "cell_type": "code",
   "execution_count": 40,
   "id": "d23e5ec0",
   "metadata": {},
   "outputs": [
    {
     "data": {
      "text/plain": [
       "count    9020.000000\n",
       "mean      479.759534\n",
       "std       544.688157\n",
       "min         0.000000\n",
       "5%          0.000000\n",
       "25%         7.000000\n",
       "50%       243.000000\n",
       "75%       915.250000\n",
       "90%      1371.000000\n",
       "95%      1554.050000\n",
       "99%      1836.620000\n",
       "max      2272.000000\n",
       "Name: Total Time Spent on Website, dtype: float64"
      ]
     },
     "execution_count": 40,
     "metadata": {},
     "output_type": "execute_result"
    }
   ],
   "source": [
    "#checking percentile values for \"Total Time Spent on Website\"\n",
    "\n",
    "leads_data['Total Time Spent on Website'].describe(percentiles=[0.05,.25, .5, .75, .90, .95, .99])"
   ]
  },
  {
   "cell_type": "markdown",
   "id": "3eb6dcd1",
   "metadata": {},
   "source": [
    "We can see no major outlier present in 'Total Time Spent on Website' column so we do not do any outlier treatment here."
   ]
  },
  {
   "cell_type": "markdown",
   "id": "6f79521f",
   "metadata": {},
   "source": [
    "###### Outlier Treatment - \"Page Views Per Visit\" column\n",
    "<br>"
   ]
  },
  {
   "cell_type": "code",
   "execution_count": 41,
   "id": "756f138f",
   "metadata": {},
   "outputs": [
    {
     "data": {
      "image/png": "[encoded data removed]",
      "text/plain": [
       "<Figure size 432x288 with 1 Axes>"
      ]
     },
     "metadata": {
      "needs_background": "light"
     },
     "output_type": "display_data"
    }
   ],
   "source": [
    "#visualizing spread of variable\n",
    "\n",
    "plt.figure(figsize=(6,4))\n",
    "sns.boxplot(y=leads_data['Page Views Per Visit'])\n",
    "plt.show()"
   ]
  },
  {
   "cell_type": "code",
   "execution_count": 42,
   "id": "debd3908",
   "metadata": {},
   "outputs": [
    {
     "data": {
      "text/plain": [
       "count    9020.000000\n",
       "mean        2.337271\n",
       "std         2.062363\n",
       "min         0.000000\n",
       "5%          0.000000\n",
       "25%         1.000000\n",
       "50%         2.000000\n",
       "75%         3.000000\n",
       "90%         5.000000\n",
       "95%         6.000000\n",
       "99%         9.000000\n",
       "max        16.000000\n",
       "Name: Page Views Per Visit, dtype: float64"
      ]
     },
     "execution_count": 42,
     "metadata": {},
     "output_type": "execute_result"
    }
   ],
   "source": [
    "#checking percentile values for \"Total Visits\"\n",
    "\n",
    "leads_data['Page Views Per Visit'].describe(percentiles=[0.05,.25, .5, .75, .90, .95, .99])"
   ]
  },
  {
   "cell_type": "code",
   "execution_count": 43,
   "id": "f247e3cf",
   "metadata": {},
   "outputs": [
    {
     "data": {
      "image/png": "[encoded data removed]",
      "text/plain": [
       "<Figure size 432x288 with 1 Axes>"
      ]
     },
     "metadata": {
      "needs_background": "light"
     },
     "output_type": "display_data"
    }
   ],
   "source": [
    "#Outlier Treatment: Remove top & bottom 1% \n",
    "\n",
    "Q3 = leads_data['Page Views Per Visit'].quantile(0.99)\n",
    "leads_data = leads_data[leads_data['Page Views Per Visit'] <= Q3]\n",
    "Q1 = leads_data['Page Views Per Visit'].quantile(0.01)\n",
    "leads_data = leads_data[leads_data['Page Views Per Visit'] >= Q1]\n",
    "sns.boxplot(y=leads_data['Page Views Per Visit'])\n",
    "plt.show()"
   ]
  },
  {
   "cell_type": "code",
   "execution_count": 44,
   "id": "324fc2cb",
   "metadata": {},
   "outputs": [
    {
     "data": {
      "text/plain": [
       "(8953, 28)"
      ]
     },
     "execution_count": 44,
     "metadata": {},
     "output_type": "execute_result"
    }
   ],
   "source": [
    "#now checking the shape of the dataset after outlier treatment\n",
    "\n",
    "leads_data.shape"
   ]
  },
  {
   "cell_type": "markdown",
   "id": "0ab45805",
   "metadata": {},
   "source": [
    "### 2.3 Checking other variables of the dataset\n",
    "<br>"
   ]
  },
  {
   "cell_type": "code",
   "execution_count": 45,
   "id": "bbc3cded",
   "metadata": {},
   "outputs": [
    {
     "data": {
      "text/plain": [
       "No     0.999777\n",
       "Yes    0.000223\n",
       "Name: Do Not Call, dtype: float64"
      ]
     },
     "execution_count": 45,
     "metadata": {},
     "output_type": "execute_result"
    }
   ],
   "source": [
    "#checking value counts for 'Do Not Call' column\n",
    "\n",
    "leads_data['Do Not Call'].value_counts(normalize = True)"
   ]
  },
  {
   "cell_type": "markdown",
   "id": "17dd1fa6",
   "metadata": {},
   "source": [
    "We can add 'Do Not Call' to drop column list as we can see that more than 99% of the values are No."
   ]
  },
  {
   "cell_type": "code",
   "execution_count": 46,
   "id": "115e3b52",
   "metadata": {},
   "outputs": [
    {
     "data": {
      "text/plain": [
       "['What matters most to you in choosing a course', 'Country', 'Do Not Call']"
      ]
     },
     "execution_count": 46,
     "metadata": {},
     "output_type": "execute_result"
    }
   ],
   "source": [
    "#adding the 'Do Not Call' column to cols_to_drop list\n",
    "\n",
    "cols_to_drop.append('Do Not Call')\n",
    "\n",
    "cols_to_drop"
   ]
  },
  {
   "cell_type": "code",
   "execution_count": 47,
   "id": "80af8e25",
   "metadata": {},
   "outputs": [
    {
     "data": {
      "text/plain": [
       "No     0.922149\n",
       "Yes    0.077851\n",
       "Name: Do Not Email, dtype: float64"
      ]
     },
     "execution_count": 47,
     "metadata": {},
     "output_type": "execute_result"
    }
   ],
   "source": [
    "#checking value counts for 'Do Not Email' column\n",
    "\n",
    "leads_data['Do Not Email'].value_counts(normalize = True)"
   ]
  },
  {
   "cell_type": "markdown",
   "id": "615b0788",
   "metadata": {},
   "source": [
    "This column can help in our analysis so we will keep this for now."
   ]
  },
  {
   "cell_type": "code",
   "execution_count": 48,
   "id": "ad5285fa",
   "metadata": {},
   "outputs": [
    {
     "data": {
      "text/plain": [
       "No     0.998548\n",
       "Yes    0.001452\n",
       "Name: Search, dtype: float64"
      ]
     },
     "execution_count": 48,
     "metadata": {},
     "output_type": "execute_result"
    }
   ],
   "source": [
    "#checking value counts for 'Search' column\n",
    "\n",
    "leads_data['Search'].value_counts(normalize = True)"
   ]
  },
  {
   "cell_type": "markdown",
   "id": "4f232c3c",
   "metadata": {},
   "source": [
    "We can add 'Search' to drop column list as we can see that more than 99% of the values are No."
   ]
  },
  {
   "cell_type": "code",
   "execution_count": 49,
   "id": "3e15255c",
   "metadata": {},
   "outputs": [
    {
     "data": {
      "text/plain": [
       "['What matters most to you in choosing a course',\n",
       " 'Country',\n",
       " 'Do Not Call',\n",
       " 'Search']"
      ]
     },
     "execution_count": 49,
     "metadata": {},
     "output_type": "execute_result"
    }
   ],
   "source": [
    "#adding the 'Search' column to cols_to_drop list\n",
    "\n",
    "cols_to_drop.append('Search')\n",
    "\n",
    "cols_to_drop"
   ]
  },
  {
   "cell_type": "code",
   "execution_count": 50,
   "id": "71264b3f",
   "metadata": {},
   "outputs": [
    {
     "data": {
      "text/plain": [
       "No    1.0\n",
       "Name: Magazine, dtype: float64"
      ]
     },
     "execution_count": 50,
     "metadata": {},
     "output_type": "execute_result"
    }
   ],
   "source": [
    "#checking value counts for 'Magazine' column\n",
    "\n",
    "leads_data['Magazine'].value_counts(normalize = True)"
   ]
  },
  {
   "cell_type": "markdown",
   "id": "353fbaf4",
   "metadata": {},
   "source": [
    "We can add 'Magazine' to drop column list as we can see that all the values are No."
   ]
  },
  {
   "cell_type": "code",
   "execution_count": 51,
   "id": "45af6f44",
   "metadata": {},
   "outputs": [
    {
     "data": {
      "text/plain": [
       "['What matters most to you in choosing a course',\n",
       " 'Country',\n",
       " 'Do Not Call',\n",
       " 'Search',\n",
       " 'Magazine']"
      ]
     },
     "execution_count": 51,
     "metadata": {},
     "output_type": "execute_result"
    }
   ],
   "source": [
    "#adding the 'Magazine' column to cols_to_drop list\n",
    "\n",
    "cols_to_drop.append('Magazine')\n",
    "\n",
    "cols_to_drop"
   ]
  },
  {
   "cell_type": "code",
   "execution_count": 52,
   "id": "4cc03df8",
   "metadata": {
    "scrolled": true
   },
   "outputs": [
    {
     "data": {
      "text/plain": [
       "No     0.999888\n",
       "Yes    0.000112\n",
       "Name: Newspaper Article, dtype: float64"
      ]
     },
     "execution_count": 52,
     "metadata": {},
     "output_type": "execute_result"
    }
   ],
   "source": [
    "#checking value counts for 'Newspaper Article' column\n",
    "\n",
    "leads_data['Newspaper Article'].value_counts(normalize = True)"
   ]
  },
  {
   "cell_type": "markdown",
   "id": "33161405",
   "metadata": {},
   "source": [
    "We can add 'Newspaper Article' to drop column list as we can see that more than 99% of the values are No."
   ]
  },
  {
   "cell_type": "code",
   "execution_count": 53,
   "id": "16c76ea4",
   "metadata": {},
   "outputs": [
    {
     "data": {
      "text/plain": [
       "['What matters most to you in choosing a course',\n",
       " 'Country',\n",
       " 'Do Not Call',\n",
       " 'Search',\n",
       " 'Magazine',\n",
       " 'Newspaper Article']"
      ]
     },
     "execution_count": 53,
     "metadata": {},
     "output_type": "execute_result"
    }
   ],
   "source": [
    "#adding the 'Newspaper Article' column to cols_to_drop list\n",
    "\n",
    "cols_to_drop.append('Newspaper Article')\n",
    "\n",
    "cols_to_drop"
   ]
  },
  {
   "cell_type": "code",
   "execution_count": 54,
   "id": "6a88954d",
   "metadata": {
    "scrolled": true
   },
   "outputs": [
    {
     "data": {
      "text/plain": [
       "No    1.0\n",
       "Name: X Education Forums, dtype: float64"
      ]
     },
     "execution_count": 54,
     "metadata": {},
     "output_type": "execute_result"
    }
   ],
   "source": [
    "#checking value counts for 'X Education Forums' column\n",
    "\n",
    "leads_data['X Education Forums'].value_counts(normalize = True)"
   ]
  },
  {
   "cell_type": "markdown",
   "id": "4d9aff3d",
   "metadata": {},
   "source": [
    "We can add 'X Education Forums' to drop column list as we can see that all the values are No."
   ]
  },
  {
   "cell_type": "code",
   "execution_count": 55,
   "id": "f0c3c8d6",
   "metadata": {},
   "outputs": [
    {
     "data": {
      "text/plain": [
       "['What matters most to you in choosing a course',\n",
       " 'Country',\n",
       " 'Do Not Call',\n",
       " 'Search',\n",
       " 'Magazine',\n",
       " 'Newspaper Article',\n",
       " 'X Education Forums']"
      ]
     },
     "execution_count": 55,
     "metadata": {},
     "output_type": "execute_result"
    }
   ],
   "source": [
    "#adding the 'X Education Forums' column to cols_to_drop list\n",
    "\n",
    "cols_to_drop.append('X Education Forums')\n",
    "\n",
    "cols_to_drop"
   ]
  },
  {
   "cell_type": "code",
   "execution_count": 56,
   "id": "1725e805",
   "metadata": {
    "scrolled": true
   },
   "outputs": [
    {
     "data": {
      "text/plain": [
       "No     0.999888\n",
       "Yes    0.000112\n",
       "Name: Newspaper, dtype: float64"
      ]
     },
     "execution_count": 56,
     "metadata": {},
     "output_type": "execute_result"
    }
   ],
   "source": [
    "#checking value counts for 'Newspaper' column\n",
    "\n",
    "leads_data['Newspaper'].value_counts(normalize = True)"
   ]
  },
  {
   "cell_type": "markdown",
   "id": "164deca2",
   "metadata": {},
   "source": [
    "We can add 'Newspaper' to drop column list as we can see that more than 99% of the values are No."
   ]
  },
  {
   "cell_type": "code",
   "execution_count": 57,
   "id": "ccbd34f9",
   "metadata": {},
   "outputs": [
    {
     "data": {
      "text/plain": [
       "['What matters most to you in choosing a course',\n",
       " 'Country',\n",
       " 'Do Not Call',\n",
       " 'Search',\n",
       " 'Magazine',\n",
       " 'Newspaper Article',\n",
       " 'X Education Forums',\n",
       " 'Newspaper']"
      ]
     },
     "execution_count": 57,
     "metadata": {},
     "output_type": "execute_result"
    }
   ],
   "source": [
    "#adding the 'Newspaper' column to cols_to_drop list\n",
    "\n",
    "cols_to_drop.append('Newspaper')\n",
    "\n",
    "cols_to_drop"
   ]
  },
  {
   "cell_type": "code",
   "execution_count": 58,
   "id": "74bf9f8a",
   "metadata": {
    "scrolled": true
   },
   "outputs": [
    {
     "data": {
      "text/plain": [
       "No     0.999665\n",
       "Yes    0.000335\n",
       "Name: Digital Advertisement, dtype: float64"
      ]
     },
     "execution_count": 58,
     "metadata": {},
     "output_type": "execute_result"
    }
   ],
   "source": [
    "#checking value counts for 'Digital Advertisement' column\n",
    "\n",
    "leads_data['Digital Advertisement'].value_counts(normalize = True)"
   ]
  },
  {
   "cell_type": "markdown",
   "id": "cb029ce9",
   "metadata": {},
   "source": [
    "We can add 'Digital Advertisement' to drop column list as we can see that more than 99% of the values are No."
   ]
  },
  {
   "cell_type": "code",
   "execution_count": 59,
   "id": "83d03874",
   "metadata": {},
   "outputs": [
    {
     "data": {
      "text/plain": [
       "['What matters most to you in choosing a course',\n",
       " 'Country',\n",
       " 'Do Not Call',\n",
       " 'Search',\n",
       " 'Magazine',\n",
       " 'Newspaper Article',\n",
       " 'X Education Forums',\n",
       " 'Newspaper',\n",
       " 'Digital Advertisement']"
      ]
     },
     "execution_count": 59,
     "metadata": {},
     "output_type": "execute_result"
    }
   ],
   "source": [
    "#adding the 'Digital Advertisement' column to cols_to_drop list\n",
    "\n",
    "cols_to_drop.append('Digital Advertisement')\n",
    "\n",
    "cols_to_drop"
   ]
  },
  {
   "cell_type": "code",
   "execution_count": 60,
   "id": "6e72733d",
   "metadata": {
    "scrolled": true
   },
   "outputs": [
    {
     "data": {
      "text/plain": [
       "No     0.99933\n",
       "Yes    0.00067\n",
       "Name: Through Recommendations, dtype: float64"
      ]
     },
     "execution_count": 60,
     "metadata": {},
     "output_type": "execute_result"
    }
   ],
   "source": [
    "#checking value counts for 'Through Recommendations' column\n",
    "\n",
    "leads_data['Through Recommendations'].value_counts(normalize = True)"
   ]
  },
  {
   "cell_type": "markdown",
   "id": "b450eb43",
   "metadata": {},
   "source": [
    "We can add 'Through Recommendations' to drop column list as we can see that more than 99% of the values are No."
   ]
  },
  {
   "cell_type": "code",
   "execution_count": 61,
   "id": "8a55e4aa",
   "metadata": {},
   "outputs": [
    {
     "data": {
      "text/plain": [
       "['What matters most to you in choosing a course',\n",
       " 'Country',\n",
       " 'Do Not Call',\n",
       " 'Search',\n",
       " 'Magazine',\n",
       " 'Newspaper Article',\n",
       " 'X Education Forums',\n",
       " 'Newspaper',\n",
       " 'Digital Advertisement',\n",
       " 'Through Recommendations']"
      ]
     },
     "execution_count": 61,
     "metadata": {},
     "output_type": "execute_result"
    }
   ],
   "source": [
    "#adding the 'Through Recommendations' column to cols_to_drop list\n",
    "\n",
    "cols_to_drop.append('Through Recommendations')\n",
    "\n",
    "cols_to_drop"
   ]
  },
  {
   "cell_type": "code",
   "execution_count": 62,
   "id": "133244f7",
   "metadata": {
    "scrolled": true
   },
   "outputs": [
    {
     "data": {
      "text/plain": [
       "No    1.0\n",
       "Name: Receive More Updates About Our Courses, dtype: float64"
      ]
     },
     "execution_count": 62,
     "metadata": {},
     "output_type": "execute_result"
    }
   ],
   "source": [
    "#checking value counts for 'Receive More Updates About Our Courses' column\n",
    "\n",
    "leads_data['Receive More Updates About Our Courses'].value_counts(normalize = True)"
   ]
  },
  {
   "cell_type": "markdown",
   "id": "c6957739",
   "metadata": {},
   "source": [
    "We can add 'Receive More Updates About Our Courses' to drop column list as we can see that all the values are No."
   ]
  },
  {
   "cell_type": "code",
   "execution_count": 63,
   "id": "dddee9f2",
   "metadata": {},
   "outputs": [
    {
     "data": {
      "text/plain": [
       "['What matters most to you in choosing a course',\n",
       " 'Country',\n",
       " 'Do Not Call',\n",
       " 'Search',\n",
       " 'Magazine',\n",
       " 'Newspaper Article',\n",
       " 'X Education Forums',\n",
       " 'Newspaper',\n",
       " 'Digital Advertisement',\n",
       " 'Through Recommendations',\n",
       " 'Receive More Updates About Our Courses']"
      ]
     },
     "execution_count": 63,
     "metadata": {},
     "output_type": "execute_result"
    }
   ],
   "source": [
    "#adding the 'Receive More Updates About Our Courses' column to cols_to_drop list\n",
    "\n",
    "cols_to_drop.append('Receive More Updates About Our Courses')\n",
    "\n",
    "cols_to_drop"
   ]
  },
  {
   "cell_type": "code",
   "execution_count": 64,
   "id": "e2ce0ff5",
   "metadata": {
    "scrolled": true
   },
   "outputs": [
    {
     "data": {
      "text/plain": [
       "No    1.0\n",
       "Name: Update me on Supply Chain Content, dtype: float64"
      ]
     },
     "execution_count": 64,
     "metadata": {},
     "output_type": "execute_result"
    }
   ],
   "source": [
    "#checking value counts for 'Update me on Supply Chain Content' column\n",
    "\n",
    "leads_data['Update me on Supply Chain Content'].value_counts(normalize = True)"
   ]
  },
  {
   "cell_type": "markdown",
   "id": "7c3bb026",
   "metadata": {},
   "source": [
    "We can add 'Update me on Supply Chain Content' to drop column list as we can see that all the values are No."
   ]
  },
  {
   "cell_type": "code",
   "execution_count": 65,
   "id": "788accaa",
   "metadata": {},
   "outputs": [
    {
     "data": {
      "text/plain": [
       "['What matters most to you in choosing a course',\n",
       " 'Country',\n",
       " 'Do Not Call',\n",
       " 'Search',\n",
       " 'Magazine',\n",
       " 'Newspaper Article',\n",
       " 'X Education Forums',\n",
       " 'Newspaper',\n",
       " 'Digital Advertisement',\n",
       " 'Through Recommendations',\n",
       " 'Receive More Updates About Our Courses',\n",
       " 'Update me on Supply Chain Content']"
      ]
     },
     "execution_count": 65,
     "metadata": {},
     "output_type": "execute_result"
    }
   ],
   "source": [
    "#adding the 'Update me on Supply Chain Content' column to cols_to_drop list\n",
    "\n",
    "cols_to_drop.append('Update me on Supply Chain Content')\n",
    "\n",
    "cols_to_drop"
   ]
  },
  {
   "cell_type": "code",
   "execution_count": 66,
   "id": "a1e8e990",
   "metadata": {
    "scrolled": false
   },
   "outputs": [
    {
     "data": {
      "text/plain": [
       "No    1.0\n",
       "Name: Get updates on DM Content, dtype: float64"
      ]
     },
     "execution_count": 66,
     "metadata": {},
     "output_type": "execute_result"
    }
   ],
   "source": [
    "#checking value counts for 'Get updates on DM Content' column\n",
    "\n",
    "leads_data['Get updates on DM Content'].value_counts(normalize = True)"
   ]
  },
  {
   "cell_type": "markdown",
   "id": "34a61cc8",
   "metadata": {},
   "source": [
    "We can add 'Get updates on DM Content' to drop column list as we can see that all the values are No."
   ]
  },
  {
   "cell_type": "code",
   "execution_count": 67,
   "id": "a5dcaee2",
   "metadata": {},
   "outputs": [
    {
     "data": {
      "text/plain": [
       "['What matters most to you in choosing a course',\n",
       " 'Country',\n",
       " 'Do Not Call',\n",
       " 'Search',\n",
       " 'Magazine',\n",
       " 'Newspaper Article',\n",
       " 'X Education Forums',\n",
       " 'Newspaper',\n",
       " 'Digital Advertisement',\n",
       " 'Through Recommendations',\n",
       " 'Receive More Updates About Our Courses',\n",
       " 'Update me on Supply Chain Content',\n",
       " 'Get updates on DM Content']"
      ]
     },
     "execution_count": 67,
     "metadata": {},
     "output_type": "execute_result"
    }
   ],
   "source": [
    "#adding the 'Get updates on DM Content' column to cols_to_drop list\n",
    "\n",
    "cols_to_drop.append('Get updates on DM Content')\n",
    "\n",
    "cols_to_drop"
   ]
  },
  {
   "cell_type": "code",
   "execution_count": 68,
   "id": "ec11fdc8",
   "metadata": {},
   "outputs": [
    {
     "data": {
      "text/plain": [
       "No    1.0\n",
       "Name: I agree to pay the amount through cheque, dtype: float64"
      ]
     },
     "execution_count": 68,
     "metadata": {},
     "output_type": "execute_result"
    }
   ],
   "source": [
    "#checking value counts for 'I agree to pay the amount through cheque' column\n",
    "\n",
    "leads_data['I agree to pay the amount through cheque'].value_counts(normalize = True)"
   ]
  },
  {
   "cell_type": "markdown",
   "id": "11f1e13d",
   "metadata": {},
   "source": [
    "We can add 'I agree to pay the amount through cheque' to drop column list as we can see that all the values are No."
   ]
  },
  {
   "cell_type": "code",
   "execution_count": 69,
   "id": "3a06222e",
   "metadata": {},
   "outputs": [
    {
     "data": {
      "text/plain": [
       "['What matters most to you in choosing a course',\n",
       " 'Country',\n",
       " 'Do Not Call',\n",
       " 'Search',\n",
       " 'Magazine',\n",
       " 'Newspaper Article',\n",
       " 'X Education Forums',\n",
       " 'Newspaper',\n",
       " 'Digital Advertisement',\n",
       " 'Through Recommendations',\n",
       " 'Receive More Updates About Our Courses',\n",
       " 'Update me on Supply Chain Content',\n",
       " 'Get updates on DM Content',\n",
       " 'I agree to pay the amount through cheque']"
      ]
     },
     "execution_count": 69,
     "metadata": {},
     "output_type": "execute_result"
    }
   ],
   "source": [
    "#adding the 'I agree to pay the amount through cheque' column to cols_to_drop list\n",
    "\n",
    "cols_to_drop.append('I agree to pay the amount through cheque')\n",
    "\n",
    "cols_to_drop"
   ]
  },
  {
   "cell_type": "code",
   "execution_count": 70,
   "id": "e78be494",
   "metadata": {},
   "outputs": [
    {
     "data": {
      "text/plain": [
       "No     0.687479\n",
       "Yes    0.312521\n",
       "Name: A free copy of Mastering The Interview, dtype: float64"
      ]
     },
     "execution_count": 70,
     "metadata": {},
     "output_type": "execute_result"
    }
   ],
   "source": [
    "#checking value counts for 'A free copy of Mastering The Interview' column\n",
    "\n",
    "leads_data['A free copy of Mastering The Interview'].value_counts(normalize = True)"
   ]
  },
  {
   "cell_type": "code",
   "execution_count": 71,
   "id": "c7b50372",
   "metadata": {},
   "outputs": [
    {
     "data": {
      "text/plain": [
       "Modified                        3224\n",
       "Email Opened                    2789\n",
       "SMS Sent                        2143\n",
       "Page Visited on Website          288\n",
       "Olark Chat Conversation          182\n",
       "Email Link Clicked               170\n",
       "Email Bounced                     59\n",
       "Unsubscribed                      46\n",
       "Unreachable                       32\n",
       "Had a Phone Conversation          13\n",
       "Email Marked Spam                  2\n",
       "Approached upfront                 1\n",
       "Resubscribed to emails             1\n",
       "View in browser link Clicked       1\n",
       "Form Submitted on Website          1\n",
       "Email Received                     1\n",
       "Name: Last Notable Activity, dtype: int64"
      ]
     },
     "execution_count": 71,
     "metadata": {},
     "output_type": "execute_result"
    }
   ],
   "source": [
    "#checking value counts of 'Last Notable Activity' column\n",
    "\n",
    "leads_data['Last Notable Activity'].value_counts()"
   ]
  },
  {
   "cell_type": "code",
   "execution_count": 72,
   "id": "b2bf1a0f",
   "metadata": {},
   "outputs": [],
   "source": [
    "#combining the low frequency value\n",
    "\n",
    "leads_data['Last Notable Activity'] = leads_data['Last Notable Activity'].replace(['Had a Phone Conversation',\n",
    "                                                                                   'Email Marked Spam','Unreachable',\n",
    "                                                                                   'Unsubscribed','Email Bounced',\n",
    "                                                                                   'Resubscribed to emails',\n",
    "                                                                                   'View in browser link Clicked',\n",
    "                                                                                   'Approached upfront', \n",
    "                                                                                   'Form Submitted on Website', \n",
    "                                                                                   'Email Received'],'Other_Notable_activity')"
   ]
  },
  {
   "cell_type": "code",
   "execution_count": 73,
   "id": "440f07a8",
   "metadata": {},
   "outputs": [
    {
     "data": {
      "text/plain": [
       "['What matters most to you in choosing a course',\n",
       " 'Country',\n",
       " 'Do Not Call',\n",
       " 'Search',\n",
       " 'Magazine',\n",
       " 'Newspaper Article',\n",
       " 'X Education Forums',\n",
       " 'Newspaper',\n",
       " 'Digital Advertisement',\n",
       " 'Through Recommendations',\n",
       " 'Receive More Updates About Our Courses',\n",
       " 'Update me on Supply Chain Content',\n",
       " 'Get updates on DM Content',\n",
       " 'I agree to pay the amount through cheque']"
      ]
     },
     "execution_count": 73,
     "metadata": {},
     "output_type": "execute_result"
    }
   ],
   "source": [
    "#list of columns that needs to be dropped\n",
    "\n",
    "cols_to_drop"
   ]
  },
  {
   "cell_type": "code",
   "execution_count": 74,
   "id": "4e9560fa",
   "metadata": {},
   "outputs": [
    {
     "name": "stdout",
     "output_type": "stream",
     "text": [
      "<class 'pandas.core.frame.DataFrame'>\n",
      "Int64Index: 8953 entries, 0 to 9239\n",
      "Data columns (total 14 columns):\n",
      " #   Column                                  Non-Null Count  Dtype  \n",
      "---  ------                                  --------------  -----  \n",
      " 0   Lead Origin                             8953 non-null   object \n",
      " 1   Lead Source                             8953 non-null   object \n",
      " 2   Do Not Email                            8953 non-null   object \n",
      " 3   Converted                               8953 non-null   int64  \n",
      " 4   TotalVisits                             8953 non-null   float64\n",
      " 5   Total Time Spent on Website             8953 non-null   int64  \n",
      " 6   Page Views Per Visit                    8953 non-null   float64\n",
      " 7   Last Activity                           8953 non-null   object \n",
      " 8   Specialization                          8953 non-null   object \n",
      " 9   What is your current occupation         8953 non-null   object \n",
      " 10  Tags                                    8953 non-null   object \n",
      " 11  City                                    8953 non-null   object \n",
      " 12  A free copy of Mastering The Interview  8953 non-null   object \n",
      " 13  Last Notable Activity                   8953 non-null   object \n",
      "dtypes: float64(2), int64(2), object(10)\n",
      "memory usage: 1.0+ MB\n"
     ]
    }
   ],
   "source": [
    "#dropping the columns\n",
    "\n",
    "leads_data.drop(cols_to_drop, axis = 1, inplace = True)\n",
    "\n",
    "leads_data.info()"
   ]
  },
  {
   "cell_type": "markdown",
   "id": "069d4829",
   "metadata": {},
   "source": [
    "### 2.4 Univariate Analysis\n",
    "<br>"
   ]
  },
  {
   "cell_type": "code",
   "execution_count": 75,
   "id": "ce3e46f6",
   "metadata": {},
   "outputs": [
    {
     "name": "stdout",
     "output_type": "stream",
     "text": [
      "categorical columns:  ['Lead Origin', 'Lead Source', 'Do Not Email', 'Last Activity', 'Specialization', 'What is your current occupation', 'Tags', 'City', 'A free copy of Mastering The Interview', 'Last Notable Activity']\n",
      "Continuous columns:  ['Converted', 'TotalVisits', 'Total Time Spent on Website', 'Page Views Per Visit']\n"
     ]
    }
   ],
   "source": [
    "#dividing categorical and continuous columns\n",
    "\n",
    "cat_cols = [col for col in leads_data.columns if leads_data[col].dtype == 'object']\n",
    "\n",
    "cont_cols = [col for col in leads_data.columns if leads_data[col].dtype in ['int64', 'float64']]\n",
    "\n",
    "print(\"categorical columns: \", cat_cols)\n",
    "\n",
    "print(\"Continuous columns: \", cont_cols)"
   ]
  },
  {
   "cell_type": "code",
   "execution_count": 76,
   "id": "a78f08f9",
   "metadata": {},
   "outputs": [
    {
     "data": {
      "image/png": "[encoded data removed]",
      "text/plain": [
       "<Figure size 360x360 with 1 Axes>"
      ]
     },
     "metadata": {},
     "output_type": "display_data"
    }
   ],
   "source": [
    "#checking the pconversion ration of the dataset\n",
    "\n",
    "fig = plt.figure(figsize=(5,5))\n",
    "plt.pie(leads_data['Converted'].value_counts(normalize=True)*100, autopct = \"%1.0f%%\", \n",
    "        labels=['Not Converted','CONVERTED'], explode=(0,0.01))\n",
    "plt.title('Conversion Ratio')\n",
    "plt.show()"
   ]
  },
  {
   "cell_type": "code",
   "execution_count": 77,
   "id": "08635254",
   "metadata": {},
   "outputs": [
    {
     "name": "stdout",
     "output_type": "stream",
     "text": [
      "Histogram of Converted :\n"
     ]
    },
    {
     "data": {
      "image/png": "[encoded data removed]",
      "text/plain": [
       "<Figure size 432x288 with 1 Axes>"
      ]
     },
     "metadata": {
      "needs_background": "light"
     },
     "output_type": "display_data"
    },
    {
     "name": "stdout",
     "output_type": "stream",
     "text": [
      "Histogram of TotalVisits :\n"
     ]
    },
    {
     "data": {
      "image/png": "[encoded data removed]",
      "text/plain": [
       "<Figure size 432x288 with 1 Axes>"
      ]
     },
     "metadata": {
      "needs_background": "light"
     },
     "output_type": "display_data"
    },
    {
     "name": "stdout",
     "output_type": "stream",
     "text": [
      "Histogram of Total Time Spent on Website :\n"
     ]
    },
    {
     "data": {
      "image/png": "[encoded data removed]",
      "text/plain": [
       "<Figure size 432x288 with 1 Axes>"
      ]
     },
     "metadata": {
      "needs_background": "light"
     },
     "output_type": "display_data"
    },
    {
     "name": "stdout",
     "output_type": "stream",
     "text": [
      "Histogram of Page Views Per Visit :\n"
     ]
    },
    {
     "data": {
      "image/png": "[encoded data removed]",
      "text/plain": [
       "<Figure size 432x288 with 1 Axes>"
      ]
     },
     "metadata": {
      "needs_background": "light"
     },
     "output_type": "display_data"
    }
   ],
   "source": [
    "#univariate analysis of continuous columns\n",
    "\n",
    "for i in cont_cols:\n",
    "    print('Histogram of',i,':')\n",
    "    sns.histplot(leads_data[i])\n",
    "    plt.show()"
   ]
  },
  {
   "cell_type": "markdown",
   "id": "bdc81e49",
   "metadata": {},
   "source": [
    "##### Observation from above plot: \n",
    "\n",
    "We can see that most of the leads have :\n",
    "\n",
    "- only visited once, \n",
    "- have spent one min on website\n",
    "- visited only one page"
   ]
  },
  {
   "cell_type": "code",
   "execution_count": 78,
   "id": "c2e942a4",
   "metadata": {
    "scrolled": false
   },
   "outputs": [
    {
     "name": "stdout",
     "output_type": "stream",
     "text": [
      "Count Plot of Lead Origin :\n"
     ]
    },
    {
     "data": {
      "image/png": "[encoded data removed]",
      "text/plain": [
       "<Figure size 432x288 with 1 Axes>"
      ]
     },
     "metadata": {
      "needs_background": "light"
     },
     "output_type": "display_data"
    },
    {
     "name": "stdout",
     "output_type": "stream",
     "text": [
      "Count Plot of Lead Source :\n"
     ]
    },
    {
     "data": {
      "image/png": "[encoded data removed]",
      "text/plain": [
       "<Figure size 432x288 with 1 Axes>"
      ]
     },
     "metadata": {
      "needs_background": "light"
     },
     "output_type": "display_data"
    },
    {
     "name": "stdout",
     "output_type": "stream",
     "text": [
      "Count Plot of Do Not Email :\n"
     ]
    },
    {
     "data": {
      "image/png": "[encoded data removed]",
      "text/plain": [
       "<Figure size 432x288 with 1 Axes>"
      ]
     },
     "metadata": {
      "needs_background": "light"
     },
     "output_type": "display_data"
    },
    {
     "name": "stdout",
     "output_type": "stream",
     "text": [
      "Count Plot of Last Activity :\n"
     ]
    },
    {
     "data": {
      "image/png": "[encoded data removed]",
      "text/plain": [
       "<Figure size 432x288 with 1 Axes>"
      ]
     },
     "metadata": {
      "needs_background": "light"
     },
     "output_type": "display_data"
    },
    {
     "name": "stdout",
     "output_type": "stream",
     "text": [
      "Count Plot of Specialization :\n"
     ]
    },
    {
     "data": {
      "image/png": "[encoded data removed]",
      "text/plain": [
       "<Figure size 432x288 with 1 Axes>"
      ]
     },
     "metadata": {
      "needs_background": "light"
     },
     "output_type": "display_data"
    },
    {
     "name": "stdout",
     "output_type": "stream",
     "text": [
      "Count Plot of What is your current occupation :\n"
     ]
    },
    {
     "data": {
      "image/png": "[encoded data removed]",
      "text/plain": [
       "<Figure size 432x288 with 1 Axes>"
      ]
     },
     "metadata": {
      "needs_background": "light"
     },
     "output_type": "display_data"
    },
    {
     "name": "stdout",
     "output_type": "stream",
     "text": [
      "Count Plot of Tags :\n"
     ]
    },
    {
     "data": {
      "image/png": "[encoded data removed]",
      "text/plain": [
       "<Figure size 432x288 with 1 Axes>"
      ]
     },
     "metadata": {
      "needs_background": "light"
     },
     "output_type": "display_data"
    },
    {
     "name": "stdout",
     "output_type": "stream",
     "text": [
      "Count Plot of City :\n"
     ]
    },
    {
     "data": {
      "image/png": "[encoded data removed]",
      "text/plain": [
       "<Figure size 432x288 with 1 Axes>"
      ]
     },
     "metadata": {
      "needs_background": "light"
     },
     "output_type": "display_data"
    },
    {
     "name": "stdout",
     "output_type": "stream",
     "text": [
      "Count Plot of A free copy of Mastering The Interview :\n"
     ]
    },
    {
     "data": {
      "image/png": "[encoded data removed]",
      "text/plain": [
       "<Figure size 432x288 with 1 Axes>"
      ]
     },
     "metadata": {
      "needs_background": "light"
     },
     "output_type": "display_data"
    },
    {
     "name": "stdout",
     "output_type": "stream",
     "text": [
      "Count Plot of Last Notable Activity :\n"
     ]
    },
    {
     "data": {
      "image/png": "[encoded data removed]",
      "text/plain": [
       "<Figure size 432x288 with 1 Axes>"
      ]
     },
     "metadata": {
      "needs_background": "light"
     },
     "output_type": "display_data"
    }
   ],
   "source": [
    "#univariate analysis of categorical columns\n",
    "\n",
    "for i in cat_cols:\n",
    "    print('Count Plot of',i,':')\n",
    "    sns.countplot(leads_data[i])\n",
    "    plt.xticks(rotation = 90)\n",
    "    plt.show()"
   ]
  },
  {
   "cell_type": "markdown",
   "id": "fd264315",
   "metadata": {},
   "source": [
    "##### Observation from above plot: \n",
    "\n",
    "- Most Leads are from Landing Submission Page, and API. \n",
    "\n",
    "- Lead are coming Google, Direct Traffic and Olark Chat.\n",
    "\n",
    "- Most of the leads want to get email about their course hence they have opted No. \n",
    "\n",
    "- Lead counts are high for SMS Sent and Email Opened. \n",
    "\n",
    "- We can see most of the leads are from Finance, HR and Marketing Management.\n",
    "\n",
    "- Unemployed and Working Professional have high leads count. \n",
    "\n",
    "- Most of the leads are from Mumbai. "
   ]
  },
  {
   "cell_type": "markdown",
   "id": "51f1ee58",
   "metadata": {},
   "source": [
    "### 2.4 Bivariate Analysis\n",
    "<br>"
   ]
  },
  {
   "cell_type": "code",
   "execution_count": 79,
   "id": "16b0df56",
   "metadata": {
    "scrolled": false
   },
   "outputs": [
    {
     "data": {
      "image/png": "[encoded data removed]",
      "text/plain": [
       "<Figure size 1080x432 with 1 Axes>"
      ]
     },
     "metadata": {
      "needs_background": "light"
     },
     "output_type": "display_data"
    },
    {
     "data": {
      "image/png": "[encoded data removed]",
      "text/plain": [
       "<Figure size 1080x432 with 1 Axes>"
      ]
     },
     "metadata": {
      "needs_background": "light"
     },
     "output_type": "display_data"
    },
    {
     "data": {
      "image/png": "[encoded data removed]",
      "text/plain": [
       "<Figure size 1080x432 with 1 Axes>"
      ]
     },
     "metadata": {
      "needs_background": "light"
     },
     "output_type": "display_data"
    },
    {
     "data": {
      "image/png": "[encoded data removed]",
      "text/plain": [
       "<Figure size 1080x432 with 1 Axes>"
      ]
     },
     "metadata": {
      "needs_background": "light"
     },
     "output_type": "display_data"
    },
    {
     "data": {
      "image/png": "[encoded data removed]",
      "text/plain": [
       "<Figure size 1080x432 with 1 Axes>"
      ]
     },
     "metadata": {
      "needs_background": "light"
     },
     "output_type": "display_data"
    },
    {
     "data": {
      "image/png": "[encoded data removed]",
      "text/plain": [
       "<Figure size 1080x432 with 1 Axes>"
      ]
     },
     "metadata": {
      "needs_background": "light"
     },
     "output_type": "display_data"
    },
    {
     "data": {
      "image/png": "[encoded data removed]",
      "text/plain": [
       "<Figure size 1080x432 with 1 Axes>"
      ]
     },
     "metadata": {
      "needs_background": "light"
     },
     "output_type": "display_data"
    },
    {
     "data": {
      "image/png": "[encoded data removed]",
      "text/plain": [
       "<Figure size 1080x432 with 1 Axes>"
      ]
     },
     "metadata": {
      "needs_background": "light"
     },
     "output_type": "display_data"
    },
    {
     "data": {
      "image/png": "[encoded data removed]",
      "text/plain": [
       "<Figure size 1080x432 with 1 Axes>"
      ]
     },
     "metadata": {
      "needs_background": "light"
     },
     "output_type": "display_data"
    },
    {
     "data": {
      "image/png": "[encoded data removed]",
      "text/plain": [
       "<Figure size 1080x432 with 1 Axes>"
      ]
     },
     "metadata": {
      "needs_background": "light"
     },
     "output_type": "display_data"
    }
   ],
   "source": [
    "#bivariate analysis of categorical columns against Converted Column\n",
    "\n",
    "for i in cat_cols:\n",
    "    plt.figure(figsize=(15,6))\n",
    "    sns.countplot(leads_data[i], hue=leads_data['Converted'])\n",
    "    plt.title(f\"Bivariate analysis of {i} against Converted\", fontsize = 12)\n",
    "    plt.xlabel(i, fontsize = 12)\n",
    "    plt.ylabel('Count', fontsize = 12)\n",
    "    plt.xticks(rotation = 90)\n",
    "    plt.show()"
   ]
  },
  {
   "cell_type": "markdown",
   "id": "679b6d58",
   "metadata": {},
   "source": [
    "##### Observation from above plot: \n",
    "\n",
    "**Lead Origin :**\n",
    "\n",
    "- Leads Originting from API and Landing Page Submission are high in number and they also have high conversion.\n",
    "\n",
    "- Lead Add Form have high conversion ratio but the Lead counts are not very high.\n",
    "\n",
    "- We have to focus on improving the conversion of leads coming from API & Landing Page Submission and along with that we need to work on improving the lead counts coming from Lead Add Form. \n",
    "\n",
    "**Lead Source :**\n",
    "\n",
    "- Lead Coming from Google and Direct Traffic are high. \n",
    "\n",
    "- Leads coming from Reference and Welingak Website have high conversion ratio. \n",
    "\n",
    "- We need to focus on improving the lead conversion for the leads coming Olark Chat, Organic Search, Direct Traffic and Google.\n",
    "\n",
    "**Last Activity:**\n",
    "\n",
    "- Count for Email Opened is high.\n",
    "\n",
    "- SMS sent have high conversion ratio.\n",
    "\n",
    "**Specialization :**\n",
    "\n",
    "- We can see that the Management Specialization have high number of leads and their conversions are also high.\n",
    "\n",
    "**Current Occupation :**\n",
    "\n",
    "- Working Professionals opting for the course have high chance of taking it. \n",
    "\n",
    "**Tags :**\n",
    "\n",
    "- Will revert after reading the email and Closed by Horizzon have high lead conversion ratio.\n",
    "\n",
    "**City :**\n",
    "\n",
    "- We can see that maximum leads are from Mumbai. \n",
    "\n",
    "**Last Notable Activity :**\n",
    "\n",
    "- We can see that SMS sent have high conversion ratio. \n",
    "\n",
    "- Modified and Email Opened have high lead counts."
   ]
  },
  {
   "cell_type": "code",
   "execution_count": 80,
   "id": "bbfe34b8",
   "metadata": {},
   "outputs": [],
   "source": [
    "#combining Management Specializations together because they show similar trends\n",
    "\n",
    "leads_data['Specialization'] = leads_data['Specialization'].replace(['Finance Management','Human Resource Management',\n",
    "                                                                     'Marketing Management','Operations Management',\n",
    "                                                                     'IT Projects Management','Supply Chain Management',\n",
    "                                                                     'Healthcare Management','Hospitality Management',\n",
    "                                                                     'Retail Management'] ,'Management_Specializations')"
   ]
  },
  {
   "cell_type": "code",
   "execution_count": 81,
   "id": "6da7d152",
   "metadata": {},
   "outputs": [
    {
     "data": {
      "image/png": "[encoded data removed]",
      "text/plain": [
       "<Figure size 1080x432 with 1 Axes>"
      ]
     },
     "metadata": {
      "needs_background": "light"
     },
     "output_type": "display_data"
    }
   ],
   "source": [
    "#plotting the graph for verification\n",
    "\n",
    "plt.figure(figsize=(15,6))\n",
    "sns.countplot(leads_data['Specialization'], hue=leads_data['Converted'])\n",
    "plt.title(\"Univariate analysis of Specialization column\", fontsize = 12)\n",
    "plt.xlabel('Specialization', fontsize = 12)\n",
    "plt.ylabel('Count', fontsize = 12)\n",
    "plt.xticks(rotation = 90)\n",
    "plt.show()"
   ]
  },
  {
   "cell_type": "code",
   "execution_count": 82,
   "id": "85a3b92d",
   "metadata": {},
   "outputs": [
    {
     "data": {
      "image/png": "[encoded data removed]",
      "text/plain": [
       "<Figure size 432x288 with 1 Axes>"
      ]
     },
     "metadata": {
      "needs_background": "light"
     },
     "output_type": "display_data"
    },
    {
     "data": {
      "image/png": "[encoded data removed]",
      "text/plain": [
       "<Figure size 432x288 with 1 Axes>"
      ]
     },
     "metadata": {
      "needs_background": "light"
     },
     "output_type": "display_data"
    },
    {
     "data": {
      "image/png": "[encoded data removed]",
      "text/plain": [
       "<Figure size 432x288 with 1 Axes>"
      ]
     },
     "metadata": {
      "needs_background": "light"
     },
     "output_type": "display_data"
    },
    {
     "data": {
      "image/png": "[encoded data removed]",
      "text/plain": [
       "<Figure size 432x288 with 1 Axes>"
      ]
     },
     "metadata": {
      "needs_background": "light"
     },
     "output_type": "display_data"
    }
   ],
   "source": [
    "#bivariate analysis of continuous columns\n",
    "\n",
    "for i in cont_cols:\n",
    "    sns.boxplot(y = i, x ='Converted', data = leads_data)\n",
    "    plt.title(f\"Bivariate analysis of {i} against Converted\", fontsize = 12)\n",
    "    plt.show()"
   ]
  },
  {
   "cell_type": "markdown",
   "id": "5c6dec3e",
   "metadata": {},
   "source": [
    "##### Observation from above plot: \n",
    "\n",
    "- Leads spending more time on website have more chance of getting converted. \n",
    "\n",
    "- Median of Page Views Per Visit and Total Visits are same so we cannot specifically say something here.  "
   ]
  },
  {
   "cell_type": "code",
   "execution_count": 83,
   "id": "0455d089",
   "metadata": {},
   "outputs": [
    {
     "data": {
      "image/png": "[encoded data removed]",
      "text/plain": [
       "<Figure size 576x432 with 2 Axes>"
      ]
     },
     "metadata": {
      "needs_background": "light"
     },
     "output_type": "display_data"
    }
   ],
   "source": [
    "#checking correlations of numeric values\n",
    "\n",
    "plt.figure(figsize = (8,6))\n",
    "corr = leads_data.corr()\n",
    "sns.heatmap(corr, linewidth = 0.01, square = True, annot = True, cmap = 'YlGnBu', linecolor = 'Black')\n",
    "plt.show()"
   ]
  },
  {
   "cell_type": "markdown",
   "id": "ee75b06c",
   "metadata": {},
   "source": [
    "##### Observation from above plot: \n",
    "\n",
    "- A positive correlation can be seen between Converted and Total TIme Spent on Website."
   ]
  },
  {
   "cell_type": "markdown",
   "id": "98f1c950",
   "metadata": {},
   "source": [
    "## 3. Creation of Dummy Variables\n",
    "<br>"
   ]
  },
  {
   "cell_type": "code",
   "execution_count": 84,
   "id": "781234b9",
   "metadata": {},
   "outputs": [
    {
     "name": "stdout",
     "output_type": "stream",
     "text": [
      "['Lead Origin', 'Lead Source', 'Do Not Email', 'Last Activity', 'Specialization', 'What is your current occupation', 'Tags', 'City', 'A free copy of Mastering The Interview', 'Last Notable Activity']\n"
     ]
    }
   ],
   "source": [
    "#getting the list of categorical columns\n",
    "\n",
    "print(cat_cols)"
   ]
  },
  {
   "cell_type": "code",
   "execution_count": 85,
   "id": "317dde0c",
   "metadata": {},
   "outputs": [],
   "source": [
    "#creating a list of variables to map\n",
    "\n",
    "var = ['Do Not Email', 'A free copy of Mastering The Interview']\n",
    "\n",
    "#defining the map function\n",
    "\n",
    "def binary_map(x):\n",
    "    return x.map({'Yes' : 0, 'No': 1})\n",
    "\n",
    "#mapping the variables\n",
    "\n",
    "leads_data[var] = leads_data[var].apply(binary_map)"
   ]
  },
  {
   "cell_type": "code",
   "execution_count": 86,
   "id": "00dde1fe",
   "metadata": {},
   "outputs": [],
   "source": [
    "#getting the dummy values\n",
    "\n",
    "dummy = pd.get_dummies(leads_data[['Lead Origin','What is your current occupation','City']], drop_first=True)\n",
    "\n",
    "leads_data = pd.concat([leads_data,dummy], axis = 1)"
   ]
  },
  {
   "cell_type": "code",
   "execution_count": 87,
   "id": "1b45b710",
   "metadata": {},
   "outputs": [],
   "source": [
    "dummy = pd.get_dummies(leads_data['Specialization'], prefix  = 'Specialization')\n",
    "dummy = dummy.drop(['Specialization_Not Specified'], axis = 1)\n",
    "leads_data = pd.concat([leads_data, dummy], axis = 1)"
   ]
  },
  {
   "cell_type": "code",
   "execution_count": 88,
   "id": "cee8dbc0",
   "metadata": {},
   "outputs": [],
   "source": [
    "dummy = pd.get_dummies(leads_data['Lead Source'], prefix  = 'Lead Source')\n",
    "dummy = dummy.drop(['Lead Source_Others'], axis = 1)\n",
    "leads_data = pd.concat([leads_data, dummy], axis = 1)"
   ]
  },
  {
   "cell_type": "code",
   "execution_count": 89,
   "id": "259d5ea9",
   "metadata": {},
   "outputs": [],
   "source": [
    "dummy = pd.get_dummies(leads_data['Last Activity'], prefix  = 'Last Activity')\n",
    "dummy = dummy.drop(['Last Activity_Others'], axis = 1)\n",
    "leads_data = pd.concat([leads_data, dummy], axis = 1)"
   ]
  },
  {
   "cell_type": "code",
   "execution_count": 90,
   "id": "3ac5b0c2",
   "metadata": {},
   "outputs": [],
   "source": [
    "dummy = pd.get_dummies(leads_data['Last Notable Activity'], prefix  = 'Last Notable Activity')\n",
    "dummy = dummy.drop(['Last Notable Activity_Other_Notable_activity'], axis = 1)\n",
    "leads_data = pd.concat([leads_data, dummy], axis = 1)"
   ]
  },
  {
   "cell_type": "code",
   "execution_count": 91,
   "id": "03fc2e40",
   "metadata": {},
   "outputs": [],
   "source": [
    "dummy = pd.get_dummies(leads_data['Tags'], prefix  = 'Tags')\n",
    "dummy = dummy.drop(['Tags_Not Specified'], axis = 1)\n",
    "leads_data = pd.concat([leads_data, dummy], axis = 1)"
   ]
  },
  {
   "cell_type": "code",
   "execution_count": 92,
   "id": "b7ad0117",
   "metadata": {},
   "outputs": [],
   "source": [
    "#dropping the original categorial columns after dummy variable column\n",
    "\n",
    "leads_data.drop(columns= ['Lead Origin', 'What is your current occupation','City','Specialization', 'Lead Source', \n",
    "                          'Last Activity', 'Last Notable Activity', 'Tags'], axis = 1, inplace = True)"
   ]
  },
  {
   "cell_type": "code",
   "execution_count": 93,
   "id": "eae249a3",
   "metadata": {},
   "outputs": [
    {
     "name": "stdout",
     "output_type": "stream",
     "text": [
      "<class 'pandas.core.frame.DataFrame'>\n",
      "Int64Index: 8953 entries, 0 to 9239\n",
      "Data columns (total 59 columns):\n",
      " #   Column                                                Non-Null Count  Dtype  \n",
      "---  ------                                                --------------  -----  \n",
      " 0   Do Not Email                                          8953 non-null   int64  \n",
      " 1   Converted                                             8953 non-null   int64  \n",
      " 2   TotalVisits                                           8953 non-null   float64\n",
      " 3   Total Time Spent on Website                           8953 non-null   int64  \n",
      " 4   Page Views Per Visit                                  8953 non-null   float64\n",
      " 5   A free copy of Mastering The Interview                8953 non-null   int64  \n",
      " 6   Lead Origin_Landing Page Submission                   8953 non-null   uint8  \n",
      " 7   Lead Origin_Lead Add Form                             8953 non-null   uint8  \n",
      " 8   Lead Origin_Lead Import                               8953 non-null   uint8  \n",
      " 9   What is your current occupation_Housewife             8953 non-null   uint8  \n",
      " 10  What is your current occupation_Other                 8953 non-null   uint8  \n",
      " 11  What is your current occupation_Student               8953 non-null   uint8  \n",
      " 12  What is your current occupation_Unemployed            8953 non-null   uint8  \n",
      " 13  What is your current occupation_Working Professional  8953 non-null   uint8  \n",
      " 14  City_Other Cities                                     8953 non-null   uint8  \n",
      " 15  City_Other Cities of Maharashtra                      8953 non-null   uint8  \n",
      " 16  City_Other Metro Cities                               8953 non-null   uint8  \n",
      " 17  City_Thane & Outskirts                                8953 non-null   uint8  \n",
      " 18  City_Tier II Cities                                   8953 non-null   uint8  \n",
      " 19  Specialization_Banking, Investment And Insurance      8953 non-null   uint8  \n",
      " 20  Specialization_Business Administration                8953 non-null   uint8  \n",
      " 21  Specialization_E-Business                             8953 non-null   uint8  \n",
      " 22  Specialization_E-COMMERCE                             8953 non-null   uint8  \n",
      " 23  Specialization_International Business                 8953 non-null   uint8  \n",
      " 24  Specialization_Management_Specializations             8953 non-null   uint8  \n",
      " 25  Specialization_Media and Advertising                  8953 non-null   uint8  \n",
      " 26  Specialization_Rural and Agribusiness                 8953 non-null   uint8  \n",
      " 27  Specialization_Services Excellence                    8953 non-null   uint8  \n",
      " 28  Specialization_Travel and Tourism                     8953 non-null   uint8  \n",
      " 29  Lead Source_Direct Traffic                            8953 non-null   uint8  \n",
      " 30  Lead Source_Google                                    8953 non-null   uint8  \n",
      " 31  Lead Source_Live Chat                                 8953 non-null   uint8  \n",
      " 32  Lead Source_Olark Chat                                8953 non-null   uint8  \n",
      " 33  Lead Source_Organic Search                            8953 non-null   uint8  \n",
      " 34  Lead Source_Reference                                 8953 non-null   uint8  \n",
      " 35  Lead Source_Referral Sites                            8953 non-null   uint8  \n",
      " 36  Lead Source_Social Media                              8953 non-null   uint8  \n",
      " 37  Lead Source_Welingak Website                          8953 non-null   uint8  \n",
      " 38  Last Activity_Converted to Lead                       8953 non-null   uint8  \n",
      " 39  Last Activity_Email Bounced                           8953 non-null   uint8  \n",
      " 40  Last Activity_Email Link Clicked                      8953 non-null   uint8  \n",
      " 41  Last Activity_Email Opened                            8953 non-null   uint8  \n",
      " 42  Last Activity_Form Submitted on Website               8953 non-null   uint8  \n",
      " 43  Last Activity_Olark Chat Conversation                 8953 non-null   uint8  \n",
      " 44  Last Activity_Page Visited on Website                 8953 non-null   uint8  \n",
      " 45  Last Activity_SMS Sent                                8953 non-null   uint8  \n",
      " 46  Last Notable Activity_Email Link Clicked              8953 non-null   uint8  \n",
      " 47  Last Notable Activity_Email Opened                    8953 non-null   uint8  \n",
      " 48  Last Notable Activity_Modified                        8953 non-null   uint8  \n",
      " 49  Last Notable Activity_Olark Chat Conversation         8953 non-null   uint8  \n",
      " 50  Last Notable Activity_Page Visited on Website         8953 non-null   uint8  \n",
      " 51  Last Notable Activity_SMS Sent                        8953 non-null   uint8  \n",
      " 52  Tags_Busy                                             8953 non-null   uint8  \n",
      " 53  Tags_Closed by Horizzon                               8953 non-null   uint8  \n",
      " 54  Tags_Interested in other courses                      8953 non-null   uint8  \n",
      " 55  Tags_Lost to EINS                                     8953 non-null   uint8  \n",
      " 56  Tags_Other_Tags                                       8953 non-null   uint8  \n",
      " 57  Tags_Ringing                                          8953 non-null   uint8  \n",
      " 58  Tags_Will revert after reading the email              8953 non-null   uint8  \n",
      "dtypes: float64(2), int64(4), uint8(53)\n",
      "memory usage: 953.0 KB\n"
     ]
    }
   ],
   "source": [
    "leads_data.info()"
   ]
  },
  {
   "cell_type": "code",
   "execution_count": 94,
   "id": "ebdc8fd0",
   "metadata": {},
   "outputs": [
    {
     "data": {
      "text/html": [
       "<div>\n",
       "<style scoped>\n",
       "    .dataframe tbody tr th:only-of-type {\n",
       "        vertical-align: middle;\n",
       "    }\n",
       "\n",
       "    .dataframe tbody tr th {\n",
       "        vertical-align: top;\n",
       "    }\n",
       "\n",
       "    .dataframe thead th {\n",
       "        text-align: right;\n",
       "    }\n",
       "</style>\n",
       "<table border=\"1\" class=\"dataframe\">\n",
       "  <thead>\n",
       "    <tr style=\"text-align: right;\">\n",
       "      <th></th>\n",
       "      <th>Do Not Email</th>\n",
       "      <th>Converted</th>\n",
       "      <th>TotalVisits</th>\n",
       "      <th>Total Time Spent on Website</th>\n",
       "      <th>Page Views Per Visit</th>\n",
       "      <th>A free copy of Mastering The Interview</th>\n",
       "      <th>Lead Origin_Landing Page Submission</th>\n",
       "      <th>Lead Origin_Lead Add Form</th>\n",
       "      <th>Lead Origin_Lead Import</th>\n",
       "      <th>What is your current occupation_Housewife</th>\n",
       "      <th>...</th>\n",
       "      <th>Last Notable Activity_Olark Chat Conversation</th>\n",
       "      <th>Last Notable Activity_Page Visited on Website</th>\n",
       "      <th>Last Notable Activity_SMS Sent</th>\n",
       "      <th>Tags_Busy</th>\n",
       "      <th>Tags_Closed by Horizzon</th>\n",
       "      <th>Tags_Interested in other courses</th>\n",
       "      <th>Tags_Lost to EINS</th>\n",
       "      <th>Tags_Other_Tags</th>\n",
       "      <th>Tags_Ringing</th>\n",
       "      <th>Tags_Will revert after reading the email</th>\n",
       "    </tr>\n",
       "  </thead>\n",
       "  <tbody>\n",
       "    <tr>\n",
       "      <th>0</th>\n",
       "      <td>1</td>\n",
       "      <td>0</td>\n",
       "      <td>0.0</td>\n",
       "      <td>0</td>\n",
       "      <td>0.0</td>\n",
       "      <td>1</td>\n",
       "      <td>0</td>\n",
       "      <td>0</td>\n",
       "      <td>0</td>\n",
       "      <td>0</td>\n",
       "      <td>...</td>\n",
       "      <td>0</td>\n",
       "      <td>0</td>\n",
       "      <td>0</td>\n",
       "      <td>0</td>\n",
       "      <td>0</td>\n",
       "      <td>1</td>\n",
       "      <td>0</td>\n",
       "      <td>0</td>\n",
       "      <td>0</td>\n",
       "      <td>0</td>\n",
       "    </tr>\n",
       "    <tr>\n",
       "      <th>1</th>\n",
       "      <td>1</td>\n",
       "      <td>0</td>\n",
       "      <td>5.0</td>\n",
       "      <td>674</td>\n",
       "      <td>2.5</td>\n",
       "      <td>1</td>\n",
       "      <td>0</td>\n",
       "      <td>0</td>\n",
       "      <td>0</td>\n",
       "      <td>0</td>\n",
       "      <td>...</td>\n",
       "      <td>0</td>\n",
       "      <td>0</td>\n",
       "      <td>0</td>\n",
       "      <td>0</td>\n",
       "      <td>0</td>\n",
       "      <td>0</td>\n",
       "      <td>0</td>\n",
       "      <td>0</td>\n",
       "      <td>1</td>\n",
       "      <td>0</td>\n",
       "    </tr>\n",
       "    <tr>\n",
       "      <th>2</th>\n",
       "      <td>1</td>\n",
       "      <td>1</td>\n",
       "      <td>2.0</td>\n",
       "      <td>1532</td>\n",
       "      <td>2.0</td>\n",
       "      <td>0</td>\n",
       "      <td>1</td>\n",
       "      <td>0</td>\n",
       "      <td>0</td>\n",
       "      <td>0</td>\n",
       "      <td>...</td>\n",
       "      <td>0</td>\n",
       "      <td>0</td>\n",
       "      <td>0</td>\n",
       "      <td>0</td>\n",
       "      <td>0</td>\n",
       "      <td>0</td>\n",
       "      <td>0</td>\n",
       "      <td>0</td>\n",
       "      <td>0</td>\n",
       "      <td>1</td>\n",
       "    </tr>\n",
       "    <tr>\n",
       "      <th>3</th>\n",
       "      <td>1</td>\n",
       "      <td>0</td>\n",
       "      <td>1.0</td>\n",
       "      <td>305</td>\n",
       "      <td>1.0</td>\n",
       "      <td>1</td>\n",
       "      <td>1</td>\n",
       "      <td>0</td>\n",
       "      <td>0</td>\n",
       "      <td>0</td>\n",
       "      <td>...</td>\n",
       "      <td>0</td>\n",
       "      <td>0</td>\n",
       "      <td>0</td>\n",
       "      <td>0</td>\n",
       "      <td>0</td>\n",
       "      <td>0</td>\n",
       "      <td>0</td>\n",
       "      <td>0</td>\n",
       "      <td>1</td>\n",
       "      <td>0</td>\n",
       "    </tr>\n",
       "    <tr>\n",
       "      <th>4</th>\n",
       "      <td>1</td>\n",
       "      <td>1</td>\n",
       "      <td>2.0</td>\n",
       "      <td>1428</td>\n",
       "      <td>1.0</td>\n",
       "      <td>1</td>\n",
       "      <td>1</td>\n",
       "      <td>0</td>\n",
       "      <td>0</td>\n",
       "      <td>0</td>\n",
       "      <td>...</td>\n",
       "      <td>0</td>\n",
       "      <td>0</td>\n",
       "      <td>0</td>\n",
       "      <td>0</td>\n",
       "      <td>0</td>\n",
       "      <td>0</td>\n",
       "      <td>0</td>\n",
       "      <td>0</td>\n",
       "      <td>0</td>\n",
       "      <td>1</td>\n",
       "    </tr>\n",
       "  </tbody>\n",
       "</table>\n",
       "<p>5 rows × 59 columns</p>\n",
       "</div>"
      ],
      "text/plain": [
       "   Do Not Email  Converted  TotalVisits  Total Time Spent on Website  \\\n",
       "0             1          0          0.0                            0   \n",
       "1             1          0          5.0                          674   \n",
       "2             1          1          2.0                         1532   \n",
       "3             1          0          1.0                          305   \n",
       "4             1          1          2.0                         1428   \n",
       "\n",
       "   Page Views Per Visit  A free copy of Mastering The Interview  \\\n",
       "0                   0.0                                       1   \n",
       "1                   2.5                                       1   \n",
       "2                   2.0                                       0   \n",
       "3                   1.0                                       1   \n",
       "4                   1.0                                       1   \n",
       "\n",
       "   Lead Origin_Landing Page Submission  Lead Origin_Lead Add Form  \\\n",
       "0                                    0                          0   \n",
       "1                                    0                          0   \n",
       "2                                    1                          0   \n",
       "3                                    1                          0   \n",
       "4                                    1                          0   \n",
       "\n",
       "   Lead Origin_Lead Import  What is your current occupation_Housewife  ...  \\\n",
       "0                        0                                          0  ...   \n",
       "1                        0                                          0  ...   \n",
       "2                        0                                          0  ...   \n",
       "3                        0                                          0  ...   \n",
       "4                        0                                          0  ...   \n",
       "\n",
       "   Last Notable Activity_Olark Chat Conversation  \\\n",
       "0                                              0   \n",
       "1                                              0   \n",
       "2                                              0   \n",
       "3                                              0   \n",
       "4                                              0   \n",
       "\n",
       "   Last Notable Activity_Page Visited on Website  \\\n",
       "0                                              0   \n",
       "1                                              0   \n",
       "2                                              0   \n",
       "3                                              0   \n",
       "4                                              0   \n",
       "\n",
       "   Last Notable Activity_SMS Sent  Tags_Busy  Tags_Closed by Horizzon  \\\n",
       "0                               0          0                        0   \n",
       "1                               0          0                        0   \n",
       "2                               0          0                        0   \n",
       "3                               0          0                        0   \n",
       "4                               0          0                        0   \n",
       "\n",
       "   Tags_Interested in other courses  Tags_Lost to EINS  Tags_Other_Tags  \\\n",
       "0                                 1                  0                0   \n",
       "1                                 0                  0                0   \n",
       "2                                 0                  0                0   \n",
       "3                                 0                  0                0   \n",
       "4                                 0                  0                0   \n",
       "\n",
       "   Tags_Ringing  Tags_Will revert after reading the email  \n",
       "0             0                                         0  \n",
       "1             1                                         0  \n",
       "2             0                                         1  \n",
       "3             1                                         0  \n",
       "4             0                                         1  \n",
       "\n",
       "[5 rows x 59 columns]"
      ]
     },
     "execution_count": 94,
     "metadata": {},
     "output_type": "execute_result"
    }
   ],
   "source": [
    "leads_data.head()"
   ]
  },
  {
   "cell_type": "markdown",
   "id": "0069ee76",
   "metadata": {},
   "source": [
    "## 3. Train Test Split\n",
    "<br>"
   ]
  },
  {
   "cell_type": "code",
   "execution_count": 95,
   "id": "64c1bd6f",
   "metadata": {},
   "outputs": [
    {
     "data": {
      "text/html": [
       "<div>\n",
       "<style scoped>\n",
       "    .dataframe tbody tr th:only-of-type {\n",
       "        vertical-align: middle;\n",
       "    }\n",
       "\n",
       "    .dataframe tbody tr th {\n",
       "        vertical-align: top;\n",
       "    }\n",
       "\n",
       "    .dataframe thead th {\n",
       "        text-align: right;\n",
       "    }\n",
       "</style>\n",
       "<table border=\"1\" class=\"dataframe\">\n",
       "  <thead>\n",
       "    <tr style=\"text-align: right;\">\n",
       "      <th></th>\n",
       "      <th>Do Not Email</th>\n",
       "      <th>TotalVisits</th>\n",
       "      <th>Total Time Spent on Website</th>\n",
       "      <th>Page Views Per Visit</th>\n",
       "      <th>A free copy of Mastering The Interview</th>\n",
       "      <th>Lead Origin_Landing Page Submission</th>\n",
       "      <th>Lead Origin_Lead Add Form</th>\n",
       "      <th>Lead Origin_Lead Import</th>\n",
       "      <th>What is your current occupation_Housewife</th>\n",
       "      <th>What is your current occupation_Other</th>\n",
       "      <th>...</th>\n",
       "      <th>Last Notable Activity_Olark Chat Conversation</th>\n",
       "      <th>Last Notable Activity_Page Visited on Website</th>\n",
       "      <th>Last Notable Activity_SMS Sent</th>\n",
       "      <th>Tags_Busy</th>\n",
       "      <th>Tags_Closed by Horizzon</th>\n",
       "      <th>Tags_Interested in other courses</th>\n",
       "      <th>Tags_Lost to EINS</th>\n",
       "      <th>Tags_Other_Tags</th>\n",
       "      <th>Tags_Ringing</th>\n",
       "      <th>Tags_Will revert after reading the email</th>\n",
       "    </tr>\n",
       "  </thead>\n",
       "  <tbody>\n",
       "    <tr>\n",
       "      <th>0</th>\n",
       "      <td>1</td>\n",
       "      <td>0.0</td>\n",
       "      <td>0</td>\n",
       "      <td>0.0</td>\n",
       "      <td>1</td>\n",
       "      <td>0</td>\n",
       "      <td>0</td>\n",
       "      <td>0</td>\n",
       "      <td>0</td>\n",
       "      <td>0</td>\n",
       "      <td>...</td>\n",
       "      <td>0</td>\n",
       "      <td>0</td>\n",
       "      <td>0</td>\n",
       "      <td>0</td>\n",
       "      <td>0</td>\n",
       "      <td>1</td>\n",
       "      <td>0</td>\n",
       "      <td>0</td>\n",
       "      <td>0</td>\n",
       "      <td>0</td>\n",
       "    </tr>\n",
       "    <tr>\n",
       "      <th>1</th>\n",
       "      <td>1</td>\n",
       "      <td>5.0</td>\n",
       "      <td>674</td>\n",
       "      <td>2.5</td>\n",
       "      <td>1</td>\n",
       "      <td>0</td>\n",
       "      <td>0</td>\n",
       "      <td>0</td>\n",
       "      <td>0</td>\n",
       "      <td>0</td>\n",
       "      <td>...</td>\n",
       "      <td>0</td>\n",
       "      <td>0</td>\n",
       "      <td>0</td>\n",
       "      <td>0</td>\n",
       "      <td>0</td>\n",
       "      <td>0</td>\n",
       "      <td>0</td>\n",
       "      <td>0</td>\n",
       "      <td>1</td>\n",
       "      <td>0</td>\n",
       "    </tr>\n",
       "    <tr>\n",
       "      <th>2</th>\n",
       "      <td>1</td>\n",
       "      <td>2.0</td>\n",
       "      <td>1532</td>\n",
       "      <td>2.0</td>\n",
       "      <td>0</td>\n",
       "      <td>1</td>\n",
       "      <td>0</td>\n",
       "      <td>0</td>\n",
       "      <td>0</td>\n",
       "      <td>0</td>\n",
       "      <td>...</td>\n",
       "      <td>0</td>\n",
       "      <td>0</td>\n",
       "      <td>0</td>\n",
       "      <td>0</td>\n",
       "      <td>0</td>\n",
       "      <td>0</td>\n",
       "      <td>0</td>\n",
       "      <td>0</td>\n",
       "      <td>0</td>\n",
       "      <td>1</td>\n",
       "    </tr>\n",
       "    <tr>\n",
       "      <th>3</th>\n",
       "      <td>1</td>\n",
       "      <td>1.0</td>\n",
       "      <td>305</td>\n",
       "      <td>1.0</td>\n",
       "      <td>1</td>\n",
       "      <td>1</td>\n",
       "      <td>0</td>\n",
       "      <td>0</td>\n",
       "      <td>0</td>\n",
       "      <td>0</td>\n",
       "      <td>...</td>\n",
       "      <td>0</td>\n",
       "      <td>0</td>\n",
       "      <td>0</td>\n",
       "      <td>0</td>\n",
       "      <td>0</td>\n",
       "      <td>0</td>\n",
       "      <td>0</td>\n",
       "      <td>0</td>\n",
       "      <td>1</td>\n",
       "      <td>0</td>\n",
       "    </tr>\n",
       "    <tr>\n",
       "      <th>4</th>\n",
       "      <td>1</td>\n",
       "      <td>2.0</td>\n",
       "      <td>1428</td>\n",
       "      <td>1.0</td>\n",
       "      <td>1</td>\n",
       "      <td>1</td>\n",
       "      <td>0</td>\n",
       "      <td>0</td>\n",
       "      <td>0</td>\n",
       "      <td>0</td>\n",
       "      <td>...</td>\n",
       "      <td>0</td>\n",
       "      <td>0</td>\n",
       "      <td>0</td>\n",
       "      <td>0</td>\n",
       "      <td>0</td>\n",
       "      <td>0</td>\n",
       "      <td>0</td>\n",
       "      <td>0</td>\n",
       "      <td>0</td>\n",
       "      <td>1</td>\n",
       "    </tr>\n",
       "  </tbody>\n",
       "</table>\n",
       "<p>5 rows × 58 columns</p>\n",
       "</div>"
      ],
      "text/plain": [
       "   Do Not Email  TotalVisits  Total Time Spent on Website  \\\n",
       "0             1          0.0                            0   \n",
       "1             1          5.0                          674   \n",
       "2             1          2.0                         1532   \n",
       "3             1          1.0                          305   \n",
       "4             1          2.0                         1428   \n",
       "\n",
       "   Page Views Per Visit  A free copy of Mastering The Interview  \\\n",
       "0                   0.0                                       1   \n",
       "1                   2.5                                       1   \n",
       "2                   2.0                                       0   \n",
       "3                   1.0                                       1   \n",
       "4                   1.0                                       1   \n",
       "\n",
       "   Lead Origin_Landing Page Submission  Lead Origin_Lead Add Form  \\\n",
       "0                                    0                          0   \n",
       "1                                    0                          0   \n",
       "2                                    1                          0   \n",
       "3                                    1                          0   \n",
       "4                                    1                          0   \n",
       "\n",
       "   Lead Origin_Lead Import  What is your current occupation_Housewife  \\\n",
       "0                        0                                          0   \n",
       "1                        0                                          0   \n",
       "2                        0                                          0   \n",
       "3                        0                                          0   \n",
       "4                        0                                          0   \n",
       "\n",
       "   What is your current occupation_Other  ...  \\\n",
       "0                                      0  ...   \n",
       "1                                      0  ...   \n",
       "2                                      0  ...   \n",
       "3                                      0  ...   \n",
       "4                                      0  ...   \n",
       "\n",
       "   Last Notable Activity_Olark Chat Conversation  \\\n",
       "0                                              0   \n",
       "1                                              0   \n",
       "2                                              0   \n",
       "3                                              0   \n",
       "4                                              0   \n",
       "\n",
       "   Last Notable Activity_Page Visited on Website  \\\n",
       "0                                              0   \n",
       "1                                              0   \n",
       "2                                              0   \n",
       "3                                              0   \n",
       "4                                              0   \n",
       "\n",
       "   Last Notable Activity_SMS Sent  Tags_Busy  Tags_Closed by Horizzon  \\\n",
       "0                               0          0                        0   \n",
       "1                               0          0                        0   \n",
       "2                               0          0                        0   \n",
       "3                               0          0                        0   \n",
       "4                               0          0                        0   \n",
       "\n",
       "   Tags_Interested in other courses  Tags_Lost to EINS  Tags_Other_Tags  \\\n",
       "0                                 1                  0                0   \n",
       "1                                 0                  0                0   \n",
       "2                                 0                  0                0   \n",
       "3                                 0                  0                0   \n",
       "4                                 0                  0                0   \n",
       "\n",
       "   Tags_Ringing  Tags_Will revert after reading the email  \n",
       "0             0                                         0  \n",
       "1             1                                         0  \n",
       "2             0                                         1  \n",
       "3             1                                         0  \n",
       "4             0                                         1  \n",
       "\n",
       "[5 rows x 58 columns]"
      ]
     },
     "execution_count": 95,
     "metadata": {},
     "output_type": "execute_result"
    }
   ],
   "source": [
    "#x variable\n",
    "\n",
    "X = leads_data.drop('Converted', axis = 1)\n",
    "\n",
    "X.head()"
   ]
  },
  {
   "cell_type": "code",
   "execution_count": 96,
   "id": "299fe608",
   "metadata": {},
   "outputs": [
    {
     "data": {
      "text/plain": [
       "0    0\n",
       "1    0\n",
       "2    1\n",
       "3    0\n",
       "4    1\n",
       "Name: Converted, dtype: int64"
      ]
     },
     "execution_count": 96,
     "metadata": {},
     "output_type": "execute_result"
    }
   ],
   "source": [
    "#putting response variable to y \n",
    "\n",
    "y = leads_data['Converted']\n",
    "\n",
    "y.head()"
   ]
  },
  {
   "cell_type": "code",
   "execution_count": 97,
   "id": "1590627c",
   "metadata": {},
   "outputs": [],
   "source": [
    "#splitting the data into train and test\n",
    "\n",
    "X_train, X_test, y_train, y_test = train_test_split(X, y, train_size= 0.7, random_state= 100)"
   ]
  },
  {
   "cell_type": "markdown",
   "id": "454d1260",
   "metadata": {},
   "source": [
    "## 4. Scaling of Data\n",
    "<br>"
   ]
  },
  {
   "cell_type": "code",
   "execution_count": 98,
   "id": "719655c6",
   "metadata": {},
   "outputs": [
    {
     "data": {
      "text/html": [
       "<div>\n",
       "<style scoped>\n",
       "    .dataframe tbody tr th:only-of-type {\n",
       "        vertical-align: middle;\n",
       "    }\n",
       "\n",
       "    .dataframe tbody tr th {\n",
       "        vertical-align: top;\n",
       "    }\n",
       "\n",
       "    .dataframe thead th {\n",
       "        text-align: right;\n",
       "    }\n",
       "</style>\n",
       "<table border=\"1\" class=\"dataframe\">\n",
       "  <thead>\n",
       "    <tr style=\"text-align: right;\">\n",
       "      <th></th>\n",
       "      <th>Do Not Email</th>\n",
       "      <th>TotalVisits</th>\n",
       "      <th>Total Time Spent on Website</th>\n",
       "      <th>Page Views Per Visit</th>\n",
       "      <th>A free copy of Mastering The Interview</th>\n",
       "      <th>Lead Origin_Landing Page Submission</th>\n",
       "      <th>Lead Origin_Lead Add Form</th>\n",
       "      <th>Lead Origin_Lead Import</th>\n",
       "      <th>What is your current occupation_Housewife</th>\n",
       "      <th>What is your current occupation_Other</th>\n",
       "      <th>...</th>\n",
       "      <th>Last Notable Activity_Olark Chat Conversation</th>\n",
       "      <th>Last Notable Activity_Page Visited on Website</th>\n",
       "      <th>Last Notable Activity_SMS Sent</th>\n",
       "      <th>Tags_Busy</th>\n",
       "      <th>Tags_Closed by Horizzon</th>\n",
       "      <th>Tags_Interested in other courses</th>\n",
       "      <th>Tags_Lost to EINS</th>\n",
       "      <th>Tags_Other_Tags</th>\n",
       "      <th>Tags_Ringing</th>\n",
       "      <th>Tags_Will revert after reading the email</th>\n",
       "    </tr>\n",
       "  </thead>\n",
       "  <tbody>\n",
       "    <tr>\n",
       "      <th>9196</th>\n",
       "      <td>0.28572</td>\n",
       "      <td>0.668862</td>\n",
       "      <td>1.848117</td>\n",
       "      <td>1.455819</td>\n",
       "      <td>0.667339</td>\n",
       "      <td>1</td>\n",
       "      <td>0</td>\n",
       "      <td>0</td>\n",
       "      <td>0</td>\n",
       "      <td>0</td>\n",
       "      <td>...</td>\n",
       "      <td>0</td>\n",
       "      <td>0</td>\n",
       "      <td>1</td>\n",
       "      <td>0</td>\n",
       "      <td>0</td>\n",
       "      <td>0</td>\n",
       "      <td>0</td>\n",
       "      <td>0</td>\n",
       "      <td>1</td>\n",
       "      <td>0</td>\n",
       "    </tr>\n",
       "    <tr>\n",
       "      <th>4696</th>\n",
       "      <td>0.28572</td>\n",
       "      <td>-0.030697</td>\n",
       "      <td>-0.037832</td>\n",
       "      <td>0.399961</td>\n",
       "      <td>0.667339</td>\n",
       "      <td>1</td>\n",
       "      <td>0</td>\n",
       "      <td>0</td>\n",
       "      <td>0</td>\n",
       "      <td>0</td>\n",
       "      <td>...</td>\n",
       "      <td>0</td>\n",
       "      <td>0</td>\n",
       "      <td>1</td>\n",
       "      <td>0</td>\n",
       "      <td>0</td>\n",
       "      <td>0</td>\n",
       "      <td>0</td>\n",
       "      <td>0</td>\n",
       "      <td>1</td>\n",
       "      <td>0</td>\n",
       "    </tr>\n",
       "    <tr>\n",
       "      <th>3274</th>\n",
       "      <td>0.28572</td>\n",
       "      <td>0.319082</td>\n",
       "      <td>-0.642138</td>\n",
       "      <td>-0.127967</td>\n",
       "      <td>0.667339</td>\n",
       "      <td>1</td>\n",
       "      <td>0</td>\n",
       "      <td>0</td>\n",
       "      <td>0</td>\n",
       "      <td>0</td>\n",
       "      <td>...</td>\n",
       "      <td>0</td>\n",
       "      <td>0</td>\n",
       "      <td>1</td>\n",
       "      <td>0</td>\n",
       "      <td>0</td>\n",
       "      <td>0</td>\n",
       "      <td>0</td>\n",
       "      <td>0</td>\n",
       "      <td>0</td>\n",
       "      <td>0</td>\n",
       "    </tr>\n",
       "    <tr>\n",
       "      <th>2164</th>\n",
       "      <td>0.28572</td>\n",
       "      <td>-0.380477</td>\n",
       "      <td>-0.154676</td>\n",
       "      <td>-0.127967</td>\n",
       "      <td>0.667339</td>\n",
       "      <td>0</td>\n",
       "      <td>0</td>\n",
       "      <td>0</td>\n",
       "      <td>0</td>\n",
       "      <td>0</td>\n",
       "      <td>...</td>\n",
       "      <td>0</td>\n",
       "      <td>0</td>\n",
       "      <td>0</td>\n",
       "      <td>0</td>\n",
       "      <td>0</td>\n",
       "      <td>1</td>\n",
       "      <td>0</td>\n",
       "      <td>0</td>\n",
       "      <td>0</td>\n",
       "      <td>0</td>\n",
       "    </tr>\n",
       "    <tr>\n",
       "      <th>1667</th>\n",
       "      <td>0.28572</td>\n",
       "      <td>0.319082</td>\n",
       "      <td>1.258415</td>\n",
       "      <td>-0.481679</td>\n",
       "      <td>0.667339</td>\n",
       "      <td>0</td>\n",
       "      <td>0</td>\n",
       "      <td>0</td>\n",
       "      <td>0</td>\n",
       "      <td>0</td>\n",
       "      <td>...</td>\n",
       "      <td>0</td>\n",
       "      <td>0</td>\n",
       "      <td>0</td>\n",
       "      <td>0</td>\n",
       "      <td>0</td>\n",
       "      <td>0</td>\n",
       "      <td>0</td>\n",
       "      <td>0</td>\n",
       "      <td>0</td>\n",
       "      <td>1</td>\n",
       "    </tr>\n",
       "  </tbody>\n",
       "</table>\n",
       "<p>5 rows × 58 columns</p>\n",
       "</div>"
      ],
      "text/plain": [
       "      Do Not Email  TotalVisits  Total Time Spent on Website  \\\n",
       "9196       0.28572     0.668862                     1.848117   \n",
       "4696       0.28572    -0.030697                    -0.037832   \n",
       "3274       0.28572     0.319082                    -0.642138   \n",
       "2164       0.28572    -0.380477                    -0.154676   \n",
       "1667       0.28572     0.319082                     1.258415   \n",
       "\n",
       "      Page Views Per Visit  A free copy of Mastering The Interview  \\\n",
       "9196              1.455819                                0.667339   \n",
       "4696              0.399961                                0.667339   \n",
       "3274             -0.127967                                0.667339   \n",
       "2164             -0.127967                                0.667339   \n",
       "1667             -0.481679                                0.667339   \n",
       "\n",
       "      Lead Origin_Landing Page Submission  Lead Origin_Lead Add Form  \\\n",
       "9196                                    1                          0   \n",
       "4696                                    1                          0   \n",
       "3274                                    1                          0   \n",
       "2164                                    0                          0   \n",
       "1667                                    0                          0   \n",
       "\n",
       "      Lead Origin_Lead Import  What is your current occupation_Housewife  \\\n",
       "9196                        0                                          0   \n",
       "4696                        0                                          0   \n",
       "3274                        0                                          0   \n",
       "2164                        0                                          0   \n",
       "1667                        0                                          0   \n",
       "\n",
       "      What is your current occupation_Other  ...  \\\n",
       "9196                                      0  ...   \n",
       "4696                                      0  ...   \n",
       "3274                                      0  ...   \n",
       "2164                                      0  ...   \n",
       "1667                                      0  ...   \n",
       "\n",
       "      Last Notable Activity_Olark Chat Conversation  \\\n",
       "9196                                              0   \n",
       "4696                                              0   \n",
       "3274                                              0   \n",
       "2164                                              0   \n",
       "1667                                              0   \n",
       "\n",
       "      Last Notable Activity_Page Visited on Website  \\\n",
       "9196                                              0   \n",
       "4696                                              0   \n",
       "3274                                              0   \n",
       "2164                                              0   \n",
       "1667                                              0   \n",
       "\n",
       "      Last Notable Activity_SMS Sent  Tags_Busy  Tags_Closed by Horizzon  \\\n",
       "9196                               1          0                        0   \n",
       "4696                               1          0                        0   \n",
       "3274                               1          0                        0   \n",
       "2164                               0          0                        0   \n",
       "1667                               0          0                        0   \n",
       "\n",
       "      Tags_Interested in other courses  Tags_Lost to EINS  Tags_Other_Tags  \\\n",
       "9196                                 0                  0                0   \n",
       "4696                                 0                  0                0   \n",
       "3274                                 0                  0                0   \n",
       "2164                                 1                  0                0   \n",
       "1667                                 0                  0                0   \n",
       "\n",
       "      Tags_Ringing  Tags_Will revert after reading the email  \n",
       "9196             1                                         0  \n",
       "4696             1                                         0  \n",
       "3274             0                                         0  \n",
       "2164             0                                         0  \n",
       "1667             0                                         1  \n",
       "\n",
       "[5 rows x 58 columns]"
      ]
     },
     "execution_count": 98,
     "metadata": {},
     "output_type": "execute_result"
    }
   ],
   "source": [
    "#scaling numeric columns\n",
    "\n",
    "num_cols = [col for col in X_train if X_train[col].dtype in ['int64','float64']]\n",
    "\n",
    "scaler = StandardScaler()\n",
    "\n",
    "X_train[num_cols] = scaler.fit_transform(X_train[num_cols])\n",
    "\n",
    "X_train.head()"
   ]
  },
  {
   "cell_type": "markdown",
   "id": "f3f9f612",
   "metadata": {},
   "source": [
    "## 5. Model Building\n",
    "<br>"
   ]
  },
  {
   "cell_type": "code",
   "execution_count": 99,
   "id": "95c952d3",
   "metadata": {},
   "outputs": [],
   "source": [
    "#running RFE with output number of variables = 20\n",
    "\n",
    "\n",
    "log_reg = LogisticRegression()\n",
    "\n",
    "rfe = RFE(log_reg, n_features_to_select=20)\n",
    "rfe = rfe.fit(X_train, y_train)"
   ]
  },
  {
   "cell_type": "code",
   "execution_count": 100,
   "id": "3381c4d2",
   "metadata": {},
   "outputs": [
    {
     "data": {
      "text/plain": [
       "array([False, False,  True, False, False, False,  True, False, False,\n",
       "       False, False, False, False, False, False, False, False, False,\n",
       "       False, False, False, False, False, False, False, False, False,\n",
       "       False,  True,  True, False, False,  True, False,  True, False,\n",
       "        True, False,  True, False, False, False,  True, False,  True,\n",
       "        True, False,  True,  True, False,  True, False,  True,  True,\n",
       "        True,  True,  True,  True])"
      ]
     },
     "execution_count": 100,
     "metadata": {},
     "output_type": "execute_result"
    }
   ],
   "source": [
    "rfe.support_"
   ]
  },
  {
   "cell_type": "code",
   "execution_count": 101,
   "id": "99c6bd58",
   "metadata": {},
   "outputs": [
    {
     "data": {
      "text/plain": [
       "[('Do Not Email', False, 24),\n",
       " ('TotalVisits', False, 21),\n",
       " ('Total Time Spent on Website', True, 1),\n",
       " ('Page Views Per Visit', False, 19),\n",
       " ('A free copy of Mastering The Interview', False, 31),\n",
       " ('Lead Origin_Landing Page Submission', False, 5),\n",
       " ('Lead Origin_Lead Add Form', True, 1),\n",
       " ('Lead Origin_Lead Import', False, 11),\n",
       " ('What is your current occupation_Housewife', False, 25),\n",
       " ('What is your current occupation_Other', False, 29),\n",
       " ('What is your current occupation_Student', False, 18),\n",
       " ('What is your current occupation_Unemployed', False, 15),\n",
       " ('What is your current occupation_Working Professional', False, 3),\n",
       " ('City_Other Cities', False, 17),\n",
       " ('City_Other Cities of Maharashtra', False, 33),\n",
       " ('City_Other Metro Cities', False, 38),\n",
       " ('City_Thane & Outskirts', False, 34),\n",
       " ('City_Tier II Cities', False, 22),\n",
       " ('Specialization_Banking, Investment And Insurance', False, 9),\n",
       " ('Specialization_Business Administration', False, 32),\n",
       " ('Specialization_E-Business', False, 28),\n",
       " ('Specialization_E-COMMERCE', False, 16),\n",
       " ('Specialization_International Business', False, 37),\n",
       " ('Specialization_Management_Specializations', False, 30),\n",
       " ('Specialization_Media and Advertising', False, 27),\n",
       " ('Specialization_Rural and Agribusiness', False, 35),\n",
       " ('Specialization_Services Excellence', False, 23),\n",
       " ('Specialization_Travel and Tourism', False, 2),\n",
       " ('Lead Source_Direct Traffic', True, 1),\n",
       " ('Lead Source_Google', True, 1),\n",
       " ('Lead Source_Live Chat', False, 39),\n",
       " ('Lead Source_Olark Chat', False, 26),\n",
       " ('Lead Source_Organic Search', True, 1),\n",
       " ('Lead Source_Reference', False, 8),\n",
       " ('Lead Source_Referral Sites', True, 1),\n",
       " ('Lead Source_Social Media', False, 10),\n",
       " ('Lead Source_Welingak Website', True, 1),\n",
       " ('Last Activity_Converted to Lead', False, 6),\n",
       " ('Last Activity_Email Bounced', True, 1),\n",
       " ('Last Activity_Email Link Clicked', False, 36),\n",
       " ('Last Activity_Email Opened', False, 13),\n",
       " ('Last Activity_Form Submitted on Website', False, 12),\n",
       " ('Last Activity_Olark Chat Conversation', True, 1),\n",
       " ('Last Activity_Page Visited on Website', False, 7),\n",
       " ('Last Activity_SMS Sent', True, 1),\n",
       " ('Last Notable Activity_Email Link Clicked', True, 1),\n",
       " ('Last Notable Activity_Email Opened', False, 14),\n",
       " ('Last Notable Activity_Modified', True, 1),\n",
       " ('Last Notable Activity_Olark Chat Conversation', True, 1),\n",
       " ('Last Notable Activity_Page Visited on Website', False, 20),\n",
       " ('Last Notable Activity_SMS Sent', True, 1),\n",
       " ('Tags_Busy', False, 4),\n",
       " ('Tags_Closed by Horizzon', True, 1),\n",
       " ('Tags_Interested in other courses', True, 1),\n",
       " ('Tags_Lost to EINS', True, 1),\n",
       " ('Tags_Other_Tags', True, 1),\n",
       " ('Tags_Ringing', True, 1),\n",
       " ('Tags_Will revert after reading the email', True, 1)]"
      ]
     },
     "execution_count": 101,
     "metadata": {},
     "output_type": "execute_result"
    }
   ],
   "source": [
    "list(zip(X_train.columns, rfe.support_, rfe.ranking_))"
   ]
  },
  {
   "cell_type": "code",
   "execution_count": 102,
   "id": "eacde545",
   "metadata": {},
   "outputs": [
    {
     "data": {
      "text/plain": [
       "Index(['Total Time Spent on Website', 'Lead Origin_Lead Add Form',\n",
       "       'Lead Source_Direct Traffic', 'Lead Source_Google',\n",
       "       'Lead Source_Organic Search', 'Lead Source_Referral Sites',\n",
       "       'Lead Source_Welingak Website', 'Last Activity_Email Bounced',\n",
       "       'Last Activity_Olark Chat Conversation', 'Last Activity_SMS Sent',\n",
       "       'Last Notable Activity_Email Link Clicked',\n",
       "       'Last Notable Activity_Modified',\n",
       "       'Last Notable Activity_Olark Chat Conversation',\n",
       "       'Last Notable Activity_SMS Sent', 'Tags_Closed by Horizzon',\n",
       "       'Tags_Interested in other courses', 'Tags_Lost to EINS',\n",
       "       'Tags_Other_Tags', 'Tags_Ringing',\n",
       "       'Tags_Will revert after reading the email'],\n",
       "      dtype='object')"
      ]
     },
     "execution_count": 102,
     "metadata": {},
     "output_type": "execute_result"
    }
   ],
   "source": [
    "#list of RFE supported columns\n",
    "\n",
    "col = X_train.columns[rfe.support_]\n",
    "col"
   ]
  },
  {
   "cell_type": "code",
   "execution_count": 103,
   "id": "f4fddadc",
   "metadata": {},
   "outputs": [
    {
     "data": {
      "text/plain": [
       "Index(['Do Not Email', 'TotalVisits', 'Page Views Per Visit',\n",
       "       'A free copy of Mastering The Interview',\n",
       "       'Lead Origin_Landing Page Submission', 'Lead Origin_Lead Import',\n",
       "       'What is your current occupation_Housewife',\n",
       "       'What is your current occupation_Other',\n",
       "       'What is your current occupation_Student',\n",
       "       'What is your current occupation_Unemployed',\n",
       "       'What is your current occupation_Working Professional',\n",
       "       'City_Other Cities', 'City_Other Cities of Maharashtra',\n",
       "       'City_Other Metro Cities', 'City_Thane & Outskirts',\n",
       "       'City_Tier II Cities',\n",
       "       'Specialization_Banking, Investment And Insurance',\n",
       "       'Specialization_Business Administration', 'Specialization_E-Business',\n",
       "       'Specialization_E-COMMERCE', 'Specialization_International Business',\n",
       "       'Specialization_Management_Specializations',\n",
       "       'Specialization_Media and Advertising',\n",
       "       'Specialization_Rural and Agribusiness',\n",
       "       'Specialization_Services Excellence',\n",
       "       'Specialization_Travel and Tourism', 'Lead Source_Live Chat',\n",
       "       'Lead Source_Olark Chat', 'Lead Source_Reference',\n",
       "       'Lead Source_Social Media', 'Last Activity_Converted to Lead',\n",
       "       'Last Activity_Email Link Clicked', 'Last Activity_Email Opened',\n",
       "       'Last Activity_Form Submitted on Website',\n",
       "       'Last Activity_Page Visited on Website',\n",
       "       'Last Notable Activity_Email Opened',\n",
       "       'Last Notable Activity_Page Visited on Website', 'Tags_Busy'],\n",
       "      dtype='object')"
      ]
     },
     "execution_count": 103,
     "metadata": {},
     "output_type": "execute_result"
    }
   ],
   "source": [
    "X_train.columns[~rfe.support_]"
   ]
  },
  {
   "cell_type": "code",
   "execution_count": 104,
   "id": "9ec1048d",
   "metadata": {},
   "outputs": [
    {
     "name": "stdout",
     "output_type": "stream",
     "text": [
      "                 Generalized Linear Model Regression Results                  \n",
      "==============================================================================\n",
      "Dep. Variable:              Converted   No. Observations:                 6267\n",
      "Model:                            GLM   Df Residuals:                     6246\n",
      "Model Family:                Binomial   Df Model:                           20\n",
      "Link Function:                  Logit   Scale:                          1.0000\n",
      "Method:                          IRLS   Log-Likelihood:                -1216.3\n",
      "Date:                Mon, 23 Jan 2023   Deviance:                       2432.5\n",
      "Time:                        11:26:29   Pearson chi2:                 8.27e+03\n",
      "No. Iterations:                     8   Pseudo R-squ. (CS):             0.6096\n",
      "Covariance Type:            nonrobust                                         \n",
      "=================================================================================================================\n",
      "                                                    coef    std err          z      P>|z|      [0.025      0.975]\n",
      "-----------------------------------------------------------------------------------------------------------------\n",
      "const                                            -0.3467      0.130     -2.666      0.008      -0.601      -0.092\n",
      "Total Time Spent on Website                       1.0919      0.062     17.751      0.000       0.971       1.212\n",
      "Lead Origin_Lead Add Form                         0.9532      0.460      2.071      0.038       0.051       1.855\n",
      "Lead Source_Direct Traffic                       -1.7660      0.178     -9.903      0.000      -2.116      -1.417\n",
      "Lead Source_Google                               -1.1832      0.161     -7.333      0.000      -1.499      -0.867\n",
      "Lead Source_Organic Search                       -1.2549      0.202     -6.200      0.000      -1.652      -0.858\n",
      "Lead Source_Referral Sites                       -1.3972      0.487     -2.871      0.004      -2.351      -0.443\n",
      "Lead Source_Welingak Website                      4.0326      1.113      3.622      0.000       1.851       6.215\n",
      "Last Activity_Email Bounced                      -1.1538      0.465     -2.484      0.013      -2.064      -0.243\n",
      "Last Activity_Olark Chat Conversation            -0.8954      0.298     -3.001      0.003      -1.480      -0.311\n",
      "Last Activity_SMS Sent                            1.0727      0.242      4.431      0.000       0.598       1.547\n",
      "Last Notable Activity_Email Link Clicked         -1.2754      0.467     -2.729      0.006      -2.191      -0.360\n",
      "Last Notable Activity_Modified                   -1.0790      0.173     -6.234      0.000      -1.418      -0.740\n",
      "Last Notable Activity_Olark Chat Conversation    -1.3139      0.568     -2.312      0.021      -2.428      -0.200\n",
      "Last Notable Activity_SMS Sent                    1.1584      0.275      4.220      0.000       0.620       1.696\n",
      "Tags_Closed by Horizzon                           7.0119      1.020      6.875      0.000       5.013       9.011\n",
      "Tags_Interested in other courses                 -2.1610      0.411     -5.253      0.000      -2.967      -1.355\n",
      "Tags_Lost to EINS                                 5.7237      0.617      9.276      0.000       4.514       6.933\n",
      "Tags_Other_Tags                                  -2.3690      0.214    -11.075      0.000      -2.788      -1.950\n",
      "Tags_Ringing                                     -3.5520      0.245    -14.510      0.000      -4.032      -3.072\n",
      "Tags_Will revert after reading the email          4.5318      0.190     23.896      0.000       4.160       4.904\n",
      "=================================================================================================================\n"
     ]
    }
   ],
   "source": [
    "#BUILDING MODEL #1\n",
    "\n",
    "X_train_sm = sm.add_constant(X_train[col])\n",
    "logm1 = sm.GLM(y_train,X_train_sm, family = sm.families.Binomial())\n",
    "res = logm1.fit()\n",
    "print(res.summary())"
   ]
  },
  {
   "cell_type": "markdown",
   "id": "c0f446f7",
   "metadata": {},
   "source": [
    "Dropping 'Lead Origin_Lead Add Form' column as it has very high p-value."
   ]
  },
  {
   "cell_type": "code",
   "execution_count": 105,
   "id": "ac37aba0",
   "metadata": {},
   "outputs": [],
   "source": [
    "#dropping column 'Lead Source_Referral Sites' as it have high p-value\n",
    "\n",
    "col = col.drop('Lead Origin_Lead Add Form')"
   ]
  },
  {
   "cell_type": "code",
   "execution_count": 106,
   "id": "7bd4aa0d",
   "metadata": {},
   "outputs": [
    {
     "name": "stdout",
     "output_type": "stream",
     "text": [
      "                 Generalized Linear Model Regression Results                  \n",
      "==============================================================================\n",
      "Dep. Variable:              Converted   No. Observations:                 6267\n",
      "Model:                            GLM   Df Residuals:                     6247\n",
      "Model Family:                Binomial   Df Model:                           19\n",
      "Link Function:                  Logit   Scale:                          1.0000\n",
      "Method:                          IRLS   Log-Likelihood:                -1218.5\n",
      "Date:                Mon, 23 Jan 2023   Deviance:                       2437.0\n",
      "Time:                        11:26:29   Pearson chi2:                 8.46e+03\n",
      "No. Iterations:                     8   Pseudo R-squ. (CS):             0.6093\n",
      "Covariance Type:            nonrobust                                         \n",
      "=================================================================================================================\n",
      "                                                    coef    std err          z      P>|z|      [0.025      0.975]\n",
      "-----------------------------------------------------------------------------------------------------------------\n",
      "const                                            -0.2959      0.127     -2.332      0.020      -0.545      -0.047\n",
      "Total Time Spent on Website                       1.0921      0.062     17.706      0.000       0.971       1.213\n",
      "Lead Source_Direct Traffic                       -1.8409      0.175    -10.530      0.000      -2.184      -1.498\n",
      "Lead Source_Google                               -1.2487      0.158     -7.895      0.000      -1.559      -0.939\n",
      "Lead Source_Organic Search                       -1.3235      0.200     -6.617      0.000      -1.716      -0.931\n",
      "Lead Source_Referral Sites                       -1.4617      0.488     -2.995      0.003      -2.418      -0.505\n",
      "Lead Source_Welingak Website                      4.9345      1.024      4.819      0.000       2.928       6.941\n",
      "Last Activity_Email Bounced                      -1.1587      0.467     -2.480      0.013      -2.074      -0.243\n",
      "Last Activity_Olark Chat Conversation            -0.9361      0.299     -3.126      0.002      -1.523      -0.349\n",
      "Last Activity_SMS Sent                            1.0925      0.242      4.522      0.000       0.619       1.566\n",
      "Last Notable Activity_Email Link Clicked         -1.2946      0.464     -2.793      0.005      -2.203      -0.386\n",
      "Last Notable Activity_Modified                   -1.0868      0.174     -6.260      0.000      -1.427      -0.747\n",
      "Last Notable Activity_Olark Chat Conversation    -1.3116      0.570     -2.300      0.021      -2.429      -0.194\n",
      "Last Notable Activity_SMS Sent                    1.1547      0.274      4.211      0.000       0.617       1.692\n",
      "Tags_Closed by Horizzon                           7.2820      1.014      7.184      0.000       5.295       9.269\n",
      "Tags_Interested in other courses                 -2.1482      0.412     -5.212      0.000      -2.956      -1.340\n",
      "Tags_Lost to EINS                                 5.7696      0.616      9.359      0.000       4.561       6.978\n",
      "Tags_Other_Tags                                  -2.3486      0.213    -11.001      0.000      -2.767      -1.930\n",
      "Tags_Ringing                                     -3.5114      0.243    -14.432      0.000      -3.988      -3.035\n",
      "Tags_Will revert after reading the email          4.6091      0.186     24.735      0.000       4.244       4.974\n",
      "=================================================================================================================\n"
     ]
    }
   ],
   "source": [
    "#BUILDING MODEL #2\n",
    "\n",
    "X_train_sm = sm.add_constant(X_train[col])\n",
    "logm2 = sm.GLM(y_train,X_train_sm, family = sm.families.Binomial())\n",
    "res = logm2.fit()\n",
    "print(res.summary())"
   ]
  },
  {
   "cell_type": "markdown",
   "id": "d2b8aa1a",
   "metadata": {},
   "source": [
    "Dropping 'Last Notable Activity_Olark Chat Conversation' column as it has very high p-value."
   ]
  },
  {
   "cell_type": "code",
   "execution_count": 107,
   "id": "e63114ca",
   "metadata": {},
   "outputs": [],
   "source": [
    "#dropping column 'Last Notable Activity_Olark Chat Conversation' as it have high p-value\n",
    "\n",
    "col = col.drop('Last Notable Activity_Olark Chat Conversation')"
   ]
  },
  {
   "cell_type": "code",
   "execution_count": 108,
   "id": "78fb1fff",
   "metadata": {},
   "outputs": [
    {
     "name": "stdout",
     "output_type": "stream",
     "text": [
      "                 Generalized Linear Model Regression Results                  \n",
      "==============================================================================\n",
      "Dep. Variable:              Converted   No. Observations:                 6267\n",
      "Model:                            GLM   Df Residuals:                     6248\n",
      "Model Family:                Binomial   Df Model:                           18\n",
      "Link Function:                  Logit   Scale:                          1.0000\n",
      "Method:                          IRLS   Log-Likelihood:                -1221.5\n",
      "Date:                Mon, 23 Jan 2023   Deviance:                       2443.0\n",
      "Time:                        11:26:29   Pearson chi2:                 8.48e+03\n",
      "No. Iterations:                     8   Pseudo R-squ. (CS):             0.6089\n",
      "Covariance Type:            nonrobust                                         \n",
      "============================================================================================================\n",
      "                                               coef    std err          z      P>|z|      [0.025      0.975]\n",
      "------------------------------------------------------------------------------------------------------------\n",
      "const                                       -0.3301      0.126     -2.619      0.009      -0.577      -0.083\n",
      "Total Time Spent on Website                  1.0793      0.061     17.665      0.000       0.960       1.199\n",
      "Lead Source_Direct Traffic                  -1.8340      0.174    -10.512      0.000      -2.176      -1.492\n",
      "Lead Source_Google                          -1.2434      0.158     -7.885      0.000      -1.552      -0.934\n",
      "Lead Source_Organic Search                  -1.3178      0.200     -6.588      0.000      -1.710      -0.926\n",
      "Lead Source_Referral Sites                  -1.4483      0.484     -2.991      0.003      -2.397      -0.499\n",
      "Lead Source_Welingak Website                 4.9407      1.024      4.826      0.000       2.934       6.947\n",
      "Last Activity_Email Bounced                 -1.2052      0.466     -2.586      0.010      -2.119      -0.292\n",
      "Last Activity_Olark Chat Conversation       -1.3719      0.249     -5.517      0.000      -1.859      -0.885\n",
      "Last Activity_SMS Sent                       0.9883      0.235      4.200      0.000       0.527       1.450\n",
      "Last Notable Activity_Email Link Clicked    -1.2677      0.463     -2.737      0.006      -2.175      -0.360\n",
      "Last Notable Activity_Modified              -0.9494      0.161     -5.898      0.000      -1.265      -0.634\n",
      "Last Notable Activity_SMS Sent               1.2876      0.267      4.827      0.000       0.765       1.810\n",
      "Tags_Closed by Horizzon                      7.2398      1.013      7.146      0.000       5.254       9.225\n",
      "Tags_Interested in other courses            -2.1634      0.412     -5.253      0.000      -2.971      -1.356\n",
      "Tags_Lost to EINS                            5.7697      0.621      9.294      0.000       4.553       6.986\n",
      "Tags_Other_Tags                             -2.3409      0.213    -10.991      0.000      -2.758      -1.923\n",
      "Tags_Ringing                                -3.4994      0.243    -14.408      0.000      -3.975      -3.023\n",
      "Tags_Will revert after reading the email     4.6082      0.186     24.785      0.000       4.244       4.973\n",
      "============================================================================================================\n"
     ]
    }
   ],
   "source": [
    "#BUILDING MODEL #3\n",
    "\n",
    "X_train_sm = sm.add_constant(X_train[col])\n",
    "logm3 = sm.GLM(y_train,X_train_sm, family = sm.families.Binomial())\n",
    "res = logm3.fit()\n",
    "print(res.summary())"
   ]
  },
  {
   "cell_type": "markdown",
   "id": "f8af12d6",
   "metadata": {},
   "source": [
    "Dropping 'Last Activity_Email Bounced ' column as it has a p-value over the threshold limit."
   ]
  },
  {
   "cell_type": "code",
   "execution_count": 109,
   "id": "612ee860",
   "metadata": {},
   "outputs": [],
   "source": [
    "#dropping column 'Last Activity_Email Bounced' as it has a p-value over the threshold limit.\n",
    "\n",
    "col = col.drop('Last Activity_Email Bounced')"
   ]
  },
  {
   "cell_type": "code",
   "execution_count": 110,
   "id": "f8553f51",
   "metadata": {},
   "outputs": [
    {
     "name": "stdout",
     "output_type": "stream",
     "text": [
      "                 Generalized Linear Model Regression Results                  \n",
      "==============================================================================\n",
      "Dep. Variable:              Converted   No. Observations:                 6267\n",
      "Model:                            GLM   Df Residuals:                     6249\n",
      "Model Family:                Binomial   Df Model:                           17\n",
      "Link Function:                  Logit   Scale:                          1.0000\n",
      "Method:                          IRLS   Log-Likelihood:                -1225.6\n",
      "Date:                Mon, 23 Jan 2023   Deviance:                       2451.1\n",
      "Time:                        11:26:29   Pearson chi2:                 8.34e+03\n",
      "No. Iterations:                     8   Pseudo R-squ. (CS):             0.6084\n",
      "Covariance Type:            nonrobust                                         \n",
      "============================================================================================================\n",
      "                                               coef    std err          z      P>|z|      [0.025      0.975]\n",
      "------------------------------------------------------------------------------------------------------------\n",
      "const                                       -0.3555      0.126     -2.828      0.005      -0.602      -0.109\n",
      "Total Time Spent on Website                  1.0740      0.061     17.650      0.000       0.955       1.193\n",
      "Lead Source_Direct Traffic                  -1.8438      0.174    -10.592      0.000      -2.185      -1.503\n",
      "Lead Source_Google                          -1.2355      0.157     -7.844      0.000      -1.544      -0.927\n",
      "Lead Source_Organic Search                  -1.3221      0.200     -6.617      0.000      -1.714      -0.931\n",
      "Lead Source_Referral Sites                  -1.4241      0.484     -2.944      0.003      -2.372      -0.476\n",
      "Lead Source_Welingak Website                 4.9052      1.022      4.798      0.000       2.901       6.909\n",
      "Last Activity_Olark Chat Conversation       -1.3050      0.248     -5.271      0.000      -1.790      -0.820\n",
      "Last Activity_SMS Sent                       1.0902      0.233      4.679      0.000       0.633       1.547\n",
      "Last Notable Activity_Email Link Clicked    -1.2531      0.465     -2.697      0.007      -2.164      -0.342\n",
      "Last Notable Activity_Modified              -1.0264      0.159     -6.476      0.000      -1.337      -0.716\n",
      "Last Notable Activity_SMS Sent               1.2098      0.265      4.560      0.000       0.690       1.730\n",
      "Tags_Closed by Horizzon                      7.2864      1.013      7.191      0.000       5.300       9.272\n",
      "Tags_Interested in other courses            -2.1679      0.413     -5.248      0.000      -2.978      -1.358\n",
      "Tags_Lost to EINS                            5.8101      0.621      9.360      0.000       4.593       7.027\n",
      "Tags_Other_Tags                             -2.3376      0.213    -10.992      0.000      -2.754      -1.921\n",
      "Tags_Ringing                                -3.4906      0.243    -14.374      0.000      -3.967      -3.015\n",
      "Tags_Will revert after reading the email     4.6332      0.186     24.915      0.000       4.269       4.998\n",
      "============================================================================================================\n"
     ]
    }
   ],
   "source": [
    "#BUILDING MODEL #4\n",
    "\n",
    "X_train_sm = sm.add_constant(X_train[col])\n",
    "logm4 = sm.GLM(y_train,X_train_sm, family = sm.families.Binomial())\n",
    "res = logm4.fit()\n",
    "print(res.summary())"
   ]
  },
  {
   "cell_type": "markdown",
   "id": "a493aadf",
   "metadata": {},
   "source": [
    "Checking VIFs"
   ]
  },
  {
   "cell_type": "code",
   "execution_count": 111,
   "id": "4da4b793",
   "metadata": {},
   "outputs": [
    {
     "data": {
      "text/html": [
       "<div>\n",
       "<style scoped>\n",
       "    .dataframe tbody tr th:only-of-type {\n",
       "        vertical-align: middle;\n",
       "    }\n",
       "\n",
       "    .dataframe tbody tr th {\n",
       "        vertical-align: top;\n",
       "    }\n",
       "\n",
       "    .dataframe thead th {\n",
       "        text-align: right;\n",
       "    }\n",
       "</style>\n",
       "<table border=\"1\" class=\"dataframe\">\n",
       "  <thead>\n",
       "    <tr style=\"text-align: right;\">\n",
       "      <th></th>\n",
       "      <th>Features</th>\n",
       "      <th>VIF</th>\n",
       "    </tr>\n",
       "  </thead>\n",
       "  <tbody>\n",
       "    <tr>\n",
       "      <th>10</th>\n",
       "      <td>Last Notable Activity_SMS Sent</td>\n",
       "      <td>6.59</td>\n",
       "    </tr>\n",
       "    <tr>\n",
       "      <th>7</th>\n",
       "      <td>Last Activity_SMS Sent</td>\n",
       "      <td>6.43</td>\n",
       "    </tr>\n",
       "    <tr>\n",
       "      <th>9</th>\n",
       "      <td>Last Notable Activity_Modified</td>\n",
       "      <td>2.41</td>\n",
       "    </tr>\n",
       "    <tr>\n",
       "      <th>2</th>\n",
       "      <td>Lead Source_Google</td>\n",
       "      <td>1.78</td>\n",
       "    </tr>\n",
       "    <tr>\n",
       "      <th>1</th>\n",
       "      <td>Lead Source_Direct Traffic</td>\n",
       "      <td>1.75</td>\n",
       "    </tr>\n",
       "    <tr>\n",
       "      <th>16</th>\n",
       "      <td>Tags_Will revert after reading the email</td>\n",
       "      <td>1.54</td>\n",
       "    </tr>\n",
       "    <tr>\n",
       "      <th>14</th>\n",
       "      <td>Tags_Other_Tags</td>\n",
       "      <td>1.40</td>\n",
       "    </tr>\n",
       "    <tr>\n",
       "      <th>6</th>\n",
       "      <td>Last Activity_Olark Chat Conversation</td>\n",
       "      <td>1.38</td>\n",
       "    </tr>\n",
       "    <tr>\n",
       "      <th>15</th>\n",
       "      <td>Tags_Ringing</td>\n",
       "      <td>1.35</td>\n",
       "    </tr>\n",
       "    <tr>\n",
       "      <th>3</th>\n",
       "      <td>Lead Source_Organic Search</td>\n",
       "      <td>1.31</td>\n",
       "    </tr>\n",
       "    <tr>\n",
       "      <th>0</th>\n",
       "      <td>Total Time Spent on Website</td>\n",
       "      <td>1.27</td>\n",
       "    </tr>\n",
       "    <tr>\n",
       "      <th>12</th>\n",
       "      <td>Tags_Interested in other courses</td>\n",
       "      <td>1.19</td>\n",
       "    </tr>\n",
       "    <tr>\n",
       "      <th>11</th>\n",
       "      <td>Tags_Closed by Horizzon</td>\n",
       "      <td>1.07</td>\n",
       "    </tr>\n",
       "    <tr>\n",
       "      <th>13</th>\n",
       "      <td>Tags_Lost to EINS</td>\n",
       "      <td>1.06</td>\n",
       "    </tr>\n",
       "    <tr>\n",
       "      <th>5</th>\n",
       "      <td>Lead Source_Welingak Website</td>\n",
       "      <td>1.05</td>\n",
       "    </tr>\n",
       "    <tr>\n",
       "      <th>4</th>\n",
       "      <td>Lead Source_Referral Sites</td>\n",
       "      <td>1.04</td>\n",
       "    </tr>\n",
       "    <tr>\n",
       "      <th>8</th>\n",
       "      <td>Last Notable Activity_Email Link Clicked</td>\n",
       "      <td>1.03</td>\n",
       "    </tr>\n",
       "  </tbody>\n",
       "</table>\n",
       "</div>"
      ],
      "text/plain": [
       "                                    Features   VIF\n",
       "10            Last Notable Activity_SMS Sent  6.59\n",
       "7                     Last Activity_SMS Sent  6.43\n",
       "9             Last Notable Activity_Modified  2.41\n",
       "2                         Lead Source_Google  1.78\n",
       "1                 Lead Source_Direct Traffic  1.75\n",
       "16  Tags_Will revert after reading the email  1.54\n",
       "14                           Tags_Other_Tags  1.40\n",
       "6      Last Activity_Olark Chat Conversation  1.38\n",
       "15                              Tags_Ringing  1.35\n",
       "3                 Lead Source_Organic Search  1.31\n",
       "0                Total Time Spent on Website  1.27\n",
       "12          Tags_Interested in other courses  1.19\n",
       "11                   Tags_Closed by Horizzon  1.07\n",
       "13                         Tags_Lost to EINS  1.06\n",
       "5               Lead Source_Welingak Website  1.05\n",
       "4                 Lead Source_Referral Sites  1.04\n",
       "8   Last Notable Activity_Email Link Clicked  1.03"
      ]
     },
     "execution_count": 111,
     "metadata": {},
     "output_type": "execute_result"
    }
   ],
   "source": [
    "#creating a dataframe that will contain the names of all the feature variables and their respective VIFs\n",
    "\n",
    "vif = pd.DataFrame()\n",
    "vif['Features'] = X_train[col].columns\n",
    "vif['VIF'] = [variance_inflation_factor(X_train[col].values, i) for i in range(X_train[col].shape[1])]\n",
    "vif['VIF'] = round(vif['VIF'], 2)\n",
    "vif = vif.sort_values(by = \"VIF\", ascending = False)\n",
    "vif"
   ]
  },
  {
   "cell_type": "markdown",
   "id": "9e637feb",
   "metadata": {},
   "source": [
    "Dropping 'Last Notable Activity_SMS Sent' column as it is insignificant in presence of other value due to high VIF."
   ]
  },
  {
   "cell_type": "code",
   "execution_count": 112,
   "id": "3aa1355b",
   "metadata": {},
   "outputs": [],
   "source": [
    "#dropping variable with high VIF\n",
    "\n",
    "col = col.drop('Last Notable Activity_SMS Sent')"
   ]
  },
  {
   "cell_type": "code",
   "execution_count": 113,
   "id": "0bac22a8",
   "metadata": {},
   "outputs": [
    {
     "name": "stdout",
     "output_type": "stream",
     "text": [
      "                 Generalized Linear Model Regression Results                  \n",
      "==============================================================================\n",
      "Dep. Variable:              Converted   No. Observations:                 6267\n",
      "Model:                            GLM   Df Residuals:                     6250\n",
      "Model Family:                Binomial   Df Model:                           16\n",
      "Link Function:                  Logit   Scale:                          1.0000\n",
      "Method:                          IRLS   Log-Likelihood:                -1236.2\n",
      "Date:                Mon, 23 Jan 2023   Deviance:                       2472.4\n",
      "Time:                        11:26:30   Pearson chi2:                 8.45e+03\n",
      "No. Iterations:                     8   Pseudo R-squ. (CS):             0.6071\n",
      "Covariance Type:            nonrobust                                         \n",
      "============================================================================================================\n",
      "                                               coef    std err          z      P>|z|      [0.025      0.975]\n",
      "------------------------------------------------------------------------------------------------------------\n",
      "const                                       -0.2791      0.123     -2.261      0.024      -0.521      -0.037\n",
      "Total Time Spent on Website                  1.0701      0.060     17.704      0.000       0.952       1.189\n",
      "Lead Source_Direct Traffic                  -1.8202      0.173    -10.541      0.000      -2.159      -1.482\n",
      "Lead Source_Google                          -1.2278      0.156     -7.890      0.000      -1.533      -0.923\n",
      "Lead Source_Organic Search                  -1.2954      0.198     -6.556      0.000      -1.683      -0.908\n",
      "Lead Source_Referral Sites                  -1.3979      0.480     -2.911      0.004      -2.339      -0.457\n",
      "Lead Source_Welingak Website                 4.8902      1.024      4.774      0.000       2.882       6.898\n",
      "Last Activity_Olark Chat Conversation       -1.1297      0.245     -4.612      0.000      -1.610      -0.650\n",
      "Last Activity_SMS Sent                       2.0106      0.116     17.259      0.000       1.782       2.239\n",
      "Last Notable Activity_Email Link Clicked    -1.3855      0.473     -2.931      0.003      -2.312      -0.459\n",
      "Last Notable Activity_Modified              -1.4952      0.129    -11.577      0.000      -1.748      -1.242\n",
      "Tags_Closed by Horizzon                      7.5310      1.014      7.425      0.000       5.543       9.519\n",
      "Tags_Interested in other courses            -2.1026      0.413     -5.091      0.000      -2.912      -1.293\n",
      "Tags_Lost to EINS                            6.0028      0.623      9.634      0.000       4.782       7.224\n",
      "Tags_Other_Tags                             -2.2690      0.209    -10.834      0.000      -2.680      -1.859\n",
      "Tags_Ringing                                -3.3490      0.238    -14.094      0.000      -3.815      -2.883\n",
      "Tags_Will revert after reading the email     4.7318      0.190     24.909      0.000       4.359       5.104\n",
      "============================================================================================================\n"
     ]
    }
   ],
   "source": [
    "#BUILDING MODEL #5\n",
    "\n",
    "X_train_sm = sm.add_constant(X_train[col])\n",
    "logm5 = sm.GLM(y_train,X_train_sm, family = sm.families.Binomial())\n",
    "res = logm5.fit()\n",
    "print(res.summary())"
   ]
  },
  {
   "cell_type": "code",
   "execution_count": 114,
   "id": "acdfe9c2",
   "metadata": {},
   "outputs": [
    {
     "data": {
      "text/html": [
       "<div>\n",
       "<style scoped>\n",
       "    .dataframe tbody tr th:only-of-type {\n",
       "        vertical-align: middle;\n",
       "    }\n",
       "\n",
       "    .dataframe tbody tr th {\n",
       "        vertical-align: top;\n",
       "    }\n",
       "\n",
       "    .dataframe thead th {\n",
       "        text-align: right;\n",
       "    }\n",
       "</style>\n",
       "<table border=\"1\" class=\"dataframe\">\n",
       "  <thead>\n",
       "    <tr style=\"text-align: right;\">\n",
       "      <th></th>\n",
       "      <th>Features</th>\n",
       "      <th>VIF</th>\n",
       "    </tr>\n",
       "  </thead>\n",
       "  <tbody>\n",
       "    <tr>\n",
       "      <th>9</th>\n",
       "      <td>Last Notable Activity_Modified</td>\n",
       "      <td>1.90</td>\n",
       "    </tr>\n",
       "    <tr>\n",
       "      <th>2</th>\n",
       "      <td>Lead Source_Google</td>\n",
       "      <td>1.77</td>\n",
       "    </tr>\n",
       "    <tr>\n",
       "      <th>1</th>\n",
       "      <td>Lead Source_Direct Traffic</td>\n",
       "      <td>1.73</td>\n",
       "    </tr>\n",
       "    <tr>\n",
       "      <th>7</th>\n",
       "      <td>Last Activity_SMS Sent</td>\n",
       "      <td>1.53</td>\n",
       "    </tr>\n",
       "    <tr>\n",
       "      <th>15</th>\n",
       "      <td>Tags_Will revert after reading the email</td>\n",
       "      <td>1.50</td>\n",
       "    </tr>\n",
       "    <tr>\n",
       "      <th>13</th>\n",
       "      <td>Tags_Other_Tags</td>\n",
       "      <td>1.40</td>\n",
       "    </tr>\n",
       "    <tr>\n",
       "      <th>14</th>\n",
       "      <td>Tags_Ringing</td>\n",
       "      <td>1.34</td>\n",
       "    </tr>\n",
       "    <tr>\n",
       "      <th>6</th>\n",
       "      <td>Last Activity_Olark Chat Conversation</td>\n",
       "      <td>1.32</td>\n",
       "    </tr>\n",
       "    <tr>\n",
       "      <th>3</th>\n",
       "      <td>Lead Source_Organic Search</td>\n",
       "      <td>1.31</td>\n",
       "    </tr>\n",
       "    <tr>\n",
       "      <th>0</th>\n",
       "      <td>Total Time Spent on Website</td>\n",
       "      <td>1.27</td>\n",
       "    </tr>\n",
       "    <tr>\n",
       "      <th>11</th>\n",
       "      <td>Tags_Interested in other courses</td>\n",
       "      <td>1.18</td>\n",
       "    </tr>\n",
       "    <tr>\n",
       "      <th>10</th>\n",
       "      <td>Tags_Closed by Horizzon</td>\n",
       "      <td>1.07</td>\n",
       "    </tr>\n",
       "    <tr>\n",
       "      <th>12</th>\n",
       "      <td>Tags_Lost to EINS</td>\n",
       "      <td>1.06</td>\n",
       "    </tr>\n",
       "    <tr>\n",
       "      <th>4</th>\n",
       "      <td>Lead Source_Referral Sites</td>\n",
       "      <td>1.04</td>\n",
       "    </tr>\n",
       "    <tr>\n",
       "      <th>5</th>\n",
       "      <td>Lead Source_Welingak Website</td>\n",
       "      <td>1.04</td>\n",
       "    </tr>\n",
       "    <tr>\n",
       "      <th>8</th>\n",
       "      <td>Last Notable Activity_Email Link Clicked</td>\n",
       "      <td>1.03</td>\n",
       "    </tr>\n",
       "  </tbody>\n",
       "</table>\n",
       "</div>"
      ],
      "text/plain": [
       "                                    Features   VIF\n",
       "9             Last Notable Activity_Modified  1.90\n",
       "2                         Lead Source_Google  1.77\n",
       "1                 Lead Source_Direct Traffic  1.73\n",
       "7                     Last Activity_SMS Sent  1.53\n",
       "15  Tags_Will revert after reading the email  1.50\n",
       "13                           Tags_Other_Tags  1.40\n",
       "14                              Tags_Ringing  1.34\n",
       "6      Last Activity_Olark Chat Conversation  1.32\n",
       "3                 Lead Source_Organic Search  1.31\n",
       "0                Total Time Spent on Website  1.27\n",
       "11          Tags_Interested in other courses  1.18\n",
       "10                   Tags_Closed by Horizzon  1.07\n",
       "12                         Tags_Lost to EINS  1.06\n",
       "4                 Lead Source_Referral Sites  1.04\n",
       "5               Lead Source_Welingak Website  1.04\n",
       "8   Last Notable Activity_Email Link Clicked  1.03"
      ]
     },
     "execution_count": 114,
     "metadata": {},
     "output_type": "execute_result"
    }
   ],
   "source": [
    "#creating a dataframe that will contain the names of all the feature variables and their respective VIFs\n",
    "\n",
    "vif = pd.DataFrame()\n",
    "vif['Features'] = X_train[col].columns\n",
    "vif['VIF'] = [variance_inflation_factor(X_train[col].values, i) for i in range(X_train[col].shape[1])]\n",
    "vif['VIF'] = round(vif['VIF'], 2)\n",
    "vif = vif.sort_values(by = \"VIF\", ascending = False)\n",
    "vif"
   ]
  },
  {
   "cell_type": "markdown",
   "id": "5755608a",
   "metadata": {},
   "source": [
    "###### All Values seem to be in order. Now, moving on to derive the Probabilities, Lead Score, Predictions on Train Data.\n",
    "<br>"
   ]
  },
  {
   "cell_type": "code",
   "execution_count": 115,
   "id": "41b0fc41",
   "metadata": {},
   "outputs": [
    {
     "data": {
      "text/plain": [
       "9196    0.295780\n",
       "4696    0.029941\n",
       "3274    0.454277\n",
       "2164    0.001659\n",
       "1667    0.989765\n",
       "7024    0.229277\n",
       "8018    0.087693\n",
       "778     0.147285\n",
       "6942    0.002224\n",
       "4440    0.079125\n",
       "dtype: float64"
      ]
     },
     "execution_count": 115,
     "metadata": {},
     "output_type": "execute_result"
    }
   ],
   "source": [
    "#getting the Predicted values on the train set\n",
    "\n",
    "y_train_pred = res.predict(X_train_sm)\n",
    "y_train_pred[:10]"
   ]
  },
  {
   "cell_type": "code",
   "execution_count": 116,
   "id": "8db66960",
   "metadata": {},
   "outputs": [
    {
     "data": {
      "text/plain": [
       "array([0.29577992, 0.02994132, 0.45427677, 0.00165898, 0.98976472,\n",
       "       0.22927652, 0.08769333, 0.14728547, 0.00222364, 0.07912493])"
      ]
     },
     "execution_count": 116,
     "metadata": {},
     "output_type": "execute_result"
    }
   ],
   "source": [
    "y_train_pred = y_train_pred.values.reshape(-1)\n",
    "y_train_pred[:10]"
   ]
  },
  {
   "cell_type": "code",
   "execution_count": 117,
   "id": "1e92b342",
   "metadata": {},
   "outputs": [
    {
     "data": {
      "text/html": [
       "<div>\n",
       "<style scoped>\n",
       "    .dataframe tbody tr th:only-of-type {\n",
       "        vertical-align: middle;\n",
       "    }\n",
       "\n",
       "    .dataframe tbody tr th {\n",
       "        vertical-align: top;\n",
       "    }\n",
       "\n",
       "    .dataframe thead th {\n",
       "        text-align: right;\n",
       "    }\n",
       "</style>\n",
       "<table border=\"1\" class=\"dataframe\">\n",
       "  <thead>\n",
       "    <tr style=\"text-align: right;\">\n",
       "      <th></th>\n",
       "      <th>Converted</th>\n",
       "      <th>Converted_prob</th>\n",
       "      <th>Prospect ID</th>\n",
       "    </tr>\n",
       "  </thead>\n",
       "  <tbody>\n",
       "    <tr>\n",
       "      <th>0</th>\n",
       "      <td>1</td>\n",
       "      <td>0.295780</td>\n",
       "      <td>9196</td>\n",
       "    </tr>\n",
       "    <tr>\n",
       "      <th>1</th>\n",
       "      <td>0</td>\n",
       "      <td>0.029941</td>\n",
       "      <td>4696</td>\n",
       "    </tr>\n",
       "    <tr>\n",
       "      <th>2</th>\n",
       "      <td>0</td>\n",
       "      <td>0.454277</td>\n",
       "      <td>3274</td>\n",
       "    </tr>\n",
       "    <tr>\n",
       "      <th>3</th>\n",
       "      <td>0</td>\n",
       "      <td>0.001659</td>\n",
       "      <td>2164</td>\n",
       "    </tr>\n",
       "    <tr>\n",
       "      <th>4</th>\n",
       "      <td>1</td>\n",
       "      <td>0.989765</td>\n",
       "      <td>1667</td>\n",
       "    </tr>\n",
       "  </tbody>\n",
       "</table>\n",
       "</div>"
      ],
      "text/plain": [
       "   Converted  Converted_prob  Prospect ID\n",
       "0          1        0.295780         9196\n",
       "1          0        0.029941         4696\n",
       "2          0        0.454277         3274\n",
       "3          0        0.001659         2164\n",
       "4          1        0.989765         1667"
      ]
     },
     "execution_count": 117,
     "metadata": {},
     "output_type": "execute_result"
    }
   ],
   "source": [
    "y_train_pred_final = pd.DataFrame({'Converted':y_train.values, 'Converted_prob':y_train_pred})\n",
    "y_train_pred_final['Prospect ID'] = y_train.index\n",
    "y_train_pred_final.head()"
   ]
  },
  {
   "cell_type": "code",
   "execution_count": 118,
   "id": "3e824e64",
   "metadata": {},
   "outputs": [
    {
     "data": {
      "text/html": [
       "<div>\n",
       "<style scoped>\n",
       "    .dataframe tbody tr th:only-of-type {\n",
       "        vertical-align: middle;\n",
       "    }\n",
       "\n",
       "    .dataframe tbody tr th {\n",
       "        vertical-align: top;\n",
       "    }\n",
       "\n",
       "    .dataframe thead th {\n",
       "        text-align: right;\n",
       "    }\n",
       "</style>\n",
       "<table border=\"1\" class=\"dataframe\">\n",
       "  <thead>\n",
       "    <tr style=\"text-align: right;\">\n",
       "      <th></th>\n",
       "      <th>Converted</th>\n",
       "      <th>Converted_prob</th>\n",
       "      <th>Prospect ID</th>\n",
       "      <th>Predicted</th>\n",
       "    </tr>\n",
       "  </thead>\n",
       "  <tbody>\n",
       "    <tr>\n",
       "      <th>0</th>\n",
       "      <td>1</td>\n",
       "      <td>0.295780</td>\n",
       "      <td>9196</td>\n",
       "      <td>0</td>\n",
       "    </tr>\n",
       "    <tr>\n",
       "      <th>1</th>\n",
       "      <td>0</td>\n",
       "      <td>0.029941</td>\n",
       "      <td>4696</td>\n",
       "      <td>0</td>\n",
       "    </tr>\n",
       "    <tr>\n",
       "      <th>2</th>\n",
       "      <td>0</td>\n",
       "      <td>0.454277</td>\n",
       "      <td>3274</td>\n",
       "      <td>0</td>\n",
       "    </tr>\n",
       "    <tr>\n",
       "      <th>3</th>\n",
       "      <td>0</td>\n",
       "      <td>0.001659</td>\n",
       "      <td>2164</td>\n",
       "      <td>0</td>\n",
       "    </tr>\n",
       "    <tr>\n",
       "      <th>4</th>\n",
       "      <td>1</td>\n",
       "      <td>0.989765</td>\n",
       "      <td>1667</td>\n",
       "      <td>1</td>\n",
       "    </tr>\n",
       "  </tbody>\n",
       "</table>\n",
       "</div>"
      ],
      "text/plain": [
       "   Converted  Converted_prob  Prospect ID  Predicted\n",
       "0          1        0.295780         9196          0\n",
       "1          0        0.029941         4696          0\n",
       "2          0        0.454277         3274          0\n",
       "3          0        0.001659         2164          0\n",
       "4          1        0.989765         1667          1"
      ]
     },
     "execution_count": 118,
     "metadata": {},
     "output_type": "execute_result"
    }
   ],
   "source": [
    "y_train_pred_final['Predicted'] = y_train_pred_final['Converted_prob'].map(lambda x: 1 if x > 0.5 else 0)\n",
    "\n",
    "y_train_pred_final.head()"
   ]
  },
  {
   "cell_type": "code",
   "execution_count": 119,
   "id": "6c59628e",
   "metadata": {},
   "outputs": [
    {
     "name": "stdout",
     "output_type": "stream",
     "text": [
      "[[3719  163]\n",
      " [ 300 2085]]\n"
     ]
    }
   ],
   "source": [
    "#confusion matrix \n",
    "\n",
    "confusion = metrics.confusion_matrix(y_train_pred_final['Converted'], y_train_pred_final['Predicted'])\n",
    "print(confusion)"
   ]
  },
  {
   "cell_type": "code",
   "execution_count": 120,
   "id": "9ca0a9a6",
   "metadata": {},
   "outputs": [
    {
     "name": "stdout",
     "output_type": "stream",
     "text": [
      "0.926120951013244\n"
     ]
    }
   ],
   "source": [
    "#the overall accuracy of our model\n",
    "\n",
    "print(metrics.accuracy_score(y_train_pred_final['Converted'], y_train_pred_final['Predicted']))"
   ]
  },
  {
   "cell_type": "code",
   "execution_count": 121,
   "id": "08b470b5",
   "metadata": {},
   "outputs": [],
   "source": [
    "TP = confusion[1,1] #true positive \n",
    "TN = confusion[0,0] #true negatives\n",
    "FP = confusion[0,1] #false positives\n",
    "FN = confusion[1,0] #false negatives"
   ]
  },
  {
   "cell_type": "code",
   "execution_count": 122,
   "id": "e7a83bf4",
   "metadata": {},
   "outputs": [
    {
     "data": {
      "text/plain": [
       "0.8742138364779874"
      ]
     },
     "execution_count": 122,
     "metadata": {},
     "output_type": "execute_result"
    }
   ],
   "source": [
    "#the sensitivity of our logistic regression model\n",
    "\n",
    "TP / float(TP+FN)"
   ]
  },
  {
   "cell_type": "code",
   "execution_count": 123,
   "id": "70ed0bcc",
   "metadata": {},
   "outputs": [
    {
     "data": {
      "text/plain": [
       "0.95801133436373"
      ]
     },
     "execution_count": 123,
     "metadata": {},
     "output_type": "execute_result"
    }
   ],
   "source": [
    "#specificity\n",
    "\n",
    "TN / float(TN+FP)"
   ]
  },
  {
   "cell_type": "code",
   "execution_count": 124,
   "id": "a03ce2a8",
   "metadata": {},
   "outputs": [
    {
     "name": "stdout",
     "output_type": "stream",
     "text": [
      "0.04198866563626996\n"
     ]
    }
   ],
   "source": [
    "# False Postive Rate - predicting conversion when customer does not have convert\n",
    "\n",
    "print(FP/ float(TN+FP))"
   ]
  },
  {
   "cell_type": "code",
   "execution_count": 125,
   "id": "c6ef1b22",
   "metadata": {},
   "outputs": [
    {
     "name": "stdout",
     "output_type": "stream",
     "text": [
      "0.927491103202847\n"
     ]
    }
   ],
   "source": [
    "#positive predictive value \n",
    "\n",
    "print (TP / float(TP+FP))"
   ]
  },
  {
   "cell_type": "code",
   "execution_count": 126,
   "id": "43d1754f",
   "metadata": {},
   "outputs": [
    {
     "name": "stdout",
     "output_type": "stream",
     "text": [
      "0.9253545658123912\n"
     ]
    }
   ],
   "source": [
    "#negative predictive value\n",
    "\n",
    "print (TN / float(TN+ FN))"
   ]
  },
  {
   "cell_type": "markdown",
   "id": "931b8c3b",
   "metadata": {},
   "source": [
    "## 6. Plotting the ROC Curve\n",
    "<br>"
   ]
  },
  {
   "cell_type": "code",
   "execution_count": 127,
   "id": "03428774",
   "metadata": {},
   "outputs": [],
   "source": [
    "def roc( actual, probs ):\n",
    "    fpr, tpr, thresholds = metrics.roc_curve( actual, probs,drop_intermediate = False )\n",
    "    auc_score = metrics.roc_auc_score( actual, probs )\n",
    "    plt.figure(figsize=(5, 5))\n",
    "    plt.plot( fpr, tpr, label='ROC curve (area = %0.2f)' % auc_score )\n",
    "    plt.plot([0, 1], [0, 1], 'k--')\n",
    "    plt.xlim([0.0, 1.0])\n",
    "    plt.ylim([0.0, 1.05])\n",
    "    plt.xlabel('False Positive Rate or [1 - True Negative Rate]')\n",
    "    plt.ylabel('True Positive Rate')\n",
    "    plt.title('Receiver operating characteristic example')\n",
    "    plt.legend(loc=\"lower right\")\n",
    "    plt.show()\n",
    "\n",
    "    return None"
   ]
  },
  {
   "cell_type": "code",
   "execution_count": 128,
   "id": "bca69c06",
   "metadata": {},
   "outputs": [],
   "source": [
    "fpr, tpr, thresholds = metrics.roc_curve( y_train_pred_final.Converted, y_train_pred_final.Converted_prob, \n",
    "                                         drop_intermediate = False )"
   ]
  },
  {
   "cell_type": "code",
   "execution_count": 129,
   "id": "4d2b2131",
   "metadata": {},
   "outputs": [
    {
     "data": {
      "image/png": "[encoded data removed]",
      "text/plain": [
       "<Figure size 360x360 with 1 Axes>"
      ]
     },
     "metadata": {
      "needs_background": "light"
     },
     "output_type": "display_data"
    }
   ],
   "source": [
    "roc(y_train_pred_final.Converted, y_train_pred_final.Converted_prob)"
   ]
  },
  {
   "cell_type": "markdown",
   "id": "314cafb1",
   "metadata": {},
   "source": [
    "We are getting the ROC curve(area = 0.97) which is indicating a good precdictive model."
   ]
  },
  {
   "cell_type": "markdown",
   "id": "d3b06a22",
   "metadata": {},
   "source": [
    "## Finding Optimal Cutoff Point\n",
    "<br>"
   ]
  },
  {
   "cell_type": "markdown",
   "id": "123d0ed4",
   "metadata": {},
   "source": [
    "Above we had chosen an arbitrary cut-off value of 0.5. We need to determine the best cut-off value. Let's do that."
   ]
  },
  {
   "cell_type": "code",
   "execution_count": 130,
   "id": "e417ea24",
   "metadata": {},
   "outputs": [
    {
     "data": {
      "text/html": [
       "<div>\n",
       "<style scoped>\n",
       "    .dataframe tbody tr th:only-of-type {\n",
       "        vertical-align: middle;\n",
       "    }\n",
       "\n",
       "    .dataframe tbody tr th {\n",
       "        vertical-align: top;\n",
       "    }\n",
       "\n",
       "    .dataframe thead th {\n",
       "        text-align: right;\n",
       "    }\n",
       "</style>\n",
       "<table border=\"1\" class=\"dataframe\">\n",
       "  <thead>\n",
       "    <tr style=\"text-align: right;\">\n",
       "      <th></th>\n",
       "      <th>Converted</th>\n",
       "      <th>Converted_prob</th>\n",
       "      <th>Prospect ID</th>\n",
       "      <th>Predicted</th>\n",
       "      <th>0.0</th>\n",
       "      <th>0.1</th>\n",
       "      <th>0.2</th>\n",
       "      <th>0.3</th>\n",
       "      <th>0.4</th>\n",
       "      <th>0.5</th>\n",
       "      <th>0.6</th>\n",
       "      <th>0.7</th>\n",
       "      <th>0.8</th>\n",
       "      <th>0.9</th>\n",
       "    </tr>\n",
       "  </thead>\n",
       "  <tbody>\n",
       "    <tr>\n",
       "      <th>0</th>\n",
       "      <td>1</td>\n",
       "      <td>0.295780</td>\n",
       "      <td>9196</td>\n",
       "      <td>0</td>\n",
       "      <td>1</td>\n",
       "      <td>1</td>\n",
       "      <td>1</td>\n",
       "      <td>0</td>\n",
       "      <td>0</td>\n",
       "      <td>0</td>\n",
       "      <td>0</td>\n",
       "      <td>0</td>\n",
       "      <td>0</td>\n",
       "      <td>0</td>\n",
       "    </tr>\n",
       "    <tr>\n",
       "      <th>1</th>\n",
       "      <td>0</td>\n",
       "      <td>0.029941</td>\n",
       "      <td>4696</td>\n",
       "      <td>0</td>\n",
       "      <td>1</td>\n",
       "      <td>0</td>\n",
       "      <td>0</td>\n",
       "      <td>0</td>\n",
       "      <td>0</td>\n",
       "      <td>0</td>\n",
       "      <td>0</td>\n",
       "      <td>0</td>\n",
       "      <td>0</td>\n",
       "      <td>0</td>\n",
       "    </tr>\n",
       "    <tr>\n",
       "      <th>2</th>\n",
       "      <td>0</td>\n",
       "      <td>0.454277</td>\n",
       "      <td>3274</td>\n",
       "      <td>0</td>\n",
       "      <td>1</td>\n",
       "      <td>1</td>\n",
       "      <td>1</td>\n",
       "      <td>1</td>\n",
       "      <td>1</td>\n",
       "      <td>0</td>\n",
       "      <td>0</td>\n",
       "      <td>0</td>\n",
       "      <td>0</td>\n",
       "      <td>0</td>\n",
       "    </tr>\n",
       "    <tr>\n",
       "      <th>3</th>\n",
       "      <td>0</td>\n",
       "      <td>0.001659</td>\n",
       "      <td>2164</td>\n",
       "      <td>0</td>\n",
       "      <td>1</td>\n",
       "      <td>0</td>\n",
       "      <td>0</td>\n",
       "      <td>0</td>\n",
       "      <td>0</td>\n",
       "      <td>0</td>\n",
       "      <td>0</td>\n",
       "      <td>0</td>\n",
       "      <td>0</td>\n",
       "      <td>0</td>\n",
       "    </tr>\n",
       "    <tr>\n",
       "      <th>4</th>\n",
       "      <td>1</td>\n",
       "      <td>0.989765</td>\n",
       "      <td>1667</td>\n",
       "      <td>1</td>\n",
       "      <td>1</td>\n",
       "      <td>1</td>\n",
       "      <td>1</td>\n",
       "      <td>1</td>\n",
       "      <td>1</td>\n",
       "      <td>1</td>\n",
       "      <td>1</td>\n",
       "      <td>1</td>\n",
       "      <td>1</td>\n",
       "      <td>1</td>\n",
       "    </tr>\n",
       "  </tbody>\n",
       "</table>\n",
       "</div>"
      ],
      "text/plain": [
       "   Converted  Converted_prob  Prospect ID  Predicted  0.0  0.1  0.2  0.3  0.4  \\\n",
       "0          1        0.295780         9196          0    1    1    1    0    0   \n",
       "1          0        0.029941         4696          0    1    0    0    0    0   \n",
       "2          0        0.454277         3274          0    1    1    1    1    1   \n",
       "3          0        0.001659         2164          0    1    0    0    0    0   \n",
       "4          1        0.989765         1667          1    1    1    1    1    1   \n",
       "\n",
       "   0.5  0.6  0.7  0.8  0.9  \n",
       "0    0    0    0    0    0  \n",
       "1    0    0    0    0    0  \n",
       "2    0    0    0    0    0  \n",
       "3    0    0    0    0    0  \n",
       "4    1    1    1    1    1  "
      ]
     },
     "execution_count": 130,
     "metadata": {},
     "output_type": "execute_result"
    }
   ],
   "source": [
    "#creating columns with different probability cutoffs \n",
    "\n",
    "numbers = [float(x)/10 for x in range(10)]\n",
    "\n",
    "for i in numbers:\n",
    "    y_train_pred_final[i]= y_train_pred_final.Converted_prob.map(lambda x: 1 if x > i else 0)\n",
    "\n",
    "y_train_pred_final.head()"
   ]
  },
  {
   "cell_type": "code",
   "execution_count": 131,
   "id": "569f0765",
   "metadata": {},
   "outputs": [
    {
     "name": "stdout",
     "output_type": "stream",
     "text": [
      "     prob  accuracy     sensi     speci\n",
      "0.0   0.0  0.380565  1.000000  0.000000\n",
      "0.1   0.1  0.842030  0.970650  0.763009\n",
      "0.2   0.2  0.894367  0.951782  0.859093\n",
      "0.3   0.3  0.920217  0.915723  0.922978\n",
      "0.4   0.4  0.922132  0.893082  0.939979\n",
      "0.5   0.5  0.926121  0.874214  0.958011\n",
      "0.6   0.6  0.925802  0.854507  0.969603\n",
      "0.7   0.7  0.912079  0.801677  0.979907\n",
      "0.8   0.8  0.902984  0.767296  0.986347\n",
      "0.9   0.9  0.885910  0.714465  0.991242\n"
     ]
    }
   ],
   "source": [
    "# Now let's calculate accuracy sensitivity and specificity for various probability cutoffs\n",
    "\n",
    "cutoff_df = pd.DataFrame( columns = ['prob','accuracy','sensi','speci'])\n",
    "\n",
    "num = [0.0,0.1,0.2,0.3,0.4,0.5,0.6,0.7,0.8,0.9]\n",
    "\n",
    "for i in num:\n",
    "    cm1 = metrics.confusion_matrix(y_train_pred_final['Converted'], y_train_pred_final[i] )\n",
    "    total1=sum(sum(cm1))\n",
    "    accuracy = (cm1[0,0]+cm1[1,1])/total1\n",
    "    speci = cm1[0,0]/(cm1[0,0]+cm1[0,1])\n",
    "    sensi = cm1[1,1]/(cm1[1,0]+cm1[1,1])\n",
    "    cutoff_df.loc[i] =[ i ,accuracy,sensi,speci]\n",
    "    \n",
    "print(cutoff_df)"
   ]
  },
  {
   "cell_type": "code",
   "execution_count": 132,
   "id": "1ef7b9f1",
   "metadata": {},
   "outputs": [
    {
     "data": {
      "image/png": "[encoded data removed]",
      "text/plain": [
       "<Figure size 432x288 with 1 Axes>"
      ]
     },
     "metadata": {
      "needs_background": "light"
     },
     "output_type": "display_data"
    }
   ],
   "source": [
    "#plotting accuracy, sensitivity and specificity for various probabilities\n",
    "\n",
    "cutoff_df.plot.line(x='prob', y=['accuracy','sensi','speci'])\n",
    "plt.show()"
   ]
  },
  {
   "cell_type": "code",
   "execution_count": 133,
   "id": "9da3da9d",
   "metadata": {},
   "outputs": [
    {
     "data": {
      "text/html": [
       "<div>\n",
       "<style scoped>\n",
       "    .dataframe tbody tr th:only-of-type {\n",
       "        vertical-align: middle;\n",
       "    }\n",
       "\n",
       "    .dataframe tbody tr th {\n",
       "        vertical-align: top;\n",
       "    }\n",
       "\n",
       "    .dataframe thead th {\n",
       "        text-align: right;\n",
       "    }\n",
       "</style>\n",
       "<table border=\"1\" class=\"dataframe\">\n",
       "  <thead>\n",
       "    <tr style=\"text-align: right;\">\n",
       "      <th></th>\n",
       "      <th>Converted</th>\n",
       "      <th>Converted_prob</th>\n",
       "      <th>Prospect ID</th>\n",
       "      <th>Predicted</th>\n",
       "      <th>0.0</th>\n",
       "      <th>0.1</th>\n",
       "      <th>0.2</th>\n",
       "      <th>0.3</th>\n",
       "      <th>0.4</th>\n",
       "      <th>0.5</th>\n",
       "      <th>0.6</th>\n",
       "      <th>0.7</th>\n",
       "      <th>0.8</th>\n",
       "      <th>0.9</th>\n",
       "      <th>final_Predicted</th>\n",
       "    </tr>\n",
       "  </thead>\n",
       "  <tbody>\n",
       "    <tr>\n",
       "      <th>0</th>\n",
       "      <td>1</td>\n",
       "      <td>0.295780</td>\n",
       "      <td>9196</td>\n",
       "      <td>0</td>\n",
       "      <td>1</td>\n",
       "      <td>1</td>\n",
       "      <td>1</td>\n",
       "      <td>0</td>\n",
       "      <td>0</td>\n",
       "      <td>0</td>\n",
       "      <td>0</td>\n",
       "      <td>0</td>\n",
       "      <td>0</td>\n",
       "      <td>0</td>\n",
       "      <td>0</td>\n",
       "    </tr>\n",
       "    <tr>\n",
       "      <th>1</th>\n",
       "      <td>0</td>\n",
       "      <td>0.029941</td>\n",
       "      <td>4696</td>\n",
       "      <td>0</td>\n",
       "      <td>1</td>\n",
       "      <td>0</td>\n",
       "      <td>0</td>\n",
       "      <td>0</td>\n",
       "      <td>0</td>\n",
       "      <td>0</td>\n",
       "      <td>0</td>\n",
       "      <td>0</td>\n",
       "      <td>0</td>\n",
       "      <td>0</td>\n",
       "      <td>0</td>\n",
       "    </tr>\n",
       "    <tr>\n",
       "      <th>2</th>\n",
       "      <td>0</td>\n",
       "      <td>0.454277</td>\n",
       "      <td>3274</td>\n",
       "      <td>0</td>\n",
       "      <td>1</td>\n",
       "      <td>1</td>\n",
       "      <td>1</td>\n",
       "      <td>1</td>\n",
       "      <td>1</td>\n",
       "      <td>0</td>\n",
       "      <td>0</td>\n",
       "      <td>0</td>\n",
       "      <td>0</td>\n",
       "      <td>0</td>\n",
       "      <td>1</td>\n",
       "    </tr>\n",
       "    <tr>\n",
       "      <th>3</th>\n",
       "      <td>0</td>\n",
       "      <td>0.001659</td>\n",
       "      <td>2164</td>\n",
       "      <td>0</td>\n",
       "      <td>1</td>\n",
       "      <td>0</td>\n",
       "      <td>0</td>\n",
       "      <td>0</td>\n",
       "      <td>0</td>\n",
       "      <td>0</td>\n",
       "      <td>0</td>\n",
       "      <td>0</td>\n",
       "      <td>0</td>\n",
       "      <td>0</td>\n",
       "      <td>0</td>\n",
       "    </tr>\n",
       "    <tr>\n",
       "      <th>4</th>\n",
       "      <td>1</td>\n",
       "      <td>0.989765</td>\n",
       "      <td>1667</td>\n",
       "      <td>1</td>\n",
       "      <td>1</td>\n",
       "      <td>1</td>\n",
       "      <td>1</td>\n",
       "      <td>1</td>\n",
       "      <td>1</td>\n",
       "      <td>1</td>\n",
       "      <td>1</td>\n",
       "      <td>1</td>\n",
       "      <td>1</td>\n",
       "      <td>1</td>\n",
       "      <td>1</td>\n",
       "    </tr>\n",
       "  </tbody>\n",
       "</table>\n",
       "</div>"
      ],
      "text/plain": [
       "   Converted  Converted_prob  Prospect ID  Predicted  0.0  0.1  0.2  0.3  0.4  \\\n",
       "0          1        0.295780         9196          0    1    1    1    0    0   \n",
       "1          0        0.029941         4696          0    1    0    0    0    0   \n",
       "2          0        0.454277         3274          0    1    1    1    1    1   \n",
       "3          0        0.001659         2164          0    1    0    0    0    0   \n",
       "4          1        0.989765         1667          1    1    1    1    1    1   \n",
       "\n",
       "   0.5  0.6  0.7  0.8  0.9  final_Predicted  \n",
       "0    0    0    0    0    0                0  \n",
       "1    0    0    0    0    0                0  \n",
       "2    0    0    0    0    0                1  \n",
       "3    0    0    0    0    0                0  \n",
       "4    1    1    1    1    1                1  "
      ]
     },
     "execution_count": 133,
     "metadata": {},
     "output_type": "execute_result"
    }
   ],
   "source": [
    "#from the curve above, 0.3 is the optimum point and can be considered as a cutoff probability.\n",
    "\n",
    "y_train_pred_final['final_Predicted'] = y_train_pred_final['Converted_prob'].map( lambda x: 1 if x > 0.3 else 0)\n",
    "\n",
    "y_train_pred_final.head()                                                           "
   ]
  },
  {
   "cell_type": "code",
   "execution_count": 134,
   "id": "cd174155",
   "metadata": {},
   "outputs": [
    {
     "data": {
      "text/html": [
       "<div>\n",
       "<style scoped>\n",
       "    .dataframe tbody tr th:only-of-type {\n",
       "        vertical-align: middle;\n",
       "    }\n",
       "\n",
       "    .dataframe tbody tr th {\n",
       "        vertical-align: top;\n",
       "    }\n",
       "\n",
       "    .dataframe thead th {\n",
       "        text-align: right;\n",
       "    }\n",
       "</style>\n",
       "<table border=\"1\" class=\"dataframe\">\n",
       "  <thead>\n",
       "    <tr style=\"text-align: right;\">\n",
       "      <th></th>\n",
       "      <th>Converted</th>\n",
       "      <th>Converted_prob</th>\n",
       "      <th>Prospect ID</th>\n",
       "      <th>final_Predicted</th>\n",
       "      <th>Lead_Score</th>\n",
       "    </tr>\n",
       "  </thead>\n",
       "  <tbody>\n",
       "    <tr>\n",
       "      <th>0</th>\n",
       "      <td>1</td>\n",
       "      <td>0.295780</td>\n",
       "      <td>9196</td>\n",
       "      <td>0</td>\n",
       "      <td>30</td>\n",
       "    </tr>\n",
       "    <tr>\n",
       "      <th>1</th>\n",
       "      <td>0</td>\n",
       "      <td>0.029941</td>\n",
       "      <td>4696</td>\n",
       "      <td>0</td>\n",
       "      <td>3</td>\n",
       "    </tr>\n",
       "    <tr>\n",
       "      <th>2</th>\n",
       "      <td>0</td>\n",
       "      <td>0.454277</td>\n",
       "      <td>3274</td>\n",
       "      <td>1</td>\n",
       "      <td>45</td>\n",
       "    </tr>\n",
       "    <tr>\n",
       "      <th>3</th>\n",
       "      <td>0</td>\n",
       "      <td>0.001659</td>\n",
       "      <td>2164</td>\n",
       "      <td>0</td>\n",
       "      <td>0</td>\n",
       "    </tr>\n",
       "    <tr>\n",
       "      <th>4</th>\n",
       "      <td>1</td>\n",
       "      <td>0.989765</td>\n",
       "      <td>1667</td>\n",
       "      <td>1</td>\n",
       "      <td>99</td>\n",
       "    </tr>\n",
       "  </tbody>\n",
       "</table>\n",
       "</div>"
      ],
      "text/plain": [
       "   Converted  Converted_prob  Prospect ID  final_Predicted  Lead_Score\n",
       "0          1        0.295780         9196                0          30\n",
       "1          0        0.029941         4696                0           3\n",
       "2          0        0.454277         3274                1          45\n",
       "3          0        0.001659         2164                0           0\n",
       "4          1        0.989765         1667                1          99"
      ]
     },
     "execution_count": 134,
     "metadata": {},
     "output_type": "execute_result"
    }
   ],
   "source": [
    "y_train_pred_final['Lead_Score'] = y_train_pred_final['Converted_prob'].map( lambda x: round(x*100))\n",
    "\n",
    "y_train_pred_final[['Converted','Converted_prob','Prospect ID','final_Predicted','Lead_Score']].head()"
   ]
  },
  {
   "cell_type": "code",
   "execution_count": 135,
   "id": "dc914c5c",
   "metadata": {},
   "outputs": [
    {
     "data": {
      "text/plain": [
       "0.9202170097335248"
      ]
     },
     "execution_count": 135,
     "metadata": {},
     "output_type": "execute_result"
    }
   ],
   "source": [
    "# Let's check the overall accuracy.\n",
    "\n",
    "metrics.accuracy_score(y_train_pred_final['Converted'], y_train_pred_final['final_Predicted'])"
   ]
  },
  {
   "cell_type": "code",
   "execution_count": 136,
   "id": "54050eba",
   "metadata": {},
   "outputs": [
    {
     "data": {
      "text/plain": [
       "array([[3583,  299],\n",
       "       [ 201, 2184]], dtype=int64)"
      ]
     },
     "execution_count": 136,
     "metadata": {},
     "output_type": "execute_result"
    }
   ],
   "source": [
    "confusion2 = metrics.confusion_matrix(y_train_pred_final['Converted'], y_train_pred_final['final_Predicted'])\n",
    "confusion2"
   ]
  },
  {
   "cell_type": "code",
   "execution_count": 137,
   "id": "197c20b1",
   "metadata": {},
   "outputs": [],
   "source": [
    "TP = confusion2[1,1] # true positive \n",
    "TN = confusion2[0,0] # true negatives\n",
    "FP = confusion2[0,1] # false positives\n",
    "FN = confusion2[1,0] # false negatives"
   ]
  },
  {
   "cell_type": "code",
   "execution_count": 138,
   "id": "9f8f46a6",
   "metadata": {},
   "outputs": [
    {
     "data": {
      "text/plain": [
       "0.9157232704402516"
      ]
     },
     "execution_count": 138,
     "metadata": {},
     "output_type": "execute_result"
    }
   ],
   "source": [
    "#sensitivity of our logistic regression model\n",
    "\n",
    "TP / float(TP+FN)"
   ]
  },
  {
   "cell_type": "code",
   "execution_count": 139,
   "id": "ed86088a",
   "metadata": {},
   "outputs": [
    {
     "data": {
      "text/plain": [
       "0.9229778464708913"
      ]
     },
     "execution_count": 139,
     "metadata": {},
     "output_type": "execute_result"
    }
   ],
   "source": [
    "#specificity\n",
    "\n",
    "TN / float(TN+FP)"
   ]
  },
  {
   "cell_type": "code",
   "execution_count": 140,
   "id": "43c3bc52",
   "metadata": {},
   "outputs": [
    {
     "name": "stdout",
     "output_type": "stream",
     "text": [
      "0.07702215352910871\n"
     ]
    }
   ],
   "source": [
    "#calculating False Postive Rate - predicting conversion when customer does not have convert\n",
    "\n",
    "print(FP/ float(TN+FP))"
   ]
  },
  {
   "cell_type": "code",
   "execution_count": 141,
   "id": "70d88b45",
   "metadata": {},
   "outputs": [
    {
     "name": "stdout",
     "output_type": "stream",
     "text": [
      "0.8795811518324608\n"
     ]
    }
   ],
   "source": [
    "# Positive predictive value \n",
    "\n",
    "print (TP / float(TP+FP))"
   ]
  },
  {
   "cell_type": "code",
   "execution_count": 142,
   "id": "e68d055a",
   "metadata": {},
   "outputs": [
    {
     "name": "stdout",
     "output_type": "stream",
     "text": [
      "0.9468816067653277\n"
     ]
    }
   ],
   "source": [
    "# Negative predictive value\n",
    "\n",
    "print (TN / float(TN+ FN))"
   ]
  },
  {
   "cell_type": "code",
   "execution_count": 143,
   "id": "6fa087d3",
   "metadata": {},
   "outputs": [
    {
     "data": {
      "text/plain": [
       "0.8795811518324608"
      ]
     },
     "execution_count": 143,
     "metadata": {},
     "output_type": "execute_result"
    }
   ],
   "source": [
    "precision_score(y_train_pred_final['Converted'], y_train_pred_final['final_Predicted'])"
   ]
  },
  {
   "cell_type": "code",
   "execution_count": 144,
   "id": "a4d3429a",
   "metadata": {},
   "outputs": [
    {
     "data": {
      "text/plain": [
       "0.9157232704402516"
      ]
     },
     "execution_count": 144,
     "metadata": {},
     "output_type": "execute_result"
    }
   ],
   "source": [
    "recall_score(y_train_pred_final['Converted'], y_train_pred_final['final_Predicted'])"
   ]
  },
  {
   "cell_type": "code",
   "execution_count": 145,
   "id": "f817b969",
   "metadata": {},
   "outputs": [
    {
     "data": {
      "image/png": "[encoded data removed]",
      "text/plain": [
       "<Figure size 432x288 with 1 Axes>"
      ]
     },
     "metadata": {
      "needs_background": "light"
     },
     "output_type": "display_data"
    }
   ],
   "source": [
    "p, r, thresholds = precision_recall_curve(y_train_pred_final['Converted'], y_train_pred_final['Converted_prob'])\n",
    "\n",
    "plt.plot(thresholds, p[:-1], \"g-\")\n",
    "plt.plot(thresholds, r[:-1], \"r-\")\n",
    "plt.show()"
   ]
  },
  {
   "cell_type": "code",
   "execution_count": 146,
   "id": "d2a6ea4b",
   "metadata": {},
   "outputs": [
    {
     "data": {
      "text/plain": [
       "0.8972884141331143"
      ]
     },
     "execution_count": 146,
     "metadata": {},
     "output_type": "execute_result"
    }
   ],
   "source": [
    "f1_score(y_train_pred_final['Converted'], y_train_pred_final['final_Predicted'])"
   ]
  },
  {
   "cell_type": "markdown",
   "id": "76133d0e",
   "metadata": {},
   "source": [
    "### Observation:\n",
    "\n",
    "So as we can see above the model seems to be performing well. \n",
    "\n",
    "The ROC curve has a value of 0.97, which is very good. We have the following values for the Train Data:\n",
    "\n",
    "- **Accuracy** : 92.02%\n",
    "\n",
    "\n",
    "- **Sensitivity** : 91.57%\n",
    "\n",
    "\n",
    "- **Specificity** : 92.29%\n",
    "\n",
    "<br>\n",
    "\n",
    "- **Precision** : 87.96%\n",
    "\n",
    "\n",
    "- **Recall** : 91.57%\n",
    "\n",
    "\n",
    "- **F1 Score** : 89.73%"
   ]
  },
  {
   "cell_type": "markdown",
   "id": "b6f801bf",
   "metadata": {},
   "source": [
    "## Prediction on Test set\n",
    "<br>"
   ]
  },
  {
   "cell_type": "code",
   "execution_count": 147,
   "id": "ab3bf712",
   "metadata": {},
   "outputs": [
    {
     "data": {
      "text/html": [
       "<div>\n",
       "<style scoped>\n",
       "    .dataframe tbody tr th:only-of-type {\n",
       "        vertical-align: middle;\n",
       "    }\n",
       "\n",
       "    .dataframe tbody tr th {\n",
       "        vertical-align: top;\n",
       "    }\n",
       "\n",
       "    .dataframe thead th {\n",
       "        text-align: right;\n",
       "    }\n",
       "</style>\n",
       "<table border=\"1\" class=\"dataframe\">\n",
       "  <thead>\n",
       "    <tr style=\"text-align: right;\">\n",
       "      <th></th>\n",
       "      <th>Do Not Email</th>\n",
       "      <th>TotalVisits</th>\n",
       "      <th>Total Time Spent on Website</th>\n",
       "      <th>Page Views Per Visit</th>\n",
       "      <th>A free copy of Mastering The Interview</th>\n",
       "      <th>Lead Origin_Landing Page Submission</th>\n",
       "      <th>Lead Origin_Lead Add Form</th>\n",
       "      <th>Lead Origin_Lead Import</th>\n",
       "      <th>What is your current occupation_Housewife</th>\n",
       "      <th>What is your current occupation_Other</th>\n",
       "      <th>...</th>\n",
       "      <th>Last Notable Activity_Olark Chat Conversation</th>\n",
       "      <th>Last Notable Activity_Page Visited on Website</th>\n",
       "      <th>Last Notable Activity_SMS Sent</th>\n",
       "      <th>Tags_Busy</th>\n",
       "      <th>Tags_Closed by Horizzon</th>\n",
       "      <th>Tags_Interested in other courses</th>\n",
       "      <th>Tags_Lost to EINS</th>\n",
       "      <th>Tags_Other_Tags</th>\n",
       "      <th>Tags_Ringing</th>\n",
       "      <th>Tags_Will revert after reading the email</th>\n",
       "    </tr>\n",
       "  </thead>\n",
       "  <tbody>\n",
       "    <tr>\n",
       "      <th>7681</th>\n",
       "      <td>0.301634</td>\n",
       "      <td>0.575687</td>\n",
       "      <td>-0.311318</td>\n",
       "      <td>0.092860</td>\n",
       "      <td>-1.448461</td>\n",
       "      <td>1</td>\n",
       "      <td>0</td>\n",
       "      <td>0</td>\n",
       "      <td>0</td>\n",
       "      <td>0</td>\n",
       "      <td>...</td>\n",
       "      <td>0</td>\n",
       "      <td>0</td>\n",
       "      <td>1</td>\n",
       "      <td>0</td>\n",
       "      <td>0</td>\n",
       "      <td>0</td>\n",
       "      <td>0</td>\n",
       "      <td>0</td>\n",
       "      <td>1</td>\n",
       "      <td>0</td>\n",
       "    </tr>\n",
       "    <tr>\n",
       "      <th>984</th>\n",
       "      <td>0.301634</td>\n",
       "      <td>-0.090676</td>\n",
       "      <td>-0.550262</td>\n",
       "      <td>0.356568</td>\n",
       "      <td>-1.448461</td>\n",
       "      <td>1</td>\n",
       "      <td>0</td>\n",
       "      <td>0</td>\n",
       "      <td>0</td>\n",
       "      <td>0</td>\n",
       "      <td>...</td>\n",
       "      <td>0</td>\n",
       "      <td>0</td>\n",
       "      <td>0</td>\n",
       "      <td>0</td>\n",
       "      <td>0</td>\n",
       "      <td>0</td>\n",
       "      <td>0</td>\n",
       "      <td>1</td>\n",
       "      <td>0</td>\n",
       "      <td>0</td>\n",
       "    </tr>\n",
       "    <tr>\n",
       "      <th>8135</th>\n",
       "      <td>-3.315278</td>\n",
       "      <td>-0.423857</td>\n",
       "      <td>0.812462</td>\n",
       "      <td>-0.170849</td>\n",
       "      <td>-1.448461</td>\n",
       "      <td>1</td>\n",
       "      <td>0</td>\n",
       "      <td>0</td>\n",
       "      <td>0</td>\n",
       "      <td>0</td>\n",
       "      <td>...</td>\n",
       "      <td>0</td>\n",
       "      <td>0</td>\n",
       "      <td>1</td>\n",
       "      <td>0</td>\n",
       "      <td>0</td>\n",
       "      <td>0</td>\n",
       "      <td>0</td>\n",
       "      <td>0</td>\n",
       "      <td>0</td>\n",
       "      <td>0</td>\n",
       "    </tr>\n",
       "    <tr>\n",
       "      <th>6915</th>\n",
       "      <td>0.301634</td>\n",
       "      <td>0.242505</td>\n",
       "      <td>-0.628665</td>\n",
       "      <td>-0.170849</td>\n",
       "      <td>-1.448461</td>\n",
       "      <td>1</td>\n",
       "      <td>0</td>\n",
       "      <td>0</td>\n",
       "      <td>0</td>\n",
       "      <td>0</td>\n",
       "      <td>...</td>\n",
       "      <td>0</td>\n",
       "      <td>0</td>\n",
       "      <td>0</td>\n",
       "      <td>0</td>\n",
       "      <td>0</td>\n",
       "      <td>0</td>\n",
       "      <td>0</td>\n",
       "      <td>0</td>\n",
       "      <td>1</td>\n",
       "      <td>0</td>\n",
       "    </tr>\n",
       "    <tr>\n",
       "      <th>2712</th>\n",
       "      <td>0.301634</td>\n",
       "      <td>-0.090676</td>\n",
       "      <td>-0.421456</td>\n",
       "      <td>0.356568</td>\n",
       "      <td>0.690388</td>\n",
       "      <td>0</td>\n",
       "      <td>0</td>\n",
       "      <td>0</td>\n",
       "      <td>0</td>\n",
       "      <td>0</td>\n",
       "      <td>...</td>\n",
       "      <td>0</td>\n",
       "      <td>0</td>\n",
       "      <td>0</td>\n",
       "      <td>0</td>\n",
       "      <td>0</td>\n",
       "      <td>0</td>\n",
       "      <td>0</td>\n",
       "      <td>0</td>\n",
       "      <td>0</td>\n",
       "      <td>1</td>\n",
       "    </tr>\n",
       "  </tbody>\n",
       "</table>\n",
       "<p>5 rows × 58 columns</p>\n",
       "</div>"
      ],
      "text/plain": [
       "      Do Not Email  TotalVisits  Total Time Spent on Website  \\\n",
       "7681      0.301634     0.575687                    -0.311318   \n",
       "984       0.301634    -0.090676                    -0.550262   \n",
       "8135     -3.315278    -0.423857                     0.812462   \n",
       "6915      0.301634     0.242505                    -0.628665   \n",
       "2712      0.301634    -0.090676                    -0.421456   \n",
       "\n",
       "      Page Views Per Visit  A free copy of Mastering The Interview  \\\n",
       "7681              0.092860                               -1.448461   \n",
       "984               0.356568                               -1.448461   \n",
       "8135             -0.170849                               -1.448461   \n",
       "6915             -0.170849                               -1.448461   \n",
       "2712              0.356568                                0.690388   \n",
       "\n",
       "      Lead Origin_Landing Page Submission  Lead Origin_Lead Add Form  \\\n",
       "7681                                    1                          0   \n",
       "984                                     1                          0   \n",
       "8135                                    1                          0   \n",
       "6915                                    1                          0   \n",
       "2712                                    0                          0   \n",
       "\n",
       "      Lead Origin_Lead Import  What is your current occupation_Housewife  \\\n",
       "7681                        0                                          0   \n",
       "984                         0                                          0   \n",
       "8135                        0                                          0   \n",
       "6915                        0                                          0   \n",
       "2712                        0                                          0   \n",
       "\n",
       "      What is your current occupation_Other  ...  \\\n",
       "7681                                      0  ...   \n",
       "984                                       0  ...   \n",
       "8135                                      0  ...   \n",
       "6915                                      0  ...   \n",
       "2712                                      0  ...   \n",
       "\n",
       "      Last Notable Activity_Olark Chat Conversation  \\\n",
       "7681                                              0   \n",
       "984                                               0   \n",
       "8135                                              0   \n",
       "6915                                              0   \n",
       "2712                                              0   \n",
       "\n",
       "      Last Notable Activity_Page Visited on Website  \\\n",
       "7681                                              0   \n",
       "984                                               0   \n",
       "8135                                              0   \n",
       "6915                                              0   \n",
       "2712                                              0   \n",
       "\n",
       "      Last Notable Activity_SMS Sent  Tags_Busy  Tags_Closed by Horizzon  \\\n",
       "7681                               1          0                        0   \n",
       "984                                0          0                        0   \n",
       "8135                               1          0                        0   \n",
       "6915                               0          0                        0   \n",
       "2712                               0          0                        0   \n",
       "\n",
       "      Tags_Interested in other courses  Tags_Lost to EINS  Tags_Other_Tags  \\\n",
       "7681                                 0                  0                0   \n",
       "984                                  0                  0                1   \n",
       "8135                                 0                  0                0   \n",
       "6915                                 0                  0                0   \n",
       "2712                                 0                  0                0   \n",
       "\n",
       "      Tags_Ringing  Tags_Will revert after reading the email  \n",
       "7681             1                                         0  \n",
       "984              0                                         0  \n",
       "8135             0                                         0  \n",
       "6915             1                                         0  \n",
       "2712             0                                         1  \n",
       "\n",
       "[5 rows x 58 columns]"
      ]
     },
     "execution_count": 147,
     "metadata": {},
     "output_type": "execute_result"
    }
   ],
   "source": [
    "#scaling test set\n",
    "\n",
    "num_cols = [col for col in X_test if X_test[col].dtype in ['int64','float64']]\n",
    "\n",
    "X_test[num_cols] = scaler.fit_transform(X_test[num_cols])\n",
    "\n",
    "X_test.head()"
   ]
  },
  {
   "cell_type": "code",
   "execution_count": 148,
   "id": "f5b5479c",
   "metadata": {},
   "outputs": [
    {
     "data": {
      "text/html": [
       "<div>\n",
       "<style scoped>\n",
       "    .dataframe tbody tr th:only-of-type {\n",
       "        vertical-align: middle;\n",
       "    }\n",
       "\n",
       "    .dataframe tbody tr th {\n",
       "        vertical-align: top;\n",
       "    }\n",
       "\n",
       "    .dataframe thead th {\n",
       "        text-align: right;\n",
       "    }\n",
       "</style>\n",
       "<table border=\"1\" class=\"dataframe\">\n",
       "  <thead>\n",
       "    <tr style=\"text-align: right;\">\n",
       "      <th></th>\n",
       "      <th>Total Time Spent on Website</th>\n",
       "      <th>Lead Source_Direct Traffic</th>\n",
       "      <th>Lead Source_Google</th>\n",
       "      <th>Lead Source_Organic Search</th>\n",
       "      <th>Lead Source_Referral Sites</th>\n",
       "      <th>Lead Source_Welingak Website</th>\n",
       "      <th>Last Activity_Olark Chat Conversation</th>\n",
       "      <th>Last Activity_SMS Sent</th>\n",
       "      <th>Last Notable Activity_Email Link Clicked</th>\n",
       "      <th>Last Notable Activity_Modified</th>\n",
       "      <th>Tags_Closed by Horizzon</th>\n",
       "      <th>Tags_Interested in other courses</th>\n",
       "      <th>Tags_Lost to EINS</th>\n",
       "      <th>Tags_Other_Tags</th>\n",
       "      <th>Tags_Ringing</th>\n",
       "      <th>Tags_Will revert after reading the email</th>\n",
       "    </tr>\n",
       "  </thead>\n",
       "  <tbody>\n",
       "    <tr>\n",
       "      <th>7681</th>\n",
       "      <td>-0.311318</td>\n",
       "      <td>1</td>\n",
       "      <td>0</td>\n",
       "      <td>0</td>\n",
       "      <td>0</td>\n",
       "      <td>0</td>\n",
       "      <td>0</td>\n",
       "      <td>1</td>\n",
       "      <td>0</td>\n",
       "      <td>0</td>\n",
       "      <td>0</td>\n",
       "      <td>0</td>\n",
       "      <td>0</td>\n",
       "      <td>0</td>\n",
       "      <td>1</td>\n",
       "      <td>0</td>\n",
       "    </tr>\n",
       "    <tr>\n",
       "      <th>984</th>\n",
       "      <td>-0.550262</td>\n",
       "      <td>0</td>\n",
       "      <td>0</td>\n",
       "      <td>1</td>\n",
       "      <td>0</td>\n",
       "      <td>0</td>\n",
       "      <td>0</td>\n",
       "      <td>1</td>\n",
       "      <td>0</td>\n",
       "      <td>1</td>\n",
       "      <td>0</td>\n",
       "      <td>0</td>\n",
       "      <td>0</td>\n",
       "      <td>1</td>\n",
       "      <td>0</td>\n",
       "      <td>0</td>\n",
       "    </tr>\n",
       "    <tr>\n",
       "      <th>8135</th>\n",
       "      <td>0.812462</td>\n",
       "      <td>1</td>\n",
       "      <td>0</td>\n",
       "      <td>0</td>\n",
       "      <td>0</td>\n",
       "      <td>0</td>\n",
       "      <td>0</td>\n",
       "      <td>1</td>\n",
       "      <td>0</td>\n",
       "      <td>0</td>\n",
       "      <td>0</td>\n",
       "      <td>0</td>\n",
       "      <td>0</td>\n",
       "      <td>0</td>\n",
       "      <td>0</td>\n",
       "      <td>0</td>\n",
       "    </tr>\n",
       "    <tr>\n",
       "      <th>6915</th>\n",
       "      <td>-0.628665</td>\n",
       "      <td>0</td>\n",
       "      <td>1</td>\n",
       "      <td>0</td>\n",
       "      <td>0</td>\n",
       "      <td>0</td>\n",
       "      <td>0</td>\n",
       "      <td>0</td>\n",
       "      <td>0</td>\n",
       "      <td>0</td>\n",
       "      <td>0</td>\n",
       "      <td>0</td>\n",
       "      <td>0</td>\n",
       "      <td>0</td>\n",
       "      <td>1</td>\n",
       "      <td>0</td>\n",
       "    </tr>\n",
       "    <tr>\n",
       "      <th>2712</th>\n",
       "      <td>-0.421456</td>\n",
       "      <td>0</td>\n",
       "      <td>1</td>\n",
       "      <td>0</td>\n",
       "      <td>0</td>\n",
       "      <td>0</td>\n",
       "      <td>0</td>\n",
       "      <td>0</td>\n",
       "      <td>0</td>\n",
       "      <td>0</td>\n",
       "      <td>0</td>\n",
       "      <td>0</td>\n",
       "      <td>0</td>\n",
       "      <td>0</td>\n",
       "      <td>0</td>\n",
       "      <td>1</td>\n",
       "    </tr>\n",
       "  </tbody>\n",
       "</table>\n",
       "</div>"
      ],
      "text/plain": [
       "      Total Time Spent on Website  Lead Source_Direct Traffic  \\\n",
       "7681                    -0.311318                           1   \n",
       "984                     -0.550262                           0   \n",
       "8135                     0.812462                           1   \n",
       "6915                    -0.628665                           0   \n",
       "2712                    -0.421456                           0   \n",
       "\n",
       "      Lead Source_Google  Lead Source_Organic Search  \\\n",
       "7681                   0                           0   \n",
       "984                    0                           1   \n",
       "8135                   0                           0   \n",
       "6915                   1                           0   \n",
       "2712                   1                           0   \n",
       "\n",
       "      Lead Source_Referral Sites  Lead Source_Welingak Website  \\\n",
       "7681                           0                             0   \n",
       "984                            0                             0   \n",
       "8135                           0                             0   \n",
       "6915                           0                             0   \n",
       "2712                           0                             0   \n",
       "\n",
       "      Last Activity_Olark Chat Conversation  Last Activity_SMS Sent  \\\n",
       "7681                                      0                       1   \n",
       "984                                       0                       1   \n",
       "8135                                      0                       1   \n",
       "6915                                      0                       0   \n",
       "2712                                      0                       0   \n",
       "\n",
       "      Last Notable Activity_Email Link Clicked  \\\n",
       "7681                                         0   \n",
       "984                                          0   \n",
       "8135                                         0   \n",
       "6915                                         0   \n",
       "2712                                         0   \n",
       "\n",
       "      Last Notable Activity_Modified  Tags_Closed by Horizzon  \\\n",
       "7681                               0                        0   \n",
       "984                                1                        0   \n",
       "8135                               0                        0   \n",
       "6915                               0                        0   \n",
       "2712                               0                        0   \n",
       "\n",
       "      Tags_Interested in other courses  Tags_Lost to EINS  Tags_Other_Tags  \\\n",
       "7681                                 0                  0                0   \n",
       "984                                  0                  0                1   \n",
       "8135                                 0                  0                0   \n",
       "6915                                 0                  0                0   \n",
       "2712                                 0                  0                0   \n",
       "\n",
       "      Tags_Ringing  Tags_Will revert after reading the email  \n",
       "7681             1                                         0  \n",
       "984              0                                         0  \n",
       "8135             0                                         0  \n",
       "6915             1                                         0  \n",
       "2712             0                                         1  "
      ]
     },
     "execution_count": 148,
     "metadata": {},
     "output_type": "execute_result"
    }
   ],
   "source": [
    "X_test = X_test[col]\n",
    "X_test.head()"
   ]
  },
  {
   "cell_type": "code",
   "execution_count": 149,
   "id": "abbfd719",
   "metadata": {},
   "outputs": [],
   "source": [
    "X_test_sm = sm.add_constant(X_test)"
   ]
  },
  {
   "cell_type": "code",
   "execution_count": 150,
   "id": "a08d95b9",
   "metadata": {},
   "outputs": [
    {
     "data": {
      "text/plain": [
       "7681    0.022515\n",
       "984     0.019512\n",
       "8135    0.685844\n",
       "6915    0.003956\n",
       "2712    0.941252\n",
       "244     0.002053\n",
       "4698    0.009619\n",
       "8287    0.020665\n",
       "6791    0.980784\n",
       "8970    0.004426\n",
       "dtype: float64"
      ]
     },
     "execution_count": 150,
     "metadata": {},
     "output_type": "execute_result"
    }
   ],
   "source": [
    "#predictions on Test Set\n",
    "\n",
    "y_test_pred = res.predict(X_test_sm)\n",
    "\n",
    "y_test_pred[:10]"
   ]
  },
  {
   "cell_type": "code",
   "execution_count": 151,
   "id": "53045539",
   "metadata": {},
   "outputs": [
    {
     "data": {
      "text/html": [
       "<div>\n",
       "<style scoped>\n",
       "    .dataframe tbody tr th:only-of-type {\n",
       "        vertical-align: middle;\n",
       "    }\n",
       "\n",
       "    .dataframe tbody tr th {\n",
       "        vertical-align: top;\n",
       "    }\n",
       "\n",
       "    .dataframe thead th {\n",
       "        text-align: right;\n",
       "    }\n",
       "</style>\n",
       "<table border=\"1\" class=\"dataframe\">\n",
       "  <thead>\n",
       "    <tr style=\"text-align: right;\">\n",
       "      <th></th>\n",
       "      <th>0</th>\n",
       "    </tr>\n",
       "  </thead>\n",
       "  <tbody>\n",
       "    <tr>\n",
       "      <th>7681</th>\n",
       "      <td>0.022515</td>\n",
       "    </tr>\n",
       "    <tr>\n",
       "      <th>984</th>\n",
       "      <td>0.019512</td>\n",
       "    </tr>\n",
       "    <tr>\n",
       "      <th>8135</th>\n",
       "      <td>0.685844</td>\n",
       "    </tr>\n",
       "    <tr>\n",
       "      <th>6915</th>\n",
       "      <td>0.003956</td>\n",
       "    </tr>\n",
       "    <tr>\n",
       "      <th>2712</th>\n",
       "      <td>0.941252</td>\n",
       "    </tr>\n",
       "  </tbody>\n",
       "</table>\n",
       "</div>"
      ],
      "text/plain": [
       "             0\n",
       "7681  0.022515\n",
       "984   0.019512\n",
       "8135  0.685844\n",
       "6915  0.003956\n",
       "2712  0.941252"
      ]
     },
     "execution_count": 151,
     "metadata": {},
     "output_type": "execute_result"
    }
   ],
   "source": [
    "#converting y_pred to a dataframe which is an array\n",
    "\n",
    "y_pred_1 = pd.DataFrame(y_test_pred)\n",
    "\n",
    "y_pred_1.head()"
   ]
  },
  {
   "cell_type": "code",
   "execution_count": 152,
   "id": "4310fa45",
   "metadata": {},
   "outputs": [],
   "source": [
    "#converting y_test to dataframe\n",
    "\n",
    "y_test_df = pd.DataFrame(y_test)\n",
    "\n",
    "#putting Cust ID as index\n",
    "\n",
    "y_test_df['Prospect ID'] = y_test_df.index"
   ]
  },
  {
   "cell_type": "code",
   "execution_count": 153,
   "id": "5befa85e",
   "metadata": {},
   "outputs": [
    {
     "data": {
      "text/html": [
       "<div>\n",
       "<style scoped>\n",
       "    .dataframe tbody tr th:only-of-type {\n",
       "        vertical-align: middle;\n",
       "    }\n",
       "\n",
       "    .dataframe tbody tr th {\n",
       "        vertical-align: top;\n",
       "    }\n",
       "\n",
       "    .dataframe thead th {\n",
       "        text-align: right;\n",
       "    }\n",
       "</style>\n",
       "<table border=\"1\" class=\"dataframe\">\n",
       "  <thead>\n",
       "    <tr style=\"text-align: right;\">\n",
       "      <th></th>\n",
       "      <th>Converted</th>\n",
       "      <th>Prospect ID</th>\n",
       "      <th>0</th>\n",
       "    </tr>\n",
       "  </thead>\n",
       "  <tbody>\n",
       "    <tr>\n",
       "      <th>0</th>\n",
       "      <td>0</td>\n",
       "      <td>7681</td>\n",
       "      <td>0.022515</td>\n",
       "    </tr>\n",
       "    <tr>\n",
       "      <th>1</th>\n",
       "      <td>0</td>\n",
       "      <td>984</td>\n",
       "      <td>0.019512</td>\n",
       "    </tr>\n",
       "    <tr>\n",
       "      <th>2</th>\n",
       "      <td>0</td>\n",
       "      <td>8135</td>\n",
       "      <td>0.685844</td>\n",
       "    </tr>\n",
       "    <tr>\n",
       "      <th>3</th>\n",
       "      <td>0</td>\n",
       "      <td>6915</td>\n",
       "      <td>0.003956</td>\n",
       "    </tr>\n",
       "    <tr>\n",
       "      <th>4</th>\n",
       "      <td>1</td>\n",
       "      <td>2712</td>\n",
       "      <td>0.941252</td>\n",
       "    </tr>\n",
       "  </tbody>\n",
       "</table>\n",
       "</div>"
      ],
      "text/plain": [
       "   Converted  Prospect ID         0\n",
       "0          0         7681  0.022515\n",
       "1          0          984  0.019512\n",
       "2          0         8135  0.685844\n",
       "3          0         6915  0.003956\n",
       "4          1         2712  0.941252"
      ]
     },
     "execution_count": 153,
     "metadata": {},
     "output_type": "execute_result"
    }
   ],
   "source": [
    "#removing index for both dataframes to append them side by side \n",
    "\n",
    "y_pred_1.reset_index(drop=True, inplace=True)\n",
    "y_test_df.reset_index(drop=True, inplace=True)\n",
    "\n",
    "y_pred_final = pd.concat([y_test_df, y_pred_1],axis=1)\n",
    "\n",
    "y_pred_final.head()"
   ]
  },
  {
   "cell_type": "code",
   "execution_count": 154,
   "id": "0d83e3f5",
   "metadata": {},
   "outputs": [
    {
     "data": {
      "text/html": [
       "<div>\n",
       "<style scoped>\n",
       "    .dataframe tbody tr th:only-of-type {\n",
       "        vertical-align: middle;\n",
       "    }\n",
       "\n",
       "    .dataframe tbody tr th {\n",
       "        vertical-align: top;\n",
       "    }\n",
       "\n",
       "    .dataframe thead th {\n",
       "        text-align: right;\n",
       "    }\n",
       "</style>\n",
       "<table border=\"1\" class=\"dataframe\">\n",
       "  <thead>\n",
       "    <tr style=\"text-align: right;\">\n",
       "      <th></th>\n",
       "      <th>Converted</th>\n",
       "      <th>Prospect ID</th>\n",
       "      <th>Converted_prob</th>\n",
       "    </tr>\n",
       "  </thead>\n",
       "  <tbody>\n",
       "    <tr>\n",
       "      <th>0</th>\n",
       "      <td>0</td>\n",
       "      <td>7681</td>\n",
       "      <td>0.022515</td>\n",
       "    </tr>\n",
       "    <tr>\n",
       "      <th>1</th>\n",
       "      <td>0</td>\n",
       "      <td>984</td>\n",
       "      <td>0.019512</td>\n",
       "    </tr>\n",
       "    <tr>\n",
       "      <th>2</th>\n",
       "      <td>0</td>\n",
       "      <td>8135</td>\n",
       "      <td>0.685844</td>\n",
       "    </tr>\n",
       "    <tr>\n",
       "      <th>3</th>\n",
       "      <td>0</td>\n",
       "      <td>6915</td>\n",
       "      <td>0.003956</td>\n",
       "    </tr>\n",
       "    <tr>\n",
       "      <th>4</th>\n",
       "      <td>1</td>\n",
       "      <td>2712</td>\n",
       "      <td>0.941252</td>\n",
       "    </tr>\n",
       "  </tbody>\n",
       "</table>\n",
       "</div>"
      ],
      "text/plain": [
       "   Converted  Prospect ID  Converted_prob\n",
       "0          0         7681        0.022515\n",
       "1          0          984        0.019512\n",
       "2          0         8135        0.685844\n",
       "3          0         6915        0.003956\n",
       "4          1         2712        0.941252"
      ]
     },
     "execution_count": 154,
     "metadata": {},
     "output_type": "execute_result"
    }
   ],
   "source": [
    "#renaming the column \n",
    "\n",
    "y_pred_final= y_pred_final.rename(columns={ 0 : 'Converted_prob'})\n",
    "\n",
    "y_pred_final.head()"
   ]
  },
  {
   "cell_type": "code",
   "execution_count": 155,
   "id": "ef6a233e",
   "metadata": {},
   "outputs": [
    {
     "data": {
      "text/html": [
       "<div>\n",
       "<style scoped>\n",
       "    .dataframe tbody tr th:only-of-type {\n",
       "        vertical-align: middle;\n",
       "    }\n",
       "\n",
       "    .dataframe tbody tr th {\n",
       "        vertical-align: top;\n",
       "    }\n",
       "\n",
       "    .dataframe thead th {\n",
       "        text-align: right;\n",
       "    }\n",
       "</style>\n",
       "<table border=\"1\" class=\"dataframe\">\n",
       "  <thead>\n",
       "    <tr style=\"text-align: right;\">\n",
       "      <th></th>\n",
       "      <th>Prospect ID</th>\n",
       "      <th>Converted</th>\n",
       "      <th>Converted_prob</th>\n",
       "      <th>Lead_Score</th>\n",
       "    </tr>\n",
       "  </thead>\n",
       "  <tbody>\n",
       "    <tr>\n",
       "      <th>0</th>\n",
       "      <td>7681</td>\n",
       "      <td>0</td>\n",
       "      <td>0.022515</td>\n",
       "      <td>2</td>\n",
       "    </tr>\n",
       "    <tr>\n",
       "      <th>1</th>\n",
       "      <td>984</td>\n",
       "      <td>0</td>\n",
       "      <td>0.019512</td>\n",
       "      <td>2</td>\n",
       "    </tr>\n",
       "    <tr>\n",
       "      <th>2</th>\n",
       "      <td>8135</td>\n",
       "      <td>0</td>\n",
       "      <td>0.685844</td>\n",
       "      <td>69</td>\n",
       "    </tr>\n",
       "    <tr>\n",
       "      <th>3</th>\n",
       "      <td>6915</td>\n",
       "      <td>0</td>\n",
       "      <td>0.003956</td>\n",
       "      <td>0</td>\n",
       "    </tr>\n",
       "    <tr>\n",
       "      <th>4</th>\n",
       "      <td>2712</td>\n",
       "      <td>1</td>\n",
       "      <td>0.941252</td>\n",
       "      <td>94</td>\n",
       "    </tr>\n",
       "  </tbody>\n",
       "</table>\n",
       "</div>"
      ],
      "text/plain": [
       "   Prospect ID  Converted  Converted_prob  Lead_Score\n",
       "0         7681          0        0.022515           2\n",
       "1          984          0        0.019512           2\n",
       "2         8135          0        0.685844          69\n",
       "3         6915          0        0.003956           0\n",
       "4         2712          1        0.941252          94"
      ]
     },
     "execution_count": 155,
     "metadata": {},
     "output_type": "execute_result"
    }
   ],
   "source": [
    "#rearranging the columns\n",
    "\n",
    "y_pred_final = y_pred_final[['Prospect ID','Converted','Converted_prob']]\n",
    "y_pred_final['Lead_Score'] = y_pred_final.Converted_prob.map(lambda x: round(x*100))\n",
    "\n",
    "y_pred_final.head()"
   ]
  },
  {
   "cell_type": "code",
   "execution_count": 156,
   "id": "c40e053a",
   "metadata": {},
   "outputs": [
    {
     "data": {
      "text/html": [
       "<div>\n",
       "<style scoped>\n",
       "    .dataframe tbody tr th:only-of-type {\n",
       "        vertical-align: middle;\n",
       "    }\n",
       "\n",
       "    .dataframe tbody tr th {\n",
       "        vertical-align: top;\n",
       "    }\n",
       "\n",
       "    .dataframe thead th {\n",
       "        text-align: right;\n",
       "    }\n",
       "</style>\n",
       "<table border=\"1\" class=\"dataframe\">\n",
       "  <thead>\n",
       "    <tr style=\"text-align: right;\">\n",
       "      <th></th>\n",
       "      <th>Prospect ID</th>\n",
       "      <th>Converted</th>\n",
       "      <th>Converted_prob</th>\n",
       "      <th>Lead_Score</th>\n",
       "      <th>final_Predicted</th>\n",
       "    </tr>\n",
       "  </thead>\n",
       "  <tbody>\n",
       "    <tr>\n",
       "      <th>0</th>\n",
       "      <td>7681</td>\n",
       "      <td>0</td>\n",
       "      <td>0.022515</td>\n",
       "      <td>2</td>\n",
       "      <td>0</td>\n",
       "    </tr>\n",
       "    <tr>\n",
       "      <th>1</th>\n",
       "      <td>984</td>\n",
       "      <td>0</td>\n",
       "      <td>0.019512</td>\n",
       "      <td>2</td>\n",
       "      <td>0</td>\n",
       "    </tr>\n",
       "    <tr>\n",
       "      <th>2</th>\n",
       "      <td>8135</td>\n",
       "      <td>0</td>\n",
       "      <td>0.685844</td>\n",
       "      <td>69</td>\n",
       "      <td>1</td>\n",
       "    </tr>\n",
       "    <tr>\n",
       "      <th>3</th>\n",
       "      <td>6915</td>\n",
       "      <td>0</td>\n",
       "      <td>0.003956</td>\n",
       "      <td>0</td>\n",
       "      <td>0</td>\n",
       "    </tr>\n",
       "    <tr>\n",
       "      <th>4</th>\n",
       "      <td>2712</td>\n",
       "      <td>1</td>\n",
       "      <td>0.941252</td>\n",
       "      <td>94</td>\n",
       "      <td>1</td>\n",
       "    </tr>\n",
       "  </tbody>\n",
       "</table>\n",
       "</div>"
      ],
      "text/plain": [
       "   Prospect ID  Converted  Converted_prob  Lead_Score  final_Predicted\n",
       "0         7681          0        0.022515           2                0\n",
       "1          984          0        0.019512           2                0\n",
       "2         8135          0        0.685844          69                1\n",
       "3         6915          0        0.003956           0                0\n",
       "4         2712          1        0.941252          94                1"
      ]
     },
     "execution_count": 156,
     "metadata": {},
     "output_type": "execute_result"
    }
   ],
   "source": [
    "y_pred_final['final_Predicted'] = y_pred_final['Converted_prob'].map(lambda x: 1 if x > 0.3 else 0)\n",
    "\n",
    "y_pred_final.head()"
   ]
  },
  {
   "cell_type": "code",
   "execution_count": 157,
   "id": "3d8feeae",
   "metadata": {},
   "outputs": [
    {
     "data": {
      "text/plain": [
       "0.9255398361876396"
      ]
     },
     "execution_count": 157,
     "metadata": {},
     "output_type": "execute_result"
    }
   ],
   "source": [
    "#let's check the overall accuracy\n",
    "\n",
    "metrics.accuracy_score(y_pred_final['Converted'], y_pred_final['final_Predicted'])"
   ]
  },
  {
   "cell_type": "code",
   "execution_count": 158,
   "id": "018dd9d3",
   "metadata": {},
   "outputs": [
    {
     "data": {
      "text/plain": [
       "array([[1563,  113],\n",
       "       [  87,  923]], dtype=int64)"
      ]
     },
     "execution_count": 158,
     "metadata": {},
     "output_type": "execute_result"
    }
   ],
   "source": [
    "#confusion matrix\n",
    "\n",
    "confusion = metrics.confusion_matrix(y_pred_final.Converted, y_pred_final.final_Predicted )\n",
    "confusion"
   ]
  },
  {
   "cell_type": "code",
   "execution_count": 159,
   "id": "b3685fc0",
   "metadata": {},
   "outputs": [],
   "source": [
    "TP = confusion[1,1] # true positive \n",
    "TN = confusion[0,0] # true negatives\n",
    "FP = confusion[0,1] # false positives\n",
    "FN = confusion[1,0] # false negatives"
   ]
  },
  {
   "cell_type": "code",
   "execution_count": 160,
   "id": "b292f8ab",
   "metadata": {},
   "outputs": [
    {
     "data": {
      "text/plain": [
       "0.9138613861386139"
      ]
     },
     "execution_count": 160,
     "metadata": {},
     "output_type": "execute_result"
    }
   ],
   "source": [
    "#sensitivity of our logistic regression model is\n",
    "\n",
    "TP / float(TP+FN)"
   ]
  },
  {
   "cell_type": "code",
   "execution_count": 161,
   "id": "3da00b7f",
   "metadata": {},
   "outputs": [
    {
     "data": {
      "text/plain": [
       "0.9325775656324582"
      ]
     },
     "execution_count": 161,
     "metadata": {},
     "output_type": "execute_result"
    }
   ],
   "source": [
    "#specificity\n",
    "\n",
    "TN / float(TN+FP)"
   ]
  },
  {
   "cell_type": "code",
   "execution_count": 162,
   "id": "8bfb79de",
   "metadata": {},
   "outputs": [
    {
     "data": {
      "text/plain": [
       "0.890926640926641"
      ]
     },
     "execution_count": 162,
     "metadata": {},
     "output_type": "execute_result"
    }
   ],
   "source": [
    "precision_score(y_pred_final['Converted'], y_pred_final['final_Predicted'])"
   ]
  },
  {
   "cell_type": "code",
   "execution_count": 163,
   "id": "22348b8e",
   "metadata": {},
   "outputs": [
    {
     "data": {
      "text/plain": [
       "0.9138613861386139"
      ]
     },
     "execution_count": 163,
     "metadata": {},
     "output_type": "execute_result"
    }
   ],
   "source": [
    "recall_score(y_pred_final['Converted'], y_pred_final['final_Predicted'])"
   ]
  },
  {
   "cell_type": "markdown",
   "id": "17e27535",
   "metadata": {},
   "source": [
    "### Observation:\n",
    "\n",
    "Following values are obtained after running the model on Test Data:\n",
    "\n",
    "- **Accuracy** : 92.55%\n",
    "\n",
    "\n",
    "- **Sensitivity** : 91.39%\n",
    "\n",
    "\n",
    "- **Specificity** : 93.26%\n",
    "\n",
    "<br>\n",
    "\n",
    "- **Precision** : 89.09%\n",
    "\n",
    "\n",
    "- **Recall** : 91.37%"
   ]
  },
  {
   "cell_type": "markdown",
   "id": "d264debf",
   "metadata": {},
   "source": [
    "## Conclusion:\n",
    "\n",
    "- Leads Sources (such as Google and Direct Traffic) can bring a lot of business to the company as the Lead conversion is very high compared to other sources.\n",
    "\n",
    "\n",
    "- Leads who spend more time on the website and were last connected  by SMS are more likely to get converted.\n",
    "\n",
    "\n",
    "- Unemployed Leads can be focused as they are more likely to select the course as it is going to help them in getting better career opportunities.\n",
    "\n",
    "\n",
    "- The next group that can be focused on are the Working Professionals as they are likely to choose the course for better job possibilities.\n",
    "\n",
    "\n",
    "- People who revert to the email are more likely to opt for the courses.\n",
    "\n",
    "\n",
    "- This model is able to predict 91% of the converted data accurately and this will help the business in increasing the business revenue as the company will be able to increase their conversions by focusing more on candidates that are more likely to get converted.  \n",
    "\n",
    "Since the Model seems to predict the Conversion Rate effectively we should be able to give the CEO confidence in making wise decisions. \n",
    "\n",
    "#### Thank You."
   ]
  }
 ],
 "metadata": {
  "kernelspec": {
   "display_name": "Python 3 (ipykernel)",
   "language": "python",
   "name": "python3"
  },
  "language_info": {
   "codemirror_mode": {
    "name": "ipython",
    "version": 3
   },
   "file_extension": ".py",
   "mimetype": "text/x-python",
   "name": "python",
   "nbconvert_exporter": "python",
   "pygments_lexer": "ipython3",
   "version": "3.9.12"
  }
 },
 "nbformat": 4,
 "nbformat_minor": 5
}
